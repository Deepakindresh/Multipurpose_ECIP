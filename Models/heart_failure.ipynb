{
  "cells": [
    {
      "cell_type": "markdown",
      "metadata": {
        "id": "RYjkKmJm4pfd"
      },
      "source": [
        "# ECIP Models for Software Defect Prediction Dataset"
      ]
    },
    {
      "cell_type": "markdown",
      "metadata": {
        "id": "8f9NBQgF4lPl"
      },
      "source": [
        "## Import"
      ]
    },
    {
      "cell_type": "code",
      "execution_count": 29,
      "metadata": {
        "id": "Bjl35YxY0kaq"
      },
      "outputs": [],
      "source": [
        "from imblearn.over_sampling import RandomOverSampler\n",
        "from imblearn.over_sampling import SMOTE\n",
        "from imblearn.under_sampling import RandomUnderSampler\n",
        "from sklearn.preprocessing import LabelEncoder\n",
        "from sklearn.model_selection import train_test_split\n",
        "from sklearn.metrics import accuracy_score,f1_score, confusion_matrix\n",
        "import pandas as pd\n",
        "import numpy as np\n",
        "from collections import Counter\n",
        "import random\n",
        "from sklearn import tree\n",
        "from sklearn.linear_model import LogisticRegression\n",
        "from sklearn.ensemble import RandomForestClassifier,BaggingClassifier,AdaBoostClassifier\n",
        "from imblearn.ensemble import EasyEnsembleClassifier\n",
        "from sklearn.metrics import f1_score\n",
        "\n",
        "import math\n"
      ]
    },
    {
      "cell_type": "code",
      "execution_count": 30,
      "metadata": {
        "colab": {
          "base_uri": "https://localhost:8080/"
        },
        "id": "0Qjjfwxv0kax",
        "outputId": "2d94201c-299c-488e-a0cc-a28be0c3b460"
      },
      "outputs": [
        {
          "data": {
            "text/html": [
              "<div>\n",
              "<style scoped>\n",
              "    .dataframe tbody tr th:only-of-type {\n",
              "        vertical-align: middle;\n",
              "    }\n",
              "\n",
              "    .dataframe tbody tr th {\n",
              "        vertical-align: top;\n",
              "    }\n",
              "\n",
              "    .dataframe thead th {\n",
              "        text-align: right;\n",
              "    }\n",
              "</style>\n",
              "<table border=\"1\" class=\"dataframe\">\n",
              "  <thead>\n",
              "    <tr style=\"text-align: right;\">\n",
              "      <th></th>\n",
              "      <th>Age</th>\n",
              "      <th>Sex</th>\n",
              "      <th>ChestPainType</th>\n",
              "      <th>RestingBP</th>\n",
              "      <th>Cholesterol</th>\n",
              "      <th>FastingBS</th>\n",
              "      <th>RestingECG</th>\n",
              "      <th>MaxHR</th>\n",
              "      <th>ExerciseAngina</th>\n",
              "      <th>Oldpeak</th>\n",
              "      <th>ST_Slope</th>\n",
              "      <th>HeartDisease</th>\n",
              "    </tr>\n",
              "  </thead>\n",
              "  <tbody>\n",
              "    <tr>\n",
              "      <th>0</th>\n",
              "      <td>40</td>\n",
              "      <td>M</td>\n",
              "      <td>ATA</td>\n",
              "      <td>140</td>\n",
              "      <td>289</td>\n",
              "      <td>0</td>\n",
              "      <td>Normal</td>\n",
              "      <td>172</td>\n",
              "      <td>N</td>\n",
              "      <td>0.0</td>\n",
              "      <td>Up</td>\n",
              "      <td>0</td>\n",
              "    </tr>\n",
              "    <tr>\n",
              "      <th>1</th>\n",
              "      <td>49</td>\n",
              "      <td>F</td>\n",
              "      <td>NAP</td>\n",
              "      <td>160</td>\n",
              "      <td>180</td>\n",
              "      <td>0</td>\n",
              "      <td>Normal</td>\n",
              "      <td>156</td>\n",
              "      <td>N</td>\n",
              "      <td>1.0</td>\n",
              "      <td>Flat</td>\n",
              "      <td>1</td>\n",
              "    </tr>\n",
              "    <tr>\n",
              "      <th>2</th>\n",
              "      <td>37</td>\n",
              "      <td>M</td>\n",
              "      <td>ATA</td>\n",
              "      <td>130</td>\n",
              "      <td>283</td>\n",
              "      <td>0</td>\n",
              "      <td>ST</td>\n",
              "      <td>98</td>\n",
              "      <td>N</td>\n",
              "      <td>0.0</td>\n",
              "      <td>Up</td>\n",
              "      <td>0</td>\n",
              "    </tr>\n",
              "    <tr>\n",
              "      <th>3</th>\n",
              "      <td>48</td>\n",
              "      <td>F</td>\n",
              "      <td>ASY</td>\n",
              "      <td>138</td>\n",
              "      <td>214</td>\n",
              "      <td>0</td>\n",
              "      <td>Normal</td>\n",
              "      <td>108</td>\n",
              "      <td>Y</td>\n",
              "      <td>1.5</td>\n",
              "      <td>Flat</td>\n",
              "      <td>1</td>\n",
              "    </tr>\n",
              "    <tr>\n",
              "      <th>4</th>\n",
              "      <td>54</td>\n",
              "      <td>M</td>\n",
              "      <td>NAP</td>\n",
              "      <td>150</td>\n",
              "      <td>195</td>\n",
              "      <td>0</td>\n",
              "      <td>Normal</td>\n",
              "      <td>122</td>\n",
              "      <td>N</td>\n",
              "      <td>0.0</td>\n",
              "      <td>Up</td>\n",
              "      <td>0</td>\n",
              "    </tr>\n",
              "  </tbody>\n",
              "</table>\n",
              "</div>"
            ],
            "text/plain": [
              "   Age Sex ChestPainType  RestingBP  Cholesterol  FastingBS RestingECG  MaxHR  \\\n",
              "0   40   M           ATA        140          289          0     Normal    172   \n",
              "1   49   F           NAP        160          180          0     Normal    156   \n",
              "2   37   M           ATA        130          283          0         ST     98   \n",
              "3   48   F           ASY        138          214          0     Normal    108   \n",
              "4   54   M           NAP        150          195          0     Normal    122   \n",
              "\n",
              "  ExerciseAngina  Oldpeak ST_Slope  HeartDisease  \n",
              "0              N      0.0       Up             0  \n",
              "1              N      1.0     Flat             1  \n",
              "2              N      0.0       Up             0  \n",
              "3              Y      1.5     Flat             1  \n",
              "4              N      0.0       Up             0  "
            ]
          },
          "execution_count": 30,
          "metadata": {},
          "output_type": "execute_result"
        }
      ],
      "source": [
        "df = pd.read_csv(\"./heart_failure.csv\")\n",
        "df.head()"
      ]
    },
    {
      "cell_type": "code",
      "execution_count": 31,
      "metadata": {},
      "outputs": [
        {
          "data": {
            "text/html": [
              "<div>\n",
              "<style scoped>\n",
              "    .dataframe tbody tr th:only-of-type {\n",
              "        vertical-align: middle;\n",
              "    }\n",
              "\n",
              "    .dataframe tbody tr th {\n",
              "        vertical-align: top;\n",
              "    }\n",
              "\n",
              "    .dataframe thead th {\n",
              "        text-align: right;\n",
              "    }\n",
              "</style>\n",
              "<table border=\"1\" class=\"dataframe\">\n",
              "  <thead>\n",
              "    <tr style=\"text-align: right;\">\n",
              "      <th></th>\n",
              "      <th>Age</th>\n",
              "      <th>Sex</th>\n",
              "      <th>ChestPainType</th>\n",
              "      <th>RestingBP</th>\n",
              "      <th>Cholesterol</th>\n",
              "      <th>FastingBS</th>\n",
              "      <th>RestingECG</th>\n",
              "      <th>MaxHR</th>\n",
              "      <th>ExerciseAngina</th>\n",
              "      <th>Oldpeak</th>\n",
              "      <th>ST_Slope</th>\n",
              "      <th>HeartDisease</th>\n",
              "    </tr>\n",
              "  </thead>\n",
              "  <tbody>\n",
              "    <tr>\n",
              "      <th>0</th>\n",
              "      <td>40</td>\n",
              "      <td>1</td>\n",
              "      <td>1</td>\n",
              "      <td>140</td>\n",
              "      <td>289</td>\n",
              "      <td>0</td>\n",
              "      <td>1</td>\n",
              "      <td>172</td>\n",
              "      <td>0</td>\n",
              "      <td>0.0</td>\n",
              "      <td>2</td>\n",
              "      <td>0</td>\n",
              "    </tr>\n",
              "    <tr>\n",
              "      <th>1</th>\n",
              "      <td>49</td>\n",
              "      <td>0</td>\n",
              "      <td>2</td>\n",
              "      <td>160</td>\n",
              "      <td>180</td>\n",
              "      <td>0</td>\n",
              "      <td>1</td>\n",
              "      <td>156</td>\n",
              "      <td>0</td>\n",
              "      <td>1.0</td>\n",
              "      <td>1</td>\n",
              "      <td>1</td>\n",
              "    </tr>\n",
              "    <tr>\n",
              "      <th>2</th>\n",
              "      <td>37</td>\n",
              "      <td>1</td>\n",
              "      <td>1</td>\n",
              "      <td>130</td>\n",
              "      <td>283</td>\n",
              "      <td>0</td>\n",
              "      <td>2</td>\n",
              "      <td>98</td>\n",
              "      <td>0</td>\n",
              "      <td>0.0</td>\n",
              "      <td>2</td>\n",
              "      <td>0</td>\n",
              "    </tr>\n",
              "    <tr>\n",
              "      <th>3</th>\n",
              "      <td>48</td>\n",
              "      <td>0</td>\n",
              "      <td>0</td>\n",
              "      <td>138</td>\n",
              "      <td>214</td>\n",
              "      <td>0</td>\n",
              "      <td>1</td>\n",
              "      <td>108</td>\n",
              "      <td>1</td>\n",
              "      <td>1.5</td>\n",
              "      <td>1</td>\n",
              "      <td>1</td>\n",
              "    </tr>\n",
              "    <tr>\n",
              "      <th>4</th>\n",
              "      <td>54</td>\n",
              "      <td>1</td>\n",
              "      <td>2</td>\n",
              "      <td>150</td>\n",
              "      <td>195</td>\n",
              "      <td>0</td>\n",
              "      <td>1</td>\n",
              "      <td>122</td>\n",
              "      <td>0</td>\n",
              "      <td>0.0</td>\n",
              "      <td>2</td>\n",
              "      <td>0</td>\n",
              "    </tr>\n",
              "  </tbody>\n",
              "</table>\n",
              "</div>"
            ],
            "text/plain": [
              "   Age  Sex  ChestPainType  RestingBP  Cholesterol  FastingBS  RestingECG  \\\n",
              "0   40    1              1        140          289          0           1   \n",
              "1   49    0              2        160          180          0           1   \n",
              "2   37    1              1        130          283          0           2   \n",
              "3   48    0              0        138          214          0           1   \n",
              "4   54    1              2        150          195          0           1   \n",
              "\n",
              "   MaxHR  ExerciseAngina  Oldpeak  ST_Slope  HeartDisease  \n",
              "0    172               0      0.0         2             0  \n",
              "1    156               0      1.0         1             1  \n",
              "2     98               0      0.0         2             0  \n",
              "3    108               1      1.5         1             1  \n",
              "4    122               0      0.0         2             0  "
            ]
          },
          "execution_count": 31,
          "metadata": {},
          "output_type": "execute_result"
        }
      ],
      "source": [
        "le = LabelEncoder()\n",
        "df['Sex'] = le.fit_transform(df[\"Sex\"])\n",
        "df[\"ChestPainType\"] = le.fit_transform(df[\"ChestPainType\"])\n",
        "df[\"RestingECG\"] = le.fit_transform(df[\"RestingECG\"])\n",
        "df[\"ExerciseAngina\"] = le.fit_transform(df[\"ExerciseAngina\"])\n",
        "df[\"ST_Slope\"] = le.fit_transform(df[\"ST_Slope\"])\n",
        "df.head()"
      ]
    },
    {
      "cell_type": "markdown",
      "metadata": {
        "id": "n_r5dgcm5C-9"
      },
      "source": [
        "## Data Preprocessing"
      ]
    },
    {
      "cell_type": "code",
      "execution_count": 32,
      "metadata": {
        "colab": {
          "base_uri": "https://localhost:8080/",
          "height": 602
        },
        "id": "VAog2nDl0ka0",
        "outputId": "992eb868-c8e7-4e33-d3a1-c1964189c2d3"
      },
      "outputs": [
        {
          "data": {
            "text/html": [
              "<div>\n",
              "<style scoped>\n",
              "    .dataframe tbody tr th:only-of-type {\n",
              "        vertical-align: middle;\n",
              "    }\n",
              "\n",
              "    .dataframe tbody tr th {\n",
              "        vertical-align: top;\n",
              "    }\n",
              "\n",
              "    .dataframe thead th {\n",
              "        text-align: right;\n",
              "    }\n",
              "</style>\n",
              "<table border=\"1\" class=\"dataframe\">\n",
              "  <thead>\n",
              "    <tr style=\"text-align: right;\">\n",
              "      <th></th>\n",
              "      <th>Age</th>\n",
              "      <th>Sex</th>\n",
              "      <th>ChestPainType</th>\n",
              "      <th>RestingBP</th>\n",
              "      <th>Cholesterol</th>\n",
              "      <th>FastingBS</th>\n",
              "      <th>RestingECG</th>\n",
              "      <th>MaxHR</th>\n",
              "      <th>ExerciseAngina</th>\n",
              "      <th>Oldpeak</th>\n",
              "      <th>ST_Slope</th>\n",
              "      <th>HeartDisease</th>\n",
              "    </tr>\n",
              "  </thead>\n",
              "  <tbody>\n",
              "    <tr>\n",
              "      <th>Age</th>\n",
              "      <td>1.000000</td>\n",
              "      <td>0.055750</td>\n",
              "      <td>-0.077150</td>\n",
              "      <td>0.254399</td>\n",
              "      <td>-0.095282</td>\n",
              "      <td>0.198039</td>\n",
              "      <td>-0.007484</td>\n",
              "      <td>-0.382045</td>\n",
              "      <td>0.215793</td>\n",
              "      <td>0.258612</td>\n",
              "      <td>-0.268264</td>\n",
              "      <td>0.282039</td>\n",
              "    </tr>\n",
              "    <tr>\n",
              "      <th>Sex</th>\n",
              "      <td>0.055750</td>\n",
              "      <td>1.000000</td>\n",
              "      <td>-0.126559</td>\n",
              "      <td>0.005133</td>\n",
              "      <td>-0.200092</td>\n",
              "      <td>0.120076</td>\n",
              "      <td>0.071552</td>\n",
              "      <td>-0.189186</td>\n",
              "      <td>0.190664</td>\n",
              "      <td>0.105734</td>\n",
              "      <td>-0.150693</td>\n",
              "      <td>0.305445</td>\n",
              "    </tr>\n",
              "    <tr>\n",
              "      <th>ChestPainType</th>\n",
              "      <td>-0.077150</td>\n",
              "      <td>-0.126559</td>\n",
              "      <td>1.000000</td>\n",
              "      <td>-0.020647</td>\n",
              "      <td>0.067880</td>\n",
              "      <td>-0.073151</td>\n",
              "      <td>-0.072537</td>\n",
              "      <td>0.289123</td>\n",
              "      <td>-0.354727</td>\n",
              "      <td>-0.177377</td>\n",
              "      <td>0.213521</td>\n",
              "      <td>-0.386828</td>\n",
              "    </tr>\n",
              "    <tr>\n",
              "      <th>RestingBP</th>\n",
              "      <td>0.254399</td>\n",
              "      <td>0.005133</td>\n",
              "      <td>-0.020647</td>\n",
              "      <td>1.000000</td>\n",
              "      <td>0.100893</td>\n",
              "      <td>0.070193</td>\n",
              "      <td>0.022656</td>\n",
              "      <td>-0.112135</td>\n",
              "      <td>0.155101</td>\n",
              "      <td>0.164803</td>\n",
              "      <td>-0.075162</td>\n",
              "      <td>0.107589</td>\n",
              "    </tr>\n",
              "    <tr>\n",
              "      <th>Cholesterol</th>\n",
              "      <td>-0.095282</td>\n",
              "      <td>-0.200092</td>\n",
              "      <td>0.067880</td>\n",
              "      <td>0.100893</td>\n",
              "      <td>1.000000</td>\n",
              "      <td>-0.260974</td>\n",
              "      <td>-0.196544</td>\n",
              "      <td>0.235792</td>\n",
              "      <td>-0.034166</td>\n",
              "      <td>0.050148</td>\n",
              "      <td>0.111471</td>\n",
              "      <td>-0.232741</td>\n",
              "    </tr>\n",
              "    <tr>\n",
              "      <th>FastingBS</th>\n",
              "      <td>0.198039</td>\n",
              "      <td>0.120076</td>\n",
              "      <td>-0.073151</td>\n",
              "      <td>0.070193</td>\n",
              "      <td>-0.260974</td>\n",
              "      <td>1.000000</td>\n",
              "      <td>0.087050</td>\n",
              "      <td>-0.131438</td>\n",
              "      <td>0.060451</td>\n",
              "      <td>0.052698</td>\n",
              "      <td>-0.175774</td>\n",
              "      <td>0.267291</td>\n",
              "    </tr>\n",
              "    <tr>\n",
              "      <th>RestingECG</th>\n",
              "      <td>-0.007484</td>\n",
              "      <td>0.071552</td>\n",
              "      <td>-0.072537</td>\n",
              "      <td>0.022656</td>\n",
              "      <td>-0.196544</td>\n",
              "      <td>0.087050</td>\n",
              "      <td>1.000000</td>\n",
              "      <td>-0.179276</td>\n",
              "      <td>0.077500</td>\n",
              "      <td>-0.020438</td>\n",
              "      <td>-0.006778</td>\n",
              "      <td>0.057384</td>\n",
              "    </tr>\n",
              "    <tr>\n",
              "      <th>MaxHR</th>\n",
              "      <td>-0.382045</td>\n",
              "      <td>-0.189186</td>\n",
              "      <td>0.289123</td>\n",
              "      <td>-0.112135</td>\n",
              "      <td>0.235792</td>\n",
              "      <td>-0.131438</td>\n",
              "      <td>-0.179276</td>\n",
              "      <td>1.000000</td>\n",
              "      <td>-0.370425</td>\n",
              "      <td>-0.160691</td>\n",
              "      <td>0.343419</td>\n",
              "      <td>-0.400421</td>\n",
              "    </tr>\n",
              "    <tr>\n",
              "      <th>ExerciseAngina</th>\n",
              "      <td>0.215793</td>\n",
              "      <td>0.190664</td>\n",
              "      <td>-0.354727</td>\n",
              "      <td>0.155101</td>\n",
              "      <td>-0.034166</td>\n",
              "      <td>0.060451</td>\n",
              "      <td>0.077500</td>\n",
              "      <td>-0.370425</td>\n",
              "      <td>1.000000</td>\n",
              "      <td>0.408752</td>\n",
              "      <td>-0.428706</td>\n",
              "      <td>0.494282</td>\n",
              "    </tr>\n",
              "    <tr>\n",
              "      <th>Oldpeak</th>\n",
              "      <td>0.258612</td>\n",
              "      <td>0.105734</td>\n",
              "      <td>-0.177377</td>\n",
              "      <td>0.164803</td>\n",
              "      <td>0.050148</td>\n",
              "      <td>0.052698</td>\n",
              "      <td>-0.020438</td>\n",
              "      <td>-0.160691</td>\n",
              "      <td>0.408752</td>\n",
              "      <td>1.000000</td>\n",
              "      <td>-0.501921</td>\n",
              "      <td>0.403951</td>\n",
              "    </tr>\n",
              "    <tr>\n",
              "      <th>ST_Slope</th>\n",
              "      <td>-0.268264</td>\n",
              "      <td>-0.150693</td>\n",
              "      <td>0.213521</td>\n",
              "      <td>-0.075162</td>\n",
              "      <td>0.111471</td>\n",
              "      <td>-0.175774</td>\n",
              "      <td>-0.006778</td>\n",
              "      <td>0.343419</td>\n",
              "      <td>-0.428706</td>\n",
              "      <td>-0.501921</td>\n",
              "      <td>1.000000</td>\n",
              "      <td>-0.558771</td>\n",
              "    </tr>\n",
              "    <tr>\n",
              "      <th>HeartDisease</th>\n",
              "      <td>0.282039</td>\n",
              "      <td>0.305445</td>\n",
              "      <td>-0.386828</td>\n",
              "      <td>0.107589</td>\n",
              "      <td>-0.232741</td>\n",
              "      <td>0.267291</td>\n",
              "      <td>0.057384</td>\n",
              "      <td>-0.400421</td>\n",
              "      <td>0.494282</td>\n",
              "      <td>0.403951</td>\n",
              "      <td>-0.558771</td>\n",
              "      <td>1.000000</td>\n",
              "    </tr>\n",
              "  </tbody>\n",
              "</table>\n",
              "</div>"
            ],
            "text/plain": [
              "                     Age       Sex  ChestPainType  RestingBP  Cholesterol  \\\n",
              "Age             1.000000  0.055750      -0.077150   0.254399    -0.095282   \n",
              "Sex             0.055750  1.000000      -0.126559   0.005133    -0.200092   \n",
              "ChestPainType  -0.077150 -0.126559       1.000000  -0.020647     0.067880   \n",
              "RestingBP       0.254399  0.005133      -0.020647   1.000000     0.100893   \n",
              "Cholesterol    -0.095282 -0.200092       0.067880   0.100893     1.000000   \n",
              "FastingBS       0.198039  0.120076      -0.073151   0.070193    -0.260974   \n",
              "RestingECG     -0.007484  0.071552      -0.072537   0.022656    -0.196544   \n",
              "MaxHR          -0.382045 -0.189186       0.289123  -0.112135     0.235792   \n",
              "ExerciseAngina  0.215793  0.190664      -0.354727   0.155101    -0.034166   \n",
              "Oldpeak         0.258612  0.105734      -0.177377   0.164803     0.050148   \n",
              "ST_Slope       -0.268264 -0.150693       0.213521  -0.075162     0.111471   \n",
              "HeartDisease    0.282039  0.305445      -0.386828   0.107589    -0.232741   \n",
              "\n",
              "                FastingBS  RestingECG     MaxHR  ExerciseAngina   Oldpeak  \\\n",
              "Age              0.198039   -0.007484 -0.382045        0.215793  0.258612   \n",
              "Sex              0.120076    0.071552 -0.189186        0.190664  0.105734   \n",
              "ChestPainType   -0.073151   -0.072537  0.289123       -0.354727 -0.177377   \n",
              "RestingBP        0.070193    0.022656 -0.112135        0.155101  0.164803   \n",
              "Cholesterol     -0.260974   -0.196544  0.235792       -0.034166  0.050148   \n",
              "FastingBS        1.000000    0.087050 -0.131438        0.060451  0.052698   \n",
              "RestingECG       0.087050    1.000000 -0.179276        0.077500 -0.020438   \n",
              "MaxHR           -0.131438   -0.179276  1.000000       -0.370425 -0.160691   \n",
              "ExerciseAngina   0.060451    0.077500 -0.370425        1.000000  0.408752   \n",
              "Oldpeak          0.052698   -0.020438 -0.160691        0.408752  1.000000   \n",
              "ST_Slope        -0.175774   -0.006778  0.343419       -0.428706 -0.501921   \n",
              "HeartDisease     0.267291    0.057384 -0.400421        0.494282  0.403951   \n",
              "\n",
              "                ST_Slope  HeartDisease  \n",
              "Age            -0.268264      0.282039  \n",
              "Sex            -0.150693      0.305445  \n",
              "ChestPainType   0.213521     -0.386828  \n",
              "RestingBP      -0.075162      0.107589  \n",
              "Cholesterol     0.111471     -0.232741  \n",
              "FastingBS      -0.175774      0.267291  \n",
              "RestingECG     -0.006778      0.057384  \n",
              "MaxHR           0.343419     -0.400421  \n",
              "ExerciseAngina -0.428706      0.494282  \n",
              "Oldpeak        -0.501921      0.403951  \n",
              "ST_Slope        1.000000     -0.558771  \n",
              "HeartDisease   -0.558771      1.000000  "
            ]
          },
          "execution_count": 32,
          "metadata": {},
          "output_type": "execute_result"
        }
      ],
      "source": [
        "df.corr()"
      ]
    },
    {
      "cell_type": "code",
      "execution_count": 33,
      "metadata": {
        "id": "jj8vFPWR0ka1"
      },
      "outputs": [
        {
          "name": "stdout",
          "output_type": "stream",
          "text": [
            "Age               0\n",
            "Sex               0\n",
            "ChestPainType     0\n",
            "RestingBP         0\n",
            "Cholesterol       0\n",
            "FastingBS         0\n",
            "RestingECG        0\n",
            "MaxHR             0\n",
            "ExerciseAngina    0\n",
            "Oldpeak           0\n",
            "ST_Slope          0\n",
            "HeartDisease      0\n",
            "dtype: int64\n"
          ]
        }
      ],
      "source": [
        "for x in df:\n",
        "    df.drop(df.loc[df[x]=='?'].index, inplace=True)\n",
        "\n",
        "print(df.isna().sum())      "
      ]
    },
    {
      "cell_type": "code",
      "execution_count": 34,
      "metadata": {},
      "outputs": [
        {
          "data": {
            "text/plain": [
              "Counter({0: 410, 1: 508})"
            ]
          },
          "execution_count": 34,
          "metadata": {},
          "output_type": "execute_result"
        }
      ],
      "source": [
        "Counter(df['HeartDisease'])"
      ]
    },
    {
      "cell_type": "code",
      "execution_count": 41,
      "metadata": {
        "colab": {
          "base_uri": "https://localhost:8080/"
        },
        "id": "nHn6TGEs0ka2",
        "outputId": "447ec93a-422c-45fb-f6d7-16d06226297a"
      },
      "outputs": [
        {
          "name": "stdout",
          "output_type": "stream",
          "text": [
            "Counter({0: 410, 1: 59})\n"
          ]
        }
      ],
      "source": [
        "for i, row in df.iterrows():\n",
        "    if df.at[i,'HeartDisease'] == True:\n",
        "        a = random.choice([0,1])\n",
        "        if a==0:\n",
        "            df.drop(i, inplace=True)\n",
        "\n",
        "print(Counter(df[\"HeartDisease\"]))\n",
        "df[\"HeartDisease\"].replace({False: 0, True: 1}, inplace=True)"
      ]
    },
    {
      "cell_type": "code",
      "execution_count": 134,
      "metadata": {},
      "outputs": [
        {
          "data": {
            "text/plain": [
              "14.390243902439023"
            ]
          },
          "execution_count": 134,
          "metadata": {},
          "output_type": "execute_result"
        }
      ],
      "source": [
        "(Counter(df['HeartDisease'])[1]/Counter(df['HeartDisease'])[0])*100"
      ]
    },
    {
      "cell_type": "code",
      "execution_count": 42,
      "metadata": {
        "colab": {
          "base_uri": "https://localhost:8080/"
        },
        "id": "ChOmumuF0ka4",
        "outputId": "d2ba702c-2ffc-4b1f-d7d3-4f14b7ddc62c"
      },
      "outputs": [
        {
          "name": "stdout",
          "output_type": "stream",
          "text": [
            "<class 'numpy.int64'>\n",
            "0\n"
          ]
        }
      ],
      "source": [
        "X = df.drop(columns=[\"HeartDisease\"])\n",
        "y = df.HeartDisease\n",
        "print(type(y[0]))\n",
        "print(y[0])"
      ]
    },
    {
      "cell_type": "code",
      "execution_count": 43,
      "metadata": {
        "id": "CFR1dkIX0ka4"
      },
      "outputs": [],
      "source": [
        "X_train, X_test, y_train, y_test = train_test_split(X, y, test_size=0.2, random_state=42)"
      ]
    },
    {
      "cell_type": "code",
      "execution_count": 44,
      "metadata": {
        "colab": {
          "base_uri": "https://localhost:8080/"
        },
        "id": "eRw695zU0ka5",
        "outputId": "764fdb1e-e70c-43fc-9c34-27034a274ec3"
      },
      "outputs": [
        {
          "name": "stdout",
          "output_type": "stream",
          "text": [
            "0    78\n",
            "1    16\n",
            "Name: HeartDisease, dtype: int64\n",
            "0    332\n",
            "1     43\n",
            "Name: HeartDisease, dtype: int64\n"
          ]
        }
      ],
      "source": [
        "print(y_test.value_counts())\n",
        "print(y_train.value_counts())"
      ]
    },
    {
      "cell_type": "markdown",
      "metadata": {
        "id": "P78XMq2M5eW3"
      },
      "source": [
        "## Data Resampling Techniques"
      ]
    },
    {
      "cell_type": "markdown",
      "metadata": {
        "id": "fdTYMvf16y-Z"
      },
      "source": [
        "Random Oversampling"
      ]
    },
    {
      "cell_type": "code",
      "execution_count": 45,
      "metadata": {
        "colab": {
          "base_uri": "https://localhost:8080/"
        },
        "id": "su7S5YrX0ka5",
        "outputId": "0c9bd533-8361-4df4-94da-9672ea09419d"
      },
      "outputs": [
        {
          "name": "stdout",
          "output_type": "stream",
          "text": [
            "Counter({0: 332, 1: 166})\n"
          ]
        }
      ],
      "source": [
        "oversampler = RandomOverSampler(sampling_strategy=.5)\n",
        "X_over, y_over = oversampler.fit_resample(X_train, y_train)\n",
        "print(Counter(y_over))"
      ]
    },
    {
      "cell_type": "markdown",
      "metadata": {
        "id": "taG6JCAm61Sa"
      },
      "source": [
        "Random Undersampling"
      ]
    },
    {
      "cell_type": "code",
      "execution_count": 46,
      "metadata": {
        "colab": {
          "base_uri": "https://localhost:8080/"
        },
        "id": "lX-lLmHi0ka6",
        "outputId": "b57b69d1-c825-45f6-9683-3521889e3b7c"
      },
      "outputs": [
        {
          "name": "stdout",
          "output_type": "stream",
          "text": [
            "Counter({0: 86, 1: 43})\n"
          ]
        }
      ],
      "source": [
        "undersampler = RandomUnderSampler(sampling_strategy=.5)\n",
        "X_under, y_under = undersampler.fit_resample(X_train, y_train)\n",
        "print(Counter(y_under))"
      ]
    },
    {
      "cell_type": "markdown",
      "metadata": {
        "id": "bpRTavtx63ov"
      },
      "source": [
        "Synthetic Minority Over Sampling"
      ]
    },
    {
      "cell_type": "code",
      "execution_count": 47,
      "metadata": {
        "id": "PRi1SWgC0ka6"
      },
      "outputs": [],
      "source": [
        "X_train_smote = np.asarray(X_train)\n",
        "y_train_smote = np.asarray(y_train)\n"
      ]
    },
    {
      "cell_type": "code",
      "execution_count": 48,
      "metadata": {
        "colab": {
          "base_uri": "https://localhost:8080/"
        },
        "id": "gD4yiSTs0ka7",
        "outputId": "402046e6-5cbc-4a90-e90d-c3023f0e7a1a"
      },
      "outputs": [
        {
          "name": "stdout",
          "output_type": "stream",
          "text": [
            "Counter({0: 332, 1: 332})\n"
          ]
        }
      ],
      "source": [
        "smotesampler = SMOTE()\n",
        "X_smote, y_smote = smotesampler.fit_resample(X_train_smote, y_train_smote)\n",
        "print(Counter(y_smote))"
      ]
    },
    {
      "cell_type": "markdown",
      "metadata": {
        "id": "Z-oJ8HH_0ka7"
      },
      "source": [
        "## Decision Tree"
      ]
    },
    {
      "cell_type": "code",
      "execution_count": 49,
      "metadata": {
        "id": "VYT7kzlY0ka9"
      },
      "outputs": [],
      "source": [
        "clf = tree.DecisionTreeClassifier()\n",
        "clf = clf.fit(X_train, y_train)"
      ]
    },
    {
      "cell_type": "code",
      "execution_count": 50,
      "metadata": {
        "id": "6vspvdmr0ka-"
      },
      "outputs": [],
      "source": [
        "pred = clf.predict(X_test)"
      ]
    },
    {
      "cell_type": "code",
      "execution_count": 51,
      "metadata": {
        "colab": {
          "base_uri": "https://localhost:8080/"
        },
        "id": "_9Szyz9ZSlt4",
        "outputId": "287cc3e8-ae00-4e87-9650-dcb539553a32"
      },
      "outputs": [
        {
          "name": "stdout",
          "output_type": "stream",
          "text": [
            "[[75  3]\n",
            " [10  6]]\n"
          ]
        }
      ],
      "source": [
        "conf = confusion_matrix(y_test, pred)\n",
        "print(conf)"
      ]
    },
    {
      "cell_type": "code",
      "execution_count": 52,
      "metadata": {
        "id": "rWY5zNX-Slt9"
      },
      "outputs": [],
      "source": [
        "true_negative_rate = conf[0][0]/(conf[0][0]+conf[0][1])\n",
        "true_positive_rate = conf[1][1]/(conf[1][1]+conf[1][0])\n",
        "g_mean_dec = math.sqrt(true_positive_rate*true_negative_rate)"
      ]
    },
    {
      "cell_type": "code",
      "execution_count": 53,
      "metadata": {
        "id": "5j7kQaZlSlt9"
      },
      "outputs": [],
      "source": [
        "f1_dec = f1_score(y_test, pred)"
      ]
    },
    {
      "cell_type": "code",
      "execution_count": 54,
      "metadata": {
        "colab": {
          "base_uri": "https://localhost:8080/"
        },
        "id": "SsNufMDhSlt9",
        "outputId": "63e04ed6-c231-490f-c7bb-426ae4477f61"
      },
      "outputs": [
        {
          "name": "stdout",
          "output_type": "stream",
          "text": [
            "g-mean =  0.6004805767690767\n",
            "F1-score =  0.4800000000000001\n"
          ]
        }
      ],
      "source": [
        "print(\"g-mean = \",g_mean_dec)\n",
        "print(\"F1-score = \",f1_dec)"
      ]
    },
    {
      "cell_type": "markdown",
      "metadata": {
        "id": "ijl-_xYg0ka_"
      },
      "source": [
        "## Bagging "
      ]
    },
    {
      "cell_type": "code",
      "execution_count": 55,
      "metadata": {
        "colab": {
          "base_uri": "https://localhost:8080/"
        },
        "id": "gvOG5NkP0kbA",
        "outputId": "39f655b4-2087-4206-aba4-1cecb590bb37"
      },
      "outputs": [
        {
          "data": {
            "text/plain": [
              "BaggingClassifier()"
            ]
          },
          "execution_count": 55,
          "metadata": {},
          "output_type": "execute_result"
        }
      ],
      "source": [
        "bag = BaggingClassifier()\n",
        "bag.fit(X_train, y_train)"
      ]
    },
    {
      "cell_type": "code",
      "execution_count": 56,
      "metadata": {
        "id": "0fOlADBD0kbA"
      },
      "outputs": [],
      "source": [
        "pred = bag.predict(X_test)"
      ]
    },
    {
      "cell_type": "code",
      "execution_count": 57,
      "metadata": {
        "colab": {
          "base_uri": "https://localhost:8080/"
        },
        "id": "4mvVep3r0kbB",
        "outputId": "3a30eaad-a6b5-4497-8289-4123f3f1674d"
      },
      "outputs": [
        {
          "name": "stdout",
          "output_type": "stream",
          "text": [
            "[[75  3]\n",
            " [ 8  8]]\n"
          ]
        }
      ],
      "source": [
        "conf = confusion_matrix(y_test, pred)\n",
        "print(conf)"
      ]
    },
    {
      "cell_type": "code",
      "execution_count": 58,
      "metadata": {
        "id": "QjNFMvry7RbE"
      },
      "outputs": [],
      "source": [
        "true_negative_rate = conf[0][0]/(conf[0][0]+conf[0][1])\n",
        "true_positive_rate = conf[1][1]/(conf[1][1]+conf[1][0])\n",
        "g_mean_bag = math.sqrt(true_positive_rate*true_negative_rate)"
      ]
    },
    {
      "cell_type": "code",
      "execution_count": 59,
      "metadata": {
        "id": "3hKXe72NGKVj"
      },
      "outputs": [],
      "source": [
        "f1_bag = f1_score(y_test, pred)"
      ]
    },
    {
      "cell_type": "code",
      "execution_count": 60,
      "metadata": {
        "colab": {
          "base_uri": "https://localhost:8080/"
        },
        "id": "z2n5iwg-F50R",
        "outputId": "79315e44-311a-453e-cd85-ea42ffefae07"
      },
      "outputs": [
        {
          "name": "stdout",
          "output_type": "stream",
          "text": [
            "g-mean =  0.6933752452815364\n",
            "F1-score =  0.5925925925925926\n"
          ]
        }
      ],
      "source": [
        "print(\"g-mean = \",g_mean_bag)\n",
        "print(\"F1-score = \",f1_bag)"
      ]
    },
    {
      "cell_type": "markdown",
      "metadata": {
        "id": "eSvTV4Vj0kbB"
      },
      "source": [
        "## AdaBoost"
      ]
    },
    {
      "cell_type": "code",
      "execution_count": 61,
      "metadata": {
        "colab": {
          "base_uri": "https://localhost:8080/"
        },
        "id": "MHe9q6W20kbC",
        "outputId": "51c27ee8-d7d2-4b2e-ebb6-b1ac3ce7a107"
      },
      "outputs": [
        {
          "data": {
            "text/plain": [
              "AdaBoostClassifier()"
            ]
          },
          "execution_count": 61,
          "metadata": {},
          "output_type": "execute_result"
        }
      ],
      "source": [
        "ada = AdaBoostClassifier()\n",
        "ada.fit(X_train, y_train)"
      ]
    },
    {
      "cell_type": "code",
      "execution_count": 62,
      "metadata": {
        "id": "7VLi0d_U0kbC"
      },
      "outputs": [],
      "source": [
        "pred = ada.predict(X_test)"
      ]
    },
    {
      "cell_type": "code",
      "execution_count": 63,
      "metadata": {
        "colab": {
          "base_uri": "https://localhost:8080/"
        },
        "id": "GwGNUcldSnvm",
        "outputId": "fc4171e1-e76d-4829-c452-b45bcd9683df"
      },
      "outputs": [
        {
          "name": "stdout",
          "output_type": "stream",
          "text": [
            "[[73  5]\n",
            " [ 7  9]]\n"
          ]
        }
      ],
      "source": [
        "conf = confusion_matrix(y_test, pred)\n",
        "print(conf)"
      ]
    },
    {
      "cell_type": "code",
      "execution_count": 64,
      "metadata": {
        "id": "OY9EMJJ0Snvm"
      },
      "outputs": [],
      "source": [
        "true_negative_rate = conf[0][0]/(conf[0][0]+conf[0][1])\n",
        "true_positive_rate = conf[1][1]/(conf[1][1]+conf[1][0])\n",
        "g_mean_ada = math.sqrt(true_positive_rate*true_negative_rate)"
      ]
    },
    {
      "cell_type": "code",
      "execution_count": 98,
      "metadata": {
        "id": "-SHpz1EtSnvm"
      },
      "outputs": [],
      "source": [
        "f1_ada = f1_score(y_test, pred)"
      ]
    },
    {
      "cell_type": "code",
      "execution_count": 99,
      "metadata": {
        "colab": {
          "base_uri": "https://localhost:8080/"
        },
        "id": "HDA0Bo0FSnvm",
        "outputId": "8e1c909f-683b-4736-a3e1-74bf80ff2635"
      },
      "outputs": [
        {
          "name": "stdout",
          "output_type": "stream",
          "text": [
            "g-mean =  0.725563441535134\n",
            "F1-score =  0.5\n"
          ]
        }
      ],
      "source": [
        "print(\"g-mean = \",g_mean_ada)\n",
        "print(\"F1-score = \",f1_ada)"
      ]
    },
    {
      "cell_type": "markdown",
      "metadata": {
        "id": "cCSZXA940kbD"
      },
      "source": [
        "## Easy Ensemble"
      ]
    },
    {
      "cell_type": "code",
      "execution_count": 100,
      "metadata": {
        "colab": {
          "base_uri": "https://localhost:8080/",
          "height": 328
        },
        "id": "UDwArmgn0kbD",
        "outputId": "1020c4d7-1877-4998-f04a-869e5311db87"
      },
      "outputs": [
        {
          "data": {
            "text/plain": [
              "EasyEnsembleClassifier(random_state=42)"
            ]
          },
          "execution_count": 100,
          "metadata": {},
          "output_type": "execute_result"
        }
      ],
      "source": [
        "easy_ensemble = EasyEnsembleClassifier(random_state=42)\n",
        "easy_ensemble.fit(X_smote, y_smote)"
      ]
    },
    {
      "cell_type": "code",
      "execution_count": 101,
      "metadata": {
        "id": "5RZucfES0kbD"
      },
      "outputs": [],
      "source": [
        "pred = easy_ensemble.predict(X_test)"
      ]
    },
    {
      "cell_type": "code",
      "execution_count": 102,
      "metadata": {
        "id": "TUqQneq6Spl1"
      },
      "outputs": [
        {
          "name": "stdout",
          "output_type": "stream",
          "text": [
            "[[73  5]\n",
            " [ 6 10]]\n"
          ]
        }
      ],
      "source": [
        "conf = confusion_matrix(y_test, pred)\n",
        "print(conf)"
      ]
    },
    {
      "cell_type": "code",
      "execution_count": 103,
      "metadata": {
        "id": "3l03g8YXSpl1"
      },
      "outputs": [],
      "source": [
        "true_negative_rate = conf[0][0]/(conf[0][0]+conf[0][1])\n",
        "true_positive_rate = conf[1][1]/(conf[1][1]+conf[1][0])\n",
        "g_mean_ez = math.sqrt(true_positive_rate*true_negative_rate)"
      ]
    },
    {
      "cell_type": "code",
      "execution_count": 104,
      "metadata": {
        "id": "7E75GTvASpl2"
      },
      "outputs": [],
      "source": [
        "f1_ez = f1_score(y_test, pred)"
      ]
    },
    {
      "cell_type": "code",
      "execution_count": 105,
      "metadata": {
        "id": "WEQp6TPuSpl2"
      },
      "outputs": [
        {
          "name": "stdout",
          "output_type": "stream",
          "text": [
            "g-mean =  0.7648110207338134\n",
            "F1-score =  0.6451612903225806\n"
          ]
        }
      ],
      "source": [
        "print(\"g-mean = \",g_mean_ez)\n",
        "print(\"F1-score = \",f1_ez)"
      ]
    },
    {
      "cell_type": "markdown",
      "metadata": {
        "id": "6nCzrk100kbE"
      },
      "source": [
        "## RusBoost"
      ]
    },
    {
      "cell_type": "code",
      "execution_count": 106,
      "metadata": {
        "colab": {
          "base_uri": "https://localhost:8080/"
        },
        "id": "V3e4RhLA0kbE",
        "outputId": "81436630-678d-41f3-d5a8-d8be655c7b91"
      },
      "outputs": [
        {
          "data": {
            "text/plain": [
              "AdaBoostClassifier()"
            ]
          },
          "execution_count": 106,
          "metadata": {},
          "output_type": "execute_result"
        }
      ],
      "source": [
        "rus = AdaBoostClassifier()\n",
        "rus.fit(X_under, y_under)"
      ]
    },
    {
      "cell_type": "code",
      "execution_count": 107,
      "metadata": {
        "id": "qJPlON-H0kbE"
      },
      "outputs": [],
      "source": [
        "pred = rus.predict(X_test)"
      ]
    },
    {
      "cell_type": "code",
      "execution_count": 108,
      "metadata": {
        "colab": {
          "base_uri": "https://localhost:8080/"
        },
        "id": "H1EGACQeSr02",
        "outputId": "1d00719e-d8e8-4639-b635-4c690017ef38"
      },
      "outputs": [
        {
          "name": "stdout",
          "output_type": "stream",
          "text": [
            "[[66 12]\n",
            " [ 5 11]]\n"
          ]
        }
      ],
      "source": [
        "conf = confusion_matrix(y_test, pred)\n",
        "print(conf)"
      ]
    },
    {
      "cell_type": "code",
      "execution_count": 109,
      "metadata": {
        "id": "opvBK4GJSr02"
      },
      "outputs": [],
      "source": [
        "true_negative_rate = conf[0][0]/(conf[0][0]+conf[0][1])\n",
        "true_positive_rate = conf[1][1]/(conf[1][1]+conf[1][0])\n",
        "g_mean_rus = math.sqrt(true_positive_rate*true_negative_rate)"
      ]
    },
    {
      "cell_type": "code",
      "execution_count": 110,
      "metadata": {
        "id": "bwVNE5VgSr02"
      },
      "outputs": [],
      "source": [
        "f1_rus = f1_score(y_test, pred)"
      ]
    },
    {
      "cell_type": "code",
      "execution_count": 111,
      "metadata": {
        "colab": {
          "base_uri": "https://localhost:8080/"
        },
        "id": "741bPbPXSr02",
        "outputId": "4ab065d1-cc48-4ee0-e781-7c88991920d0"
      },
      "outputs": [
        {
          "name": "stdout",
          "output_type": "stream",
          "text": [
            "g-mean =  0.76271276980969\n",
            "F1-score =  0.5641025641025642\n"
          ]
        }
      ],
      "source": [
        "print(\"g-mean = \",g_mean_rus)\n",
        "print(\"F1-score = \",f1_rus)"
      ]
    },
    {
      "cell_type": "markdown",
      "metadata": {
        "id": "CdVEsya90kbE"
      },
      "source": [
        "## Smote Boost"
      ]
    },
    {
      "cell_type": "code",
      "execution_count": 112,
      "metadata": {
        "colab": {
          "base_uri": "https://localhost:8080/"
        },
        "id": "FixYD3KP0kbF",
        "outputId": "91aeb735-9fa5-47fc-9879-3c1610cdac83"
      },
      "outputs": [
        {
          "data": {
            "text/plain": [
              "AdaBoostClassifier()"
            ]
          },
          "execution_count": 112,
          "metadata": {},
          "output_type": "execute_result"
        }
      ],
      "source": [
        "smote_boost = AdaBoostClassifier()\n",
        "smote_boost.fit(X_smote,y_smote)"
      ]
    },
    {
      "cell_type": "code",
      "execution_count": 113,
      "metadata": {
        "colab": {
          "base_uri": "https://localhost:8080/"
        },
        "id": "UvVdWIK00kbF",
        "outputId": "09473906-953b-4e45-b9dd-6328dba54e57"
      },
      "outputs": [],
      "source": [
        "pred = smote_boost.predict(X_test)"
      ]
    },
    {
      "cell_type": "code",
      "execution_count": 114,
      "metadata": {
        "colab": {
          "base_uri": "https://localhost:8080/"
        },
        "id": "1mI23hgiStfg",
        "outputId": "ae910797-0f47-4f33-dd8f-bc286d8f03d4"
      },
      "outputs": [
        {
          "name": "stdout",
          "output_type": "stream",
          "text": [
            "[[73  5]\n",
            " [ 6 10]]\n"
          ]
        }
      ],
      "source": [
        "conf = confusion_matrix(y_test, pred)\n",
        "print(conf)"
      ]
    },
    {
      "cell_type": "code",
      "execution_count": 115,
      "metadata": {
        "id": "DLK7fNDKStfg"
      },
      "outputs": [],
      "source": [
        "true_negative_rate = conf[0][0]/(conf[0][0]+conf[0][1])\n",
        "true_positive_rate = conf[1][1]/(conf[1][1]+conf[1][0])\n",
        "g_mean_smb = math.sqrt(true_positive_rate*true_negative_rate)"
      ]
    },
    {
      "cell_type": "code",
      "execution_count": 116,
      "metadata": {
        "id": "NgAoiLkgStfg"
      },
      "outputs": [],
      "source": [
        "f1_smb = f1_score(y_test, pred)"
      ]
    },
    {
      "cell_type": "code",
      "execution_count": 117,
      "metadata": {
        "colab": {
          "base_uri": "https://localhost:8080/"
        },
        "id": "7gsMh2XjStfh",
        "outputId": "42f3e4fe-e647-4d6f-8fd8-16b8ec32800b"
      },
      "outputs": [
        {
          "name": "stdout",
          "output_type": "stream",
          "text": [
            "g-mean =  0.7648110207338134\n",
            "F1-score =  0.6451612903225806\n"
          ]
        }
      ],
      "source": [
        "print(\"g-mean = \",g_mean_smb)\n",
        "print(\"F1-score = \",f1_smb)"
      ]
    },
    {
      "cell_type": "markdown",
      "metadata": {
        "id": "ggu7x4Zx0kbF"
      },
      "source": [
        "## Under Bagging"
      ]
    },
    {
      "cell_type": "code",
      "execution_count": 118,
      "metadata": {
        "colab": {
          "base_uri": "https://localhost:8080/"
        },
        "id": "xZL64Bkk0kbG",
        "outputId": "e62cebdb-f1e9-4ae3-82e3-ee595a7dcbe5"
      },
      "outputs": [
        {
          "data": {
            "text/plain": [
              "BaggingClassifier()"
            ]
          },
          "execution_count": 118,
          "metadata": {},
          "output_type": "execute_result"
        }
      ],
      "source": [
        "under_bagging = BaggingClassifier()\n",
        "under_bagging.fit(X_under, y_under)"
      ]
    },
    {
      "cell_type": "code",
      "execution_count": 119,
      "metadata": {
        "id": "OIOt0kxV0kbG"
      },
      "outputs": [],
      "source": [
        "pred = under_bagging.predict(X_test)"
      ]
    },
    {
      "cell_type": "code",
      "execution_count": 120,
      "metadata": {
        "colab": {
          "base_uri": "https://localhost:8080/"
        },
        "id": "BT8oEC9US23q",
        "outputId": "26a0751b-531d-4b21-acbf-cc25be4d0ed9"
      },
      "outputs": [
        {
          "name": "stdout",
          "output_type": "stream",
          "text": [
            "[[76  2]\n",
            " [ 7  9]]\n"
          ]
        }
      ],
      "source": [
        "conf = confusion_matrix(y_test, pred)\n",
        "print(conf)"
      ]
    },
    {
      "cell_type": "code",
      "execution_count": 121,
      "metadata": {
        "id": "CqKpMf2yS23q"
      },
      "outputs": [],
      "source": [
        "true_negative_rate = conf[0][0]/(conf[0][0]+conf[0][1])\n",
        "true_positive_rate = conf[1][1]/(conf[1][1]+conf[1][0])\n",
        "g_mean_ubag = math.sqrt(true_positive_rate*true_negative_rate)"
      ]
    },
    {
      "cell_type": "code",
      "execution_count": 122,
      "metadata": {
        "id": "lJc7qmNSS23q"
      },
      "outputs": [],
      "source": [
        "f1_ubag = f1_score(y_test, pred)"
      ]
    },
    {
      "cell_type": "code",
      "execution_count": 123,
      "metadata": {
        "colab": {
          "base_uri": "https://localhost:8080/"
        },
        "id": "0udmE8NrS23q",
        "outputId": "2e1f12a6-87e7-4a84-a416-83491513c3a4"
      },
      "outputs": [
        {
          "name": "stdout",
          "output_type": "stream",
          "text": [
            "g-mean =  0.7403221751892368\n",
            "F1-score =  0.6666666666666666\n"
          ]
        }
      ],
      "source": [
        "print(\"g-mean = \",g_mean_ubag)\n",
        "print(\"F1-score = \",f1_ubag)"
      ]
    },
    {
      "cell_type": "markdown",
      "metadata": {
        "id": "OpUcQzcuV4XK"
      },
      "source": [
        "## Over Bagging"
      ]
    },
    {
      "cell_type": "code",
      "execution_count": 124,
      "metadata": {
        "colab": {
          "base_uri": "https://localhost:8080/"
        },
        "id": "PThRYWGUWGB6",
        "outputId": "c0501e0c-7018-46bc-8b1a-6bb4c5160adf"
      },
      "outputs": [
        {
          "data": {
            "text/plain": [
              "BaggingClassifier()"
            ]
          },
          "execution_count": 124,
          "metadata": {},
          "output_type": "execute_result"
        }
      ],
      "source": [
        "over_bagging = BaggingClassifier()\n",
        "over_bagging.fit(X_over, y_over)"
      ]
    },
    {
      "cell_type": "code",
      "execution_count": 125,
      "metadata": {
        "id": "t9Yd0jWcWGB6"
      },
      "outputs": [],
      "source": [
        "pred = over_bagging.predict(X_test)"
      ]
    },
    {
      "cell_type": "code",
      "execution_count": 126,
      "metadata": {
        "colab": {
          "base_uri": "https://localhost:8080/"
        },
        "id": "Eji2n2pGWGB6",
        "outputId": "0edd81a4-d2cf-4306-d742-6ba0c7c72904"
      },
      "outputs": [
        {
          "name": "stdout",
          "output_type": "stream",
          "text": [
            "[[77  1]\n",
            " [ 7  9]]\n"
          ]
        }
      ],
      "source": [
        "conf = confusion_matrix(y_test, pred)\n",
        "print(conf)"
      ]
    },
    {
      "cell_type": "code",
      "execution_count": 127,
      "metadata": {
        "id": "hCusvbU8WGB6"
      },
      "outputs": [],
      "source": [
        "true_negative_rate = conf[0][0]/(conf[0][0]+conf[0][1])\n",
        "true_positive_rate = conf[1][1]/(conf[1][1]+conf[1][0])\n",
        "g_mean_obag = math.sqrt(true_positive_rate*true_negative_rate)"
      ]
    },
    {
      "cell_type": "code",
      "execution_count": 128,
      "metadata": {
        "id": "tUzb-M45WGB7"
      },
      "outputs": [],
      "source": [
        "f1_obag = f1_score(y_test, pred)"
      ]
    },
    {
      "cell_type": "code",
      "execution_count": 129,
      "metadata": {
        "colab": {
          "base_uri": "https://localhost:8080/"
        },
        "id": "Cx3-NiNXWGB7",
        "outputId": "9ebe3ed2-301a-44fc-82bf-eee75ae870a1"
      },
      "outputs": [
        {
          "name": "stdout",
          "output_type": "stream",
          "text": [
            "g-mean =  0.7451767988460601\n",
            "F1-score =  0.6923076923076923\n"
          ]
        }
      ],
      "source": [
        "print(\"g-mean = \",g_mean_obag)\n",
        "print(\"F1-score = \",f1_obag)"
      ]
    },
    {
      "cell_type": "markdown",
      "metadata": {
        "id": "pkRaXA7DU8oe"
      },
      "source": [
        "## Results"
      ]
    },
    {
      "cell_type": "code",
      "execution_count": 130,
      "metadata": {
        "id": "kKedNOEnVBAJ"
      },
      "outputs": [],
      "source": [
        "models = [\"Decision Tree\",\"Bagging\", \"AdaBoost\", \"Easy Ensemble\",\"RusBoost\",\"Smote Boost\",\"Under Bagging\", \"Over Bagging\"]\n",
        "g_mean_score = [g_mean_dec,g_mean_bag,g_mean_ada,g_mean_ez,g_mean_rus,g_mean_smb,g_mean_ubag,g_mean_obag]\n",
        "F1_score = [f1_dec,f1_bag,f1_ada,f1_ez,f1_rus,f1_smb,f1_ubag,f1_obag]"
      ]
    },
    {
      "cell_type": "code",
      "execution_count": 131,
      "metadata": {
        "id": "X0_Ad7WbWbJQ"
      },
      "outputs": [],
      "source": [
        "result_data = {\n",
        "    'Models': models,\n",
        "    'g-mean': g_mean_score,\n",
        "    'F1-score': F1_score\n",
        "}\n",
        "result_df = pd.DataFrame(result_data)"
      ]
    },
    {
      "cell_type": "code",
      "execution_count": 132,
      "metadata": {
        "colab": {
          "base_uri": "https://localhost:8080/",
          "height": 269
        },
        "id": "JYYgNAKzYCQc",
        "outputId": "12a3fbb6-1480-424d-85aa-3ef2d1ff596e"
      },
      "outputs": [
        {
          "data": {
            "text/html": [
              "<div>\n",
              "<style scoped>\n",
              "    .dataframe tbody tr th:only-of-type {\n",
              "        vertical-align: middle;\n",
              "    }\n",
              "\n",
              "    .dataframe tbody tr th {\n",
              "        vertical-align: top;\n",
              "    }\n",
              "\n",
              "    .dataframe thead th {\n",
              "        text-align: right;\n",
              "    }\n",
              "</style>\n",
              "<table border=\"1\" class=\"dataframe\">\n",
              "  <thead>\n",
              "    <tr style=\"text-align: right;\">\n",
              "      <th></th>\n",
              "      <th>Models</th>\n",
              "      <th>g-mean</th>\n",
              "      <th>F1-score</th>\n",
              "    </tr>\n",
              "  </thead>\n",
              "  <tbody>\n",
              "    <tr>\n",
              "      <th>0</th>\n",
              "      <td>Decision Tree</td>\n",
              "      <td>0.600481</td>\n",
              "      <td>0.480000</td>\n",
              "    </tr>\n",
              "    <tr>\n",
              "      <th>1</th>\n",
              "      <td>Bagging</td>\n",
              "      <td>0.693375</td>\n",
              "      <td>0.592593</td>\n",
              "    </tr>\n",
              "    <tr>\n",
              "      <th>2</th>\n",
              "      <td>AdaBoost</td>\n",
              "      <td>0.725563</td>\n",
              "      <td>0.500000</td>\n",
              "    </tr>\n",
              "    <tr>\n",
              "      <th>3</th>\n",
              "      <td>Easy Ensemble</td>\n",
              "      <td>0.764811</td>\n",
              "      <td>0.645161</td>\n",
              "    </tr>\n",
              "    <tr>\n",
              "      <th>4</th>\n",
              "      <td>RusBoost</td>\n",
              "      <td>0.762713</td>\n",
              "      <td>0.564103</td>\n",
              "    </tr>\n",
              "    <tr>\n",
              "      <th>5</th>\n",
              "      <td>Smote Boost</td>\n",
              "      <td>0.764811</td>\n",
              "      <td>0.645161</td>\n",
              "    </tr>\n",
              "    <tr>\n",
              "      <th>6</th>\n",
              "      <td>Under Bagging</td>\n",
              "      <td>0.740322</td>\n",
              "      <td>0.666667</td>\n",
              "    </tr>\n",
              "    <tr>\n",
              "      <th>7</th>\n",
              "      <td>Over Bagging</td>\n",
              "      <td>0.745177</td>\n",
              "      <td>0.692308</td>\n",
              "    </tr>\n",
              "  </tbody>\n",
              "</table>\n",
              "</div>"
            ],
            "text/plain": [
              "          Models    g-mean  F1-score\n",
              "0  Decision Tree  0.600481  0.480000\n",
              "1        Bagging  0.693375  0.592593\n",
              "2       AdaBoost  0.725563  0.500000\n",
              "3  Easy Ensemble  0.764811  0.645161\n",
              "4       RusBoost  0.762713  0.564103\n",
              "5    Smote Boost  0.764811  0.645161\n",
              "6  Under Bagging  0.740322  0.666667\n",
              "7   Over Bagging  0.745177  0.692308"
            ]
          },
          "execution_count": 132,
          "metadata": {},
          "output_type": "execute_result"
        }
      ],
      "source": [
        "result_df"
      ]
    }
  ],
  "metadata": {
    "colab": {
      "name": "ECIP.ipynb",
      "provenance": []
    },
    "interpreter": {
      "hash": "5ad06826974dc060fa37eead2112af9e641fe3b133a4323218f615d88ba76b28"
    },
    "kernelspec": {
      "display_name": "Python 3.7.10 64-bit ('mlenv': conda)",
      "language": "python",
      "name": "python3"
    },
    "language_info": {
      "codemirror_mode": {
        "name": "ipython",
        "version": 3
      },
      "file_extension": ".py",
      "mimetype": "text/x-python",
      "name": "python",
      "nbconvert_exporter": "python",
      "pygments_lexer": "ipython3",
      "version": "3.7.10"
    },
    "orig_nbformat": 4
  },
  "nbformat": 4,
  "nbformat_minor": 0
}
