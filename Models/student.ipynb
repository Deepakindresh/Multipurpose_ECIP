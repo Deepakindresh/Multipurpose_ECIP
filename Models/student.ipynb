{
  "cells": [
    {
      "cell_type": "markdown",
      "metadata": {
        "id": "RYjkKmJm4pfd"
      },
      "source": [
        "# ECIP Models for Software Defect Prediction Dataset"
      ]
    },
    {
      "cell_type": "markdown",
      "metadata": {
        "id": "8f9NBQgF4lPl"
      },
      "source": [
        "## Import"
      ]
    },
    {
      "cell_type": "code",
      "execution_count": 2,
      "metadata": {
        "id": "Bjl35YxY0kaq"
      },
      "outputs": [],
      "source": [
        "from imblearn.over_sampling import RandomOverSampler\n",
        "from imblearn.over_sampling import SMOTE\n",
        "from imblearn.under_sampling import RandomUnderSampler\n",
        "from sklearn.preprocessing import LabelEncoder\n",
        "from sklearn.model_selection import train_test_split\n",
        "from sklearn.metrics import accuracy_score,f1_score, confusion_matrix\n",
        "import pandas as pd\n",
        "import numpy as np\n",
        "from collections import Counter\n",
        "import random\n",
        "from sklearn import tree\n",
        "from sklearn.linear_model import LogisticRegression\n",
        "from sklearn.ensemble import RandomForestClassifier,BaggingClassifier,AdaBoostClassifier\n",
        "from imblearn.ensemble import EasyEnsembleClassifier\n",
        "\n",
        "import math\n"
      ]
    },
    {
      "cell_type": "code",
      "execution_count": 3,
      "metadata": {
        "colab": {
          "base_uri": "https://localhost:8080/"
        },
        "id": "0Qjjfwxv0kax",
        "outputId": "2d94201c-299c-488e-a0cc-a28be0c3b460"
      },
      "outputs": [
        {
          "data": {
            "text/html": [
              "<div>\n",
              "<style scoped>\n",
              "    .dataframe tbody tr th:only-of-type {\n",
              "        vertical-align: middle;\n",
              "    }\n",
              "\n",
              "    .dataframe tbody tr th {\n",
              "        vertical-align: top;\n",
              "    }\n",
              "\n",
              "    .dataframe thead th {\n",
              "        text-align: right;\n",
              "    }\n",
              "</style>\n",
              "<table border=\"1\" class=\"dataframe\">\n",
              "  <thead>\n",
              "    <tr style=\"text-align: right;\">\n",
              "      <th></th>\n",
              "      <th>school</th>\n",
              "      <th>sex</th>\n",
              "      <th>age</th>\n",
              "      <th>address</th>\n",
              "      <th>famsize</th>\n",
              "      <th>Pstatus</th>\n",
              "      <th>Medu</th>\n",
              "      <th>Fedu</th>\n",
              "      <th>Mjob</th>\n",
              "      <th>Fjob</th>\n",
              "      <th>...</th>\n",
              "      <th>famrel</th>\n",
              "      <th>freetime</th>\n",
              "      <th>goout</th>\n",
              "      <th>Dalc</th>\n",
              "      <th>Walc</th>\n",
              "      <th>health</th>\n",
              "      <th>absences</th>\n",
              "      <th>G1</th>\n",
              "      <th>G2</th>\n",
              "      <th>G3</th>\n",
              "    </tr>\n",
              "  </thead>\n",
              "  <tbody>\n",
              "    <tr>\n",
              "      <th>0</th>\n",
              "      <td>GP</td>\n",
              "      <td>F</td>\n",
              "      <td>18</td>\n",
              "      <td>U</td>\n",
              "      <td>GT3</td>\n",
              "      <td>A</td>\n",
              "      <td>4</td>\n",
              "      <td>4</td>\n",
              "      <td>at_home</td>\n",
              "      <td>teacher</td>\n",
              "      <td>...</td>\n",
              "      <td>4</td>\n",
              "      <td>3</td>\n",
              "      <td>4</td>\n",
              "      <td>1</td>\n",
              "      <td>1</td>\n",
              "      <td>3</td>\n",
              "      <td>6</td>\n",
              "      <td>5</td>\n",
              "      <td>6</td>\n",
              "      <td>6</td>\n",
              "    </tr>\n",
              "    <tr>\n",
              "      <th>1</th>\n",
              "      <td>GP</td>\n",
              "      <td>F</td>\n",
              "      <td>17</td>\n",
              "      <td>U</td>\n",
              "      <td>GT3</td>\n",
              "      <td>T</td>\n",
              "      <td>1</td>\n",
              "      <td>1</td>\n",
              "      <td>at_home</td>\n",
              "      <td>other</td>\n",
              "      <td>...</td>\n",
              "      <td>5</td>\n",
              "      <td>3</td>\n",
              "      <td>3</td>\n",
              "      <td>1</td>\n",
              "      <td>1</td>\n",
              "      <td>3</td>\n",
              "      <td>4</td>\n",
              "      <td>5</td>\n",
              "      <td>5</td>\n",
              "      <td>6</td>\n",
              "    </tr>\n",
              "    <tr>\n",
              "      <th>2</th>\n",
              "      <td>GP</td>\n",
              "      <td>F</td>\n",
              "      <td>15</td>\n",
              "      <td>U</td>\n",
              "      <td>LE3</td>\n",
              "      <td>T</td>\n",
              "      <td>1</td>\n",
              "      <td>1</td>\n",
              "      <td>at_home</td>\n",
              "      <td>other</td>\n",
              "      <td>...</td>\n",
              "      <td>4</td>\n",
              "      <td>3</td>\n",
              "      <td>2</td>\n",
              "      <td>2</td>\n",
              "      <td>3</td>\n",
              "      <td>3</td>\n",
              "      <td>10</td>\n",
              "      <td>7</td>\n",
              "      <td>8</td>\n",
              "      <td>10</td>\n",
              "    </tr>\n",
              "    <tr>\n",
              "      <th>3</th>\n",
              "      <td>GP</td>\n",
              "      <td>F</td>\n",
              "      <td>15</td>\n",
              "      <td>U</td>\n",
              "      <td>GT3</td>\n",
              "      <td>T</td>\n",
              "      <td>4</td>\n",
              "      <td>2</td>\n",
              "      <td>health</td>\n",
              "      <td>services</td>\n",
              "      <td>...</td>\n",
              "      <td>3</td>\n",
              "      <td>2</td>\n",
              "      <td>2</td>\n",
              "      <td>1</td>\n",
              "      <td>1</td>\n",
              "      <td>5</td>\n",
              "      <td>2</td>\n",
              "      <td>15</td>\n",
              "      <td>14</td>\n",
              "      <td>15</td>\n",
              "    </tr>\n",
              "    <tr>\n",
              "      <th>4</th>\n",
              "      <td>GP</td>\n",
              "      <td>F</td>\n",
              "      <td>16</td>\n",
              "      <td>U</td>\n",
              "      <td>GT3</td>\n",
              "      <td>T</td>\n",
              "      <td>3</td>\n",
              "      <td>3</td>\n",
              "      <td>other</td>\n",
              "      <td>other</td>\n",
              "      <td>...</td>\n",
              "      <td>4</td>\n",
              "      <td>3</td>\n",
              "      <td>2</td>\n",
              "      <td>1</td>\n",
              "      <td>2</td>\n",
              "      <td>5</td>\n",
              "      <td>4</td>\n",
              "      <td>6</td>\n",
              "      <td>10</td>\n",
              "      <td>10</td>\n",
              "    </tr>\n",
              "  </tbody>\n",
              "</table>\n",
              "<p>5 rows × 33 columns</p>\n",
              "</div>"
            ],
            "text/plain": [
              "  school sex  age address famsize Pstatus  Medu  Fedu     Mjob      Fjob  ...  \\\n",
              "0     GP   F   18       U     GT3       A     4     4  at_home   teacher  ...   \n",
              "1     GP   F   17       U     GT3       T     1     1  at_home     other  ...   \n",
              "2     GP   F   15       U     LE3       T     1     1  at_home     other  ...   \n",
              "3     GP   F   15       U     GT3       T     4     2   health  services  ...   \n",
              "4     GP   F   16       U     GT3       T     3     3    other     other  ...   \n",
              "\n",
              "  famrel freetime  goout  Dalc  Walc health absences  G1  G2  G3  \n",
              "0      4        3      4     1     1      3        6   5   6   6  \n",
              "1      5        3      3     1     1      3        4   5   5   6  \n",
              "2      4        3      2     2     3      3       10   7   8  10  \n",
              "3      3        2      2     1     1      5        2  15  14  15  \n",
              "4      4        3      2     1     2      5        4   6  10  10  \n",
              "\n",
              "[5 rows x 33 columns]"
            ]
          },
          "execution_count": 3,
          "metadata": {},
          "output_type": "execute_result"
        }
      ],
      "source": [
        "df = pd.read_csv(\"./student-mat.csv\")\n",
        "df.head()"
      ]
    },
    {
      "cell_type": "code",
      "execution_count": 4,
      "metadata": {},
      "outputs": [
        {
          "data": {
            "text/plain": [
              "Index(['school', 'sex', 'age', 'address', 'famsize', 'Pstatus', 'Medu', 'Fedu',\n",
              "       'Mjob', 'Fjob', 'reason', 'guardian', 'traveltime', 'studytime',\n",
              "       'failures', 'schoolsup', 'famsup', 'paid', 'activities', 'nursery',\n",
              "       'higher', 'internet', 'romantic', 'famrel', 'freetime', 'goout', 'Dalc',\n",
              "       'Walc', 'health', 'absences', 'G1', 'G2', 'G3'],\n",
              "      dtype='object')"
            ]
          },
          "execution_count": 4,
          "metadata": {},
          "output_type": "execute_result"
        }
      ],
      "source": [
        "df.columns"
      ]
    },
    {
      "cell_type": "code",
      "execution_count": 5,
      "metadata": {},
      "outputs": [
        {
          "data": {
            "text/html": [
              "<div>\n",
              "<style scoped>\n",
              "    .dataframe tbody tr th:only-of-type {\n",
              "        vertical-align: middle;\n",
              "    }\n",
              "\n",
              "    .dataframe tbody tr th {\n",
              "        vertical-align: top;\n",
              "    }\n",
              "\n",
              "    .dataframe thead th {\n",
              "        text-align: right;\n",
              "    }\n",
              "</style>\n",
              "<table border=\"1\" class=\"dataframe\">\n",
              "  <thead>\n",
              "    <tr style=\"text-align: right;\">\n",
              "      <th></th>\n",
              "      <th>school</th>\n",
              "      <th>sex</th>\n",
              "      <th>age</th>\n",
              "      <th>address</th>\n",
              "      <th>famsize</th>\n",
              "      <th>Pstatus</th>\n",
              "      <th>Medu</th>\n",
              "      <th>Fedu</th>\n",
              "      <th>Mjob</th>\n",
              "      <th>Fjob</th>\n",
              "      <th>...</th>\n",
              "      <th>famrel</th>\n",
              "      <th>freetime</th>\n",
              "      <th>goout</th>\n",
              "      <th>Dalc</th>\n",
              "      <th>Walc</th>\n",
              "      <th>health</th>\n",
              "      <th>absences</th>\n",
              "      <th>G1</th>\n",
              "      <th>G2</th>\n",
              "      <th>G3</th>\n",
              "    </tr>\n",
              "  </thead>\n",
              "  <tbody>\n",
              "    <tr>\n",
              "      <th>0</th>\n",
              "      <td>GP</td>\n",
              "      <td>0</td>\n",
              "      <td>18</td>\n",
              "      <td>U</td>\n",
              "      <td>GT3</td>\n",
              "      <td>A</td>\n",
              "      <td>4</td>\n",
              "      <td>4</td>\n",
              "      <td>at_home</td>\n",
              "      <td>teacher</td>\n",
              "      <td>...</td>\n",
              "      <td>4</td>\n",
              "      <td>3</td>\n",
              "      <td>4</td>\n",
              "      <td>1</td>\n",
              "      <td>1</td>\n",
              "      <td>3</td>\n",
              "      <td>6</td>\n",
              "      <td>5</td>\n",
              "      <td>6</td>\n",
              "      <td>6</td>\n",
              "    </tr>\n",
              "    <tr>\n",
              "      <th>1</th>\n",
              "      <td>GP</td>\n",
              "      <td>0</td>\n",
              "      <td>17</td>\n",
              "      <td>U</td>\n",
              "      <td>GT3</td>\n",
              "      <td>T</td>\n",
              "      <td>1</td>\n",
              "      <td>1</td>\n",
              "      <td>at_home</td>\n",
              "      <td>other</td>\n",
              "      <td>...</td>\n",
              "      <td>5</td>\n",
              "      <td>3</td>\n",
              "      <td>3</td>\n",
              "      <td>1</td>\n",
              "      <td>1</td>\n",
              "      <td>3</td>\n",
              "      <td>4</td>\n",
              "      <td>5</td>\n",
              "      <td>5</td>\n",
              "      <td>6</td>\n",
              "    </tr>\n",
              "    <tr>\n",
              "      <th>2</th>\n",
              "      <td>GP</td>\n",
              "      <td>0</td>\n",
              "      <td>15</td>\n",
              "      <td>U</td>\n",
              "      <td>LE3</td>\n",
              "      <td>T</td>\n",
              "      <td>1</td>\n",
              "      <td>1</td>\n",
              "      <td>at_home</td>\n",
              "      <td>other</td>\n",
              "      <td>...</td>\n",
              "      <td>4</td>\n",
              "      <td>3</td>\n",
              "      <td>2</td>\n",
              "      <td>2</td>\n",
              "      <td>3</td>\n",
              "      <td>3</td>\n",
              "      <td>10</td>\n",
              "      <td>7</td>\n",
              "      <td>8</td>\n",
              "      <td>10</td>\n",
              "    </tr>\n",
              "    <tr>\n",
              "      <th>3</th>\n",
              "      <td>GP</td>\n",
              "      <td>0</td>\n",
              "      <td>15</td>\n",
              "      <td>U</td>\n",
              "      <td>GT3</td>\n",
              "      <td>T</td>\n",
              "      <td>4</td>\n",
              "      <td>2</td>\n",
              "      <td>health</td>\n",
              "      <td>services</td>\n",
              "      <td>...</td>\n",
              "      <td>3</td>\n",
              "      <td>2</td>\n",
              "      <td>2</td>\n",
              "      <td>1</td>\n",
              "      <td>1</td>\n",
              "      <td>5</td>\n",
              "      <td>2</td>\n",
              "      <td>15</td>\n",
              "      <td>14</td>\n",
              "      <td>15</td>\n",
              "    </tr>\n",
              "    <tr>\n",
              "      <th>4</th>\n",
              "      <td>GP</td>\n",
              "      <td>0</td>\n",
              "      <td>16</td>\n",
              "      <td>U</td>\n",
              "      <td>GT3</td>\n",
              "      <td>T</td>\n",
              "      <td>3</td>\n",
              "      <td>3</td>\n",
              "      <td>other</td>\n",
              "      <td>other</td>\n",
              "      <td>...</td>\n",
              "      <td>4</td>\n",
              "      <td>3</td>\n",
              "      <td>2</td>\n",
              "      <td>1</td>\n",
              "      <td>2</td>\n",
              "      <td>5</td>\n",
              "      <td>4</td>\n",
              "      <td>6</td>\n",
              "      <td>10</td>\n",
              "      <td>10</td>\n",
              "    </tr>\n",
              "  </tbody>\n",
              "</table>\n",
              "<p>5 rows × 33 columns</p>\n",
              "</div>"
            ],
            "text/plain": [
              "  school  sex  age address famsize Pstatus  Medu  Fedu     Mjob      Fjob  \\\n",
              "0     GP    0   18       U     GT3       A     4     4  at_home   teacher   \n",
              "1     GP    0   17       U     GT3       T     1     1  at_home     other   \n",
              "2     GP    0   15       U     LE3       T     1     1  at_home     other   \n",
              "3     GP    0   15       U     GT3       T     4     2   health  services   \n",
              "4     GP    0   16       U     GT3       T     3     3    other     other   \n",
              "\n",
              "   ... famrel freetime  goout  Dalc  Walc health absences  G1  G2  G3  \n",
              "0  ...      4        3      4     1     1      3        6   5   6   6  \n",
              "1  ...      5        3      3     1     1      3        4   5   5   6  \n",
              "2  ...      4        3      2     2     3      3       10   7   8  10  \n",
              "3  ...      3        2      2     1     1      5        2  15  14  15  \n",
              "4  ...      4        3      2     1     2      5        4   6  10  10  \n",
              "\n",
              "[5 rows x 33 columns]"
            ]
          },
          "execution_count": 5,
          "metadata": {},
          "output_type": "execute_result"
        }
      ],
      "source": [
        "le = LabelEncoder()\n",
        "df[\"sex\"] = le.fit_transform(df[\"sex\"])\n",
        "df[\"romantic\"] = le.fit_transform(df[\"romantic\"])\n",
        "\n",
        "df.head()"
      ]
    },
    {
      "cell_type": "markdown",
      "metadata": {
        "id": "n_r5dgcm5C-9"
      },
      "source": [
        "## Data Preprocessing"
      ]
    },
    {
      "cell_type": "code",
      "execution_count": 6,
      "metadata": {
        "colab": {
          "base_uri": "https://localhost:8080/",
          "height": 602
        },
        "id": "VAog2nDl0ka0",
        "outputId": "992eb868-c8e7-4e33-d3a1-c1964189c2d3"
      },
      "outputs": [
        {
          "data": {
            "text/html": [
              "<div>\n",
              "<style scoped>\n",
              "    .dataframe tbody tr th:only-of-type {\n",
              "        vertical-align: middle;\n",
              "    }\n",
              "\n",
              "    .dataframe tbody tr th {\n",
              "        vertical-align: top;\n",
              "    }\n",
              "\n",
              "    .dataframe thead th {\n",
              "        text-align: right;\n",
              "    }\n",
              "</style>\n",
              "<table border=\"1\" class=\"dataframe\">\n",
              "  <thead>\n",
              "    <tr style=\"text-align: right;\">\n",
              "      <th></th>\n",
              "      <th>sex</th>\n",
              "      <th>age</th>\n",
              "      <th>Medu</th>\n",
              "      <th>Fedu</th>\n",
              "      <th>traveltime</th>\n",
              "      <th>studytime</th>\n",
              "      <th>failures</th>\n",
              "      <th>romantic</th>\n",
              "      <th>famrel</th>\n",
              "      <th>freetime</th>\n",
              "      <th>goout</th>\n",
              "      <th>Dalc</th>\n",
              "      <th>Walc</th>\n",
              "      <th>health</th>\n",
              "      <th>absences</th>\n",
              "      <th>G1</th>\n",
              "      <th>G2</th>\n",
              "      <th>G3</th>\n",
              "    </tr>\n",
              "  </thead>\n",
              "  <tbody>\n",
              "    <tr>\n",
              "      <th>sex</th>\n",
              "      <td>1.000000</td>\n",
              "      <td>-0.028606</td>\n",
              "      <td>0.078228</td>\n",
              "      <td>0.034878</td>\n",
              "      <td>0.059722</td>\n",
              "      <td>-0.306268</td>\n",
              "      <td>0.044436</td>\n",
              "      <td>-0.102023</td>\n",
              "      <td>0.058971</td>\n",
              "      <td>0.238744</td>\n",
              "      <td>0.075897</td>\n",
              "      <td>0.268171</td>\n",
              "      <td>0.274194</td>\n",
              "      <td>0.143588</td>\n",
              "      <td>-0.066962</td>\n",
              "      <td>0.091839</td>\n",
              "      <td>0.091099</td>\n",
              "      <td>0.103456</td>\n",
              "    </tr>\n",
              "    <tr>\n",
              "      <th>age</th>\n",
              "      <td>-0.028606</td>\n",
              "      <td>1.000000</td>\n",
              "      <td>-0.163658</td>\n",
              "      <td>-0.163438</td>\n",
              "      <td>0.070641</td>\n",
              "      <td>-0.004140</td>\n",
              "      <td>0.243665</td>\n",
              "      <td>0.164669</td>\n",
              "      <td>0.053940</td>\n",
              "      <td>0.016434</td>\n",
              "      <td>0.126964</td>\n",
              "      <td>0.131125</td>\n",
              "      <td>0.117276</td>\n",
              "      <td>-0.062187</td>\n",
              "      <td>0.175230</td>\n",
              "      <td>-0.064081</td>\n",
              "      <td>-0.143474</td>\n",
              "      <td>-0.161579</td>\n",
              "    </tr>\n",
              "    <tr>\n",
              "      <th>Medu</th>\n",
              "      <td>0.078228</td>\n",
              "      <td>-0.163658</td>\n",
              "      <td>1.000000</td>\n",
              "      <td>0.623455</td>\n",
              "      <td>-0.171639</td>\n",
              "      <td>0.064944</td>\n",
              "      <td>-0.236680</td>\n",
              "      <td>0.039681</td>\n",
              "      <td>-0.003914</td>\n",
              "      <td>0.030891</td>\n",
              "      <td>0.064094</td>\n",
              "      <td>0.019834</td>\n",
              "      <td>-0.047123</td>\n",
              "      <td>-0.046878</td>\n",
              "      <td>0.100285</td>\n",
              "      <td>0.205341</td>\n",
              "      <td>0.215527</td>\n",
              "      <td>0.217147</td>\n",
              "    </tr>\n",
              "    <tr>\n",
              "      <th>Fedu</th>\n",
              "      <td>0.034878</td>\n",
              "      <td>-0.163438</td>\n",
              "      <td>0.623455</td>\n",
              "      <td>1.000000</td>\n",
              "      <td>-0.158194</td>\n",
              "      <td>-0.009175</td>\n",
              "      <td>-0.250408</td>\n",
              "      <td>0.015602</td>\n",
              "      <td>-0.001370</td>\n",
              "      <td>-0.012846</td>\n",
              "      <td>0.043105</td>\n",
              "      <td>0.002386</td>\n",
              "      <td>-0.012631</td>\n",
              "      <td>0.014742</td>\n",
              "      <td>0.024473</td>\n",
              "      <td>0.190270</td>\n",
              "      <td>0.164893</td>\n",
              "      <td>0.152457</td>\n",
              "    </tr>\n",
              "    <tr>\n",
              "      <th>traveltime</th>\n",
              "      <td>0.059722</td>\n",
              "      <td>0.070641</td>\n",
              "      <td>-0.171639</td>\n",
              "      <td>-0.158194</td>\n",
              "      <td>1.000000</td>\n",
              "      <td>-0.100909</td>\n",
              "      <td>0.092239</td>\n",
              "      <td>0.021962</td>\n",
              "      <td>-0.016808</td>\n",
              "      <td>-0.017025</td>\n",
              "      <td>0.028540</td>\n",
              "      <td>0.138325</td>\n",
              "      <td>0.134116</td>\n",
              "      <td>0.007501</td>\n",
              "      <td>-0.012944</td>\n",
              "      <td>-0.093040</td>\n",
              "      <td>-0.153198</td>\n",
              "      <td>-0.117142</td>\n",
              "    </tr>\n",
              "    <tr>\n",
              "      <th>studytime</th>\n",
              "      <td>-0.306268</td>\n",
              "      <td>-0.004140</td>\n",
              "      <td>0.064944</td>\n",
              "      <td>-0.009175</td>\n",
              "      <td>-0.100909</td>\n",
              "      <td>1.000000</td>\n",
              "      <td>-0.173563</td>\n",
              "      <td>0.053285</td>\n",
              "      <td>0.039731</td>\n",
              "      <td>-0.143198</td>\n",
              "      <td>-0.063904</td>\n",
              "      <td>-0.196019</td>\n",
              "      <td>-0.253785</td>\n",
              "      <td>-0.075616</td>\n",
              "      <td>-0.062700</td>\n",
              "      <td>0.160612</td>\n",
              "      <td>0.135880</td>\n",
              "      <td>0.097820</td>\n",
              "    </tr>\n",
              "    <tr>\n",
              "      <th>failures</th>\n",
              "      <td>0.044436</td>\n",
              "      <td>0.243665</td>\n",
              "      <td>-0.236680</td>\n",
              "      <td>-0.250408</td>\n",
              "      <td>0.092239</td>\n",
              "      <td>-0.173563</td>\n",
              "      <td>1.000000</td>\n",
              "      <td>0.093137</td>\n",
              "      <td>-0.044337</td>\n",
              "      <td>0.091987</td>\n",
              "      <td>0.124561</td>\n",
              "      <td>0.136047</td>\n",
              "      <td>0.141962</td>\n",
              "      <td>0.065827</td>\n",
              "      <td>0.063726</td>\n",
              "      <td>-0.354718</td>\n",
              "      <td>-0.355896</td>\n",
              "      <td>-0.360415</td>\n",
              "    </tr>\n",
              "    <tr>\n",
              "      <th>romantic</th>\n",
              "      <td>-0.102023</td>\n",
              "      <td>0.164669</td>\n",
              "      <td>0.039681</td>\n",
              "      <td>0.015602</td>\n",
              "      <td>0.021962</td>\n",
              "      <td>0.053285</td>\n",
              "      <td>0.093137</td>\n",
              "      <td>1.000000</td>\n",
              "      <td>-0.063816</td>\n",
              "      <td>-0.011182</td>\n",
              "      <td>0.007870</td>\n",
              "      <td>0.015121</td>\n",
              "      <td>-0.010141</td>\n",
              "      <td>0.026342</td>\n",
              "      <td>0.153384</td>\n",
              "      <td>-0.037188</td>\n",
              "      <td>-0.111774</td>\n",
              "      <td>-0.129970</td>\n",
              "    </tr>\n",
              "    <tr>\n",
              "      <th>famrel</th>\n",
              "      <td>0.058971</td>\n",
              "      <td>0.053940</td>\n",
              "      <td>-0.003914</td>\n",
              "      <td>-0.001370</td>\n",
              "      <td>-0.016808</td>\n",
              "      <td>0.039731</td>\n",
              "      <td>-0.044337</td>\n",
              "      <td>-0.063816</td>\n",
              "      <td>1.000000</td>\n",
              "      <td>0.150701</td>\n",
              "      <td>0.064568</td>\n",
              "      <td>-0.077594</td>\n",
              "      <td>-0.113397</td>\n",
              "      <td>0.094056</td>\n",
              "      <td>-0.044354</td>\n",
              "      <td>0.022168</td>\n",
              "      <td>-0.018281</td>\n",
              "      <td>0.051363</td>\n",
              "    </tr>\n",
              "    <tr>\n",
              "      <th>freetime</th>\n",
              "      <td>0.238744</td>\n",
              "      <td>0.016434</td>\n",
              "      <td>0.030891</td>\n",
              "      <td>-0.012846</td>\n",
              "      <td>-0.017025</td>\n",
              "      <td>-0.143198</td>\n",
              "      <td>0.091987</td>\n",
              "      <td>-0.011182</td>\n",
              "      <td>0.150701</td>\n",
              "      <td>1.000000</td>\n",
              "      <td>0.285019</td>\n",
              "      <td>0.209001</td>\n",
              "      <td>0.147822</td>\n",
              "      <td>0.075733</td>\n",
              "      <td>-0.058078</td>\n",
              "      <td>0.012613</td>\n",
              "      <td>-0.013777</td>\n",
              "      <td>0.011307</td>\n",
              "    </tr>\n",
              "    <tr>\n",
              "      <th>goout</th>\n",
              "      <td>0.075897</td>\n",
              "      <td>0.126964</td>\n",
              "      <td>0.064094</td>\n",
              "      <td>0.043105</td>\n",
              "      <td>0.028540</td>\n",
              "      <td>-0.063904</td>\n",
              "      <td>0.124561</td>\n",
              "      <td>0.007870</td>\n",
              "      <td>0.064568</td>\n",
              "      <td>0.285019</td>\n",
              "      <td>1.000000</td>\n",
              "      <td>0.266994</td>\n",
              "      <td>0.420386</td>\n",
              "      <td>-0.009577</td>\n",
              "      <td>0.044302</td>\n",
              "      <td>-0.149104</td>\n",
              "      <td>-0.162250</td>\n",
              "      <td>-0.132791</td>\n",
              "    </tr>\n",
              "    <tr>\n",
              "      <th>Dalc</th>\n",
              "      <td>0.268171</td>\n",
              "      <td>0.131125</td>\n",
              "      <td>0.019834</td>\n",
              "      <td>0.002386</td>\n",
              "      <td>0.138325</td>\n",
              "      <td>-0.196019</td>\n",
              "      <td>0.136047</td>\n",
              "      <td>0.015121</td>\n",
              "      <td>-0.077594</td>\n",
              "      <td>0.209001</td>\n",
              "      <td>0.266994</td>\n",
              "      <td>1.000000</td>\n",
              "      <td>0.647544</td>\n",
              "      <td>0.077180</td>\n",
              "      <td>0.111908</td>\n",
              "      <td>-0.094159</td>\n",
              "      <td>-0.064120</td>\n",
              "      <td>-0.054660</td>\n",
              "    </tr>\n",
              "    <tr>\n",
              "      <th>Walc</th>\n",
              "      <td>0.274194</td>\n",
              "      <td>0.117276</td>\n",
              "      <td>-0.047123</td>\n",
              "      <td>-0.012631</td>\n",
              "      <td>0.134116</td>\n",
              "      <td>-0.253785</td>\n",
              "      <td>0.141962</td>\n",
              "      <td>-0.010141</td>\n",
              "      <td>-0.113397</td>\n",
              "      <td>0.147822</td>\n",
              "      <td>0.420386</td>\n",
              "      <td>0.647544</td>\n",
              "      <td>1.000000</td>\n",
              "      <td>0.092476</td>\n",
              "      <td>0.136291</td>\n",
              "      <td>-0.126179</td>\n",
              "      <td>-0.084927</td>\n",
              "      <td>-0.051939</td>\n",
              "    </tr>\n",
              "    <tr>\n",
              "      <th>health</th>\n",
              "      <td>0.143588</td>\n",
              "      <td>-0.062187</td>\n",
              "      <td>-0.046878</td>\n",
              "      <td>0.014742</td>\n",
              "      <td>0.007501</td>\n",
              "      <td>-0.075616</td>\n",
              "      <td>0.065827</td>\n",
              "      <td>0.026342</td>\n",
              "      <td>0.094056</td>\n",
              "      <td>0.075733</td>\n",
              "      <td>-0.009577</td>\n",
              "      <td>0.077180</td>\n",
              "      <td>0.092476</td>\n",
              "      <td>1.000000</td>\n",
              "      <td>-0.029937</td>\n",
              "      <td>-0.073172</td>\n",
              "      <td>-0.097720</td>\n",
              "      <td>-0.061335</td>\n",
              "    </tr>\n",
              "    <tr>\n",
              "      <th>absences</th>\n",
              "      <td>-0.066962</td>\n",
              "      <td>0.175230</td>\n",
              "      <td>0.100285</td>\n",
              "      <td>0.024473</td>\n",
              "      <td>-0.012944</td>\n",
              "      <td>-0.062700</td>\n",
              "      <td>0.063726</td>\n",
              "      <td>0.153384</td>\n",
              "      <td>-0.044354</td>\n",
              "      <td>-0.058078</td>\n",
              "      <td>0.044302</td>\n",
              "      <td>0.111908</td>\n",
              "      <td>0.136291</td>\n",
              "      <td>-0.029937</td>\n",
              "      <td>1.000000</td>\n",
              "      <td>-0.031003</td>\n",
              "      <td>-0.031777</td>\n",
              "      <td>0.034247</td>\n",
              "    </tr>\n",
              "    <tr>\n",
              "      <th>G1</th>\n",
              "      <td>0.091839</td>\n",
              "      <td>-0.064081</td>\n",
              "      <td>0.205341</td>\n",
              "      <td>0.190270</td>\n",
              "      <td>-0.093040</td>\n",
              "      <td>0.160612</td>\n",
              "      <td>-0.354718</td>\n",
              "      <td>-0.037188</td>\n",
              "      <td>0.022168</td>\n",
              "      <td>0.012613</td>\n",
              "      <td>-0.149104</td>\n",
              "      <td>-0.094159</td>\n",
              "      <td>-0.126179</td>\n",
              "      <td>-0.073172</td>\n",
              "      <td>-0.031003</td>\n",
              "      <td>1.000000</td>\n",
              "      <td>0.852118</td>\n",
              "      <td>0.801468</td>\n",
              "    </tr>\n",
              "    <tr>\n",
              "      <th>G2</th>\n",
              "      <td>0.091099</td>\n",
              "      <td>-0.143474</td>\n",
              "      <td>0.215527</td>\n",
              "      <td>0.164893</td>\n",
              "      <td>-0.153198</td>\n",
              "      <td>0.135880</td>\n",
              "      <td>-0.355896</td>\n",
              "      <td>-0.111774</td>\n",
              "      <td>-0.018281</td>\n",
              "      <td>-0.013777</td>\n",
              "      <td>-0.162250</td>\n",
              "      <td>-0.064120</td>\n",
              "      <td>-0.084927</td>\n",
              "      <td>-0.097720</td>\n",
              "      <td>-0.031777</td>\n",
              "      <td>0.852118</td>\n",
              "      <td>1.000000</td>\n",
              "      <td>0.904868</td>\n",
              "    </tr>\n",
              "    <tr>\n",
              "      <th>G3</th>\n",
              "      <td>0.103456</td>\n",
              "      <td>-0.161579</td>\n",
              "      <td>0.217147</td>\n",
              "      <td>0.152457</td>\n",
              "      <td>-0.117142</td>\n",
              "      <td>0.097820</td>\n",
              "      <td>-0.360415</td>\n",
              "      <td>-0.129970</td>\n",
              "      <td>0.051363</td>\n",
              "      <td>0.011307</td>\n",
              "      <td>-0.132791</td>\n",
              "      <td>-0.054660</td>\n",
              "      <td>-0.051939</td>\n",
              "      <td>-0.061335</td>\n",
              "      <td>0.034247</td>\n",
              "      <td>0.801468</td>\n",
              "      <td>0.904868</td>\n",
              "      <td>1.000000</td>\n",
              "    </tr>\n",
              "  </tbody>\n",
              "</table>\n",
              "</div>"
            ],
            "text/plain": [
              "                 sex       age      Medu      Fedu  traveltime  studytime  \\\n",
              "sex         1.000000 -0.028606  0.078228  0.034878    0.059722  -0.306268   \n",
              "age        -0.028606  1.000000 -0.163658 -0.163438    0.070641  -0.004140   \n",
              "Medu        0.078228 -0.163658  1.000000  0.623455   -0.171639   0.064944   \n",
              "Fedu        0.034878 -0.163438  0.623455  1.000000   -0.158194  -0.009175   \n",
              "traveltime  0.059722  0.070641 -0.171639 -0.158194    1.000000  -0.100909   \n",
              "studytime  -0.306268 -0.004140  0.064944 -0.009175   -0.100909   1.000000   \n",
              "failures    0.044436  0.243665 -0.236680 -0.250408    0.092239  -0.173563   \n",
              "romantic   -0.102023  0.164669  0.039681  0.015602    0.021962   0.053285   \n",
              "famrel      0.058971  0.053940 -0.003914 -0.001370   -0.016808   0.039731   \n",
              "freetime    0.238744  0.016434  0.030891 -0.012846   -0.017025  -0.143198   \n",
              "goout       0.075897  0.126964  0.064094  0.043105    0.028540  -0.063904   \n",
              "Dalc        0.268171  0.131125  0.019834  0.002386    0.138325  -0.196019   \n",
              "Walc        0.274194  0.117276 -0.047123 -0.012631    0.134116  -0.253785   \n",
              "health      0.143588 -0.062187 -0.046878  0.014742    0.007501  -0.075616   \n",
              "absences   -0.066962  0.175230  0.100285  0.024473   -0.012944  -0.062700   \n",
              "G1          0.091839 -0.064081  0.205341  0.190270   -0.093040   0.160612   \n",
              "G2          0.091099 -0.143474  0.215527  0.164893   -0.153198   0.135880   \n",
              "G3          0.103456 -0.161579  0.217147  0.152457   -0.117142   0.097820   \n",
              "\n",
              "            failures  romantic    famrel  freetime     goout      Dalc  \\\n",
              "sex         0.044436 -0.102023  0.058971  0.238744  0.075897  0.268171   \n",
              "age         0.243665  0.164669  0.053940  0.016434  0.126964  0.131125   \n",
              "Medu       -0.236680  0.039681 -0.003914  0.030891  0.064094  0.019834   \n",
              "Fedu       -0.250408  0.015602 -0.001370 -0.012846  0.043105  0.002386   \n",
              "traveltime  0.092239  0.021962 -0.016808 -0.017025  0.028540  0.138325   \n",
              "studytime  -0.173563  0.053285  0.039731 -0.143198 -0.063904 -0.196019   \n",
              "failures    1.000000  0.093137 -0.044337  0.091987  0.124561  0.136047   \n",
              "romantic    0.093137  1.000000 -0.063816 -0.011182  0.007870  0.015121   \n",
              "famrel     -0.044337 -0.063816  1.000000  0.150701  0.064568 -0.077594   \n",
              "freetime    0.091987 -0.011182  0.150701  1.000000  0.285019  0.209001   \n",
              "goout       0.124561  0.007870  0.064568  0.285019  1.000000  0.266994   \n",
              "Dalc        0.136047  0.015121 -0.077594  0.209001  0.266994  1.000000   \n",
              "Walc        0.141962 -0.010141 -0.113397  0.147822  0.420386  0.647544   \n",
              "health      0.065827  0.026342  0.094056  0.075733 -0.009577  0.077180   \n",
              "absences    0.063726  0.153384 -0.044354 -0.058078  0.044302  0.111908   \n",
              "G1         -0.354718 -0.037188  0.022168  0.012613 -0.149104 -0.094159   \n",
              "G2         -0.355896 -0.111774 -0.018281 -0.013777 -0.162250 -0.064120   \n",
              "G3         -0.360415 -0.129970  0.051363  0.011307 -0.132791 -0.054660   \n",
              "\n",
              "                Walc    health  absences        G1        G2        G3  \n",
              "sex         0.274194  0.143588 -0.066962  0.091839  0.091099  0.103456  \n",
              "age         0.117276 -0.062187  0.175230 -0.064081 -0.143474 -0.161579  \n",
              "Medu       -0.047123 -0.046878  0.100285  0.205341  0.215527  0.217147  \n",
              "Fedu       -0.012631  0.014742  0.024473  0.190270  0.164893  0.152457  \n",
              "traveltime  0.134116  0.007501 -0.012944 -0.093040 -0.153198 -0.117142  \n",
              "studytime  -0.253785 -0.075616 -0.062700  0.160612  0.135880  0.097820  \n",
              "failures    0.141962  0.065827  0.063726 -0.354718 -0.355896 -0.360415  \n",
              "romantic   -0.010141  0.026342  0.153384 -0.037188 -0.111774 -0.129970  \n",
              "famrel     -0.113397  0.094056 -0.044354  0.022168 -0.018281  0.051363  \n",
              "freetime    0.147822  0.075733 -0.058078  0.012613 -0.013777  0.011307  \n",
              "goout       0.420386 -0.009577  0.044302 -0.149104 -0.162250 -0.132791  \n",
              "Dalc        0.647544  0.077180  0.111908 -0.094159 -0.064120 -0.054660  \n",
              "Walc        1.000000  0.092476  0.136291 -0.126179 -0.084927 -0.051939  \n",
              "health      0.092476  1.000000 -0.029937 -0.073172 -0.097720 -0.061335  \n",
              "absences    0.136291 -0.029937  1.000000 -0.031003 -0.031777  0.034247  \n",
              "G1         -0.126179 -0.073172 -0.031003  1.000000  0.852118  0.801468  \n",
              "G2         -0.084927 -0.097720 -0.031777  0.852118  1.000000  0.904868  \n",
              "G3         -0.051939 -0.061335  0.034247  0.801468  0.904868  1.000000  "
            ]
          },
          "execution_count": 6,
          "metadata": {},
          "output_type": "execute_result"
        }
      ],
      "source": [
        "df.corr()"
      ]
    },
    {
      "cell_type": "code",
      "execution_count": 7,
      "metadata": {},
      "outputs": [
        {
          "data": {
            "text/plain": [
              "['sex',\n",
              " 'age',\n",
              " 'Medu',\n",
              " 'traveltime',\n",
              " 'studytime',\n",
              " 'failures',\n",
              " 'romantic',\n",
              " 'famrel',\n",
              " 'health',\n",
              " 'absences',\n",
              " 'G1',\n",
              " 'G2',\n",
              " 'G3']"
            ]
          },
          "execution_count": 7,
          "metadata": {},
          "output_type": "execute_result"
        }
      ],
      "source": [
        "columns = []\n",
        "for i, row in df.corr().iterrows():\n",
        "    columns.append(i) if abs(row[\"romantic\"]) > 0.02 else None\n",
        "\n",
        "columns"
      ]
    },
    {
      "cell_type": "code",
      "execution_count": 8,
      "metadata": {},
      "outputs": [],
      "source": [
        "df = df[columns]"
      ]
    },
    {
      "cell_type": "code",
      "execution_count": 9,
      "metadata": {
        "id": "jj8vFPWR0ka1"
      },
      "outputs": [
        {
          "data": {
            "text/plain": [
              "sex           0\n",
              "age           0\n",
              "Medu          0\n",
              "traveltime    0\n",
              "studytime     0\n",
              "failures      0\n",
              "romantic      0\n",
              "famrel        0\n",
              "health        0\n",
              "absences      0\n",
              "G1            0\n",
              "G2            0\n",
              "G3            0\n",
              "dtype: int64"
            ]
          },
          "execution_count": 9,
          "metadata": {},
          "output_type": "execute_result"
        }
      ],
      "source": [
        "for x in df:\n",
        "    df.drop(df.loc[df[x]=='?'].index, inplace=True)\n",
        "            \n",
        "df.isnull().sum()"
      ]
    },
    {
      "cell_type": "code",
      "execution_count": 10,
      "metadata": {
        "colab": {
          "base_uri": "https://localhost:8080/"
        },
        "id": "nHn6TGEs0ka2",
        "outputId": "447ec93a-422c-45fb-f6d7-16d06226297a"
      },
      "outputs": [
        {
          "name": "stdout",
          "output_type": "stream",
          "text": [
            "Counter({0: 263, 1: 64})\n"
          ]
        }
      ],
      "source": [
        "for i, row in df.iterrows():\n",
        "    if df.at[i,'romantic'] == True:\n",
        "        a = random.choice([0,1])\n",
        "        if a==0:\n",
        "            df.drop(i, inplace=True)\n",
        "\n",
        "print(Counter(df[\"romantic\"]))"
      ]
    },
    {
      "cell_type": "code",
      "execution_count": 69,
      "metadata": {},
      "outputs": [
        {
          "data": {
            "text/plain": [
              "24.334600760456272"
            ]
          },
          "execution_count": 69,
          "metadata": {},
          "output_type": "execute_result"
        }
      ],
      "source": [
        "(Counter(df['romantic'])[1]/Counter(df['romantic'])[0])*100"
      ]
    },
    {
      "cell_type": "code",
      "execution_count": 11,
      "metadata": {
        "colab": {
          "base_uri": "https://localhost:8080/"
        },
        "id": "ChOmumuF0ka4",
        "outputId": "d2ba702c-2ffc-4b1f-d7d3-4f14b7ddc62c"
      },
      "outputs": [
        {
          "name": "stdout",
          "output_type": "stream",
          "text": [
            "<class 'numpy.int32'>\n",
            "0      0\n",
            "1      0\n",
            "2      0\n",
            "4      0\n",
            "5      0\n",
            "      ..\n",
            "390    0\n",
            "391    0\n",
            "392    0\n",
            "393    0\n",
            "394    0\n",
            "Name: romantic, Length: 327, dtype: int32\n"
          ]
        }
      ],
      "source": [
        "X = df.drop(columns=[\"romantic\"])\n",
        "y = df.romantic \n",
        "print(type(y[0]))\n",
        "print(y)"
      ]
    },
    {
      "cell_type": "code",
      "execution_count": 12,
      "metadata": {
        "id": "CFR1dkIX0ka4"
      },
      "outputs": [],
      "source": [
        "X_train, X_test, y_train, y_test = train_test_split(X, y, test_size=0.2, random_state=42)"
      ]
    },
    {
      "cell_type": "code",
      "execution_count": 13,
      "metadata": {
        "colab": {
          "base_uri": "https://localhost:8080/"
        },
        "id": "eRw695zU0ka5",
        "outputId": "764fdb1e-e70c-43fc-9c34-27034a274ec3"
      },
      "outputs": [
        {
          "name": "stdout",
          "output_type": "stream",
          "text": [
            "0    57\n",
            "1     9\n",
            "Name: romantic, dtype: int64\n",
            "0    206\n",
            "1     55\n",
            "Name: romantic, dtype: int64\n"
          ]
        }
      ],
      "source": [
        "print(y_test.value_counts())\n",
        "print(y_train.value_counts())"
      ]
    },
    {
      "cell_type": "markdown",
      "metadata": {
        "id": "P78XMq2M5eW3"
      },
      "source": [
        "## Data Resampling Techniques"
      ]
    },
    {
      "cell_type": "markdown",
      "metadata": {
        "id": "fdTYMvf16y-Z"
      },
      "source": [
        "Random Oversampling"
      ]
    },
    {
      "cell_type": "code",
      "execution_count": 14,
      "metadata": {
        "colab": {
          "base_uri": "https://localhost:8080/"
        },
        "id": "su7S5YrX0ka5",
        "outputId": "0c9bd533-8361-4df4-94da-9672ea09419d"
      },
      "outputs": [
        {
          "name": "stdout",
          "output_type": "stream",
          "text": [
            "Counter({0: 206, 1: 103})\n"
          ]
        }
      ],
      "source": [
        "oversampler = RandomOverSampler(sampling_strategy=.5)\n",
        "X_over, y_over = oversampler.fit_resample(X_train, y_train)\n",
        "print(Counter(y_over))"
      ]
    },
    {
      "cell_type": "markdown",
      "metadata": {
        "id": "taG6JCAm61Sa"
      },
      "source": [
        "Random Undersampling"
      ]
    },
    {
      "cell_type": "code",
      "execution_count": 15,
      "metadata": {
        "colab": {
          "base_uri": "https://localhost:8080/"
        },
        "id": "lX-lLmHi0ka6",
        "outputId": "b57b69d1-c825-45f6-9683-3521889e3b7c"
      },
      "outputs": [
        {
          "name": "stdout",
          "output_type": "stream",
          "text": [
            "Counter({0: 110, 1: 55})\n"
          ]
        }
      ],
      "source": [
        "undersampler = RandomUnderSampler(sampling_strategy=.5)\n",
        "X_under, y_under = undersampler.fit_resample(X_train, y_train)\n",
        "print(Counter(y_under))"
      ]
    },
    {
      "cell_type": "markdown",
      "metadata": {
        "id": "bpRTavtx63ov"
      },
      "source": [
        "Synthetic Minority Over Sampling"
      ]
    },
    {
      "cell_type": "code",
      "execution_count": 16,
      "metadata": {
        "id": "PRi1SWgC0ka6"
      },
      "outputs": [],
      "source": [
        "X_train_smote = np.asarray(X_train)\n",
        "y_train_smote = np.asarray(y_train)\n"
      ]
    },
    {
      "cell_type": "code",
      "execution_count": 17,
      "metadata": {
        "colab": {
          "base_uri": "https://localhost:8080/"
        },
        "id": "gD4yiSTs0ka7",
        "outputId": "402046e6-5cbc-4a90-e90d-c3023f0e7a1a"
      },
      "outputs": [
        {
          "name": "stdout",
          "output_type": "stream",
          "text": [
            "Counter({0: 206, 1: 206})\n"
          ]
        }
      ],
      "source": [
        "smotesampler = SMOTE()\n",
        "X_smote, y_smote = smotesampler.fit_resample(X_train_smote, y_train_smote)\n",
        "print(Counter(y_smote))"
      ]
    },
    {
      "cell_type": "markdown",
      "metadata": {
        "id": "Z-oJ8HH_0ka7"
      },
      "source": [
        "## Decision Tree"
      ]
    },
    {
      "cell_type": "code",
      "execution_count": 18,
      "metadata": {
        "id": "VYT7kzlY0ka9"
      },
      "outputs": [],
      "source": [
        "clf = tree.DecisionTreeClassifier()\n",
        "clf = clf.fit(X_train, y_train)"
      ]
    },
    {
      "cell_type": "code",
      "execution_count": 19,
      "metadata": {
        "id": "6vspvdmr0ka-"
      },
      "outputs": [],
      "source": [
        "pred = clf.predict(X_test)"
      ]
    },
    {
      "cell_type": "code",
      "execution_count": 20,
      "metadata": {
        "colab": {
          "base_uri": "https://localhost:8080/"
        },
        "id": "_9Szyz9ZSlt4",
        "outputId": "287cc3e8-ae00-4e87-9650-dcb539553a32"
      },
      "outputs": [
        {
          "name": "stdout",
          "output_type": "stream",
          "text": [
            "[[43 14]\n",
            " [ 4  5]]\n"
          ]
        }
      ],
      "source": [
        "conf = confusion_matrix(y_test, pred)\n",
        "print(conf)"
      ]
    },
    {
      "cell_type": "code",
      "execution_count": 21,
      "metadata": {
        "id": "rWY5zNX-Slt9"
      },
      "outputs": [],
      "source": [
        "true_negative_rate = conf[0][0]/(conf[0][0]+conf[0][1])\n",
        "true_positive_rate = conf[1][1]/(conf[1][1]+conf[1][0])\n",
        "g_mean_dec = math.sqrt(true_positive_rate*true_negative_rate)"
      ]
    },
    {
      "cell_type": "code",
      "execution_count": 22,
      "metadata": {
        "id": "5j7kQaZlSlt9"
      },
      "outputs": [],
      "source": [
        "false_positive_rate = conf[0][1]/(conf[0][1]+conf[0][0])\n",
        "balance_dec = 1 - math.sqrt((true_positive_rate)**2 + (1-false_positive_rate)**2)/math.sqrt(2)\n",
        "f1_dec = f1_score(y_test, pred)"
      ]
    },
    {
      "cell_type": "code",
      "execution_count": 23,
      "metadata": {
        "colab": {
          "base_uri": "https://localhost:8080/"
        },
        "id": "SsNufMDhSlt9",
        "outputId": "63e04ed6-c231-490f-c7bb-426ae4477f61"
      },
      "outputs": [
        {
          "name": "stdout",
          "output_type": "stream",
          "text": [
            "g-mean =  0.6473818918074215\n",
            "Balance =  0.33752729891516486\n"
          ]
        }
      ],
      "source": [
        "print(\"g-mean = \",g_mean_dec)\n",
        "print(\"Balance = \",balance_dec)"
      ]
    },
    {
      "cell_type": "markdown",
      "metadata": {
        "id": "ijl-_xYg0ka_"
      },
      "source": [
        "## Bagging "
      ]
    },
    {
      "cell_type": "code",
      "execution_count": 24,
      "metadata": {
        "colab": {
          "base_uri": "https://localhost:8080/"
        },
        "id": "gvOG5NkP0kbA",
        "outputId": "39f655b4-2087-4206-aba4-1cecb590bb37"
      },
      "outputs": [
        {
          "data": {
            "text/plain": [
              "BaggingClassifier()"
            ]
          },
          "execution_count": 24,
          "metadata": {},
          "output_type": "execute_result"
        }
      ],
      "source": [
        "bag = BaggingClassifier()\n",
        "bag.fit(X_train, y_train)"
      ]
    },
    {
      "cell_type": "code",
      "execution_count": 25,
      "metadata": {
        "id": "0fOlADBD0kbA"
      },
      "outputs": [],
      "source": [
        "pred = bag.predict(X_test)"
      ]
    },
    {
      "cell_type": "code",
      "execution_count": 26,
      "metadata": {
        "colab": {
          "base_uri": "https://localhost:8080/"
        },
        "id": "4mvVep3r0kbB",
        "outputId": "3a30eaad-a6b5-4497-8289-4123f3f1674d"
      },
      "outputs": [
        {
          "name": "stdout",
          "output_type": "stream",
          "text": [
            "[[52  5]\n",
            " [ 6  3]]\n"
          ]
        }
      ],
      "source": [
        "conf = confusion_matrix(y_test, pred)\n",
        "print(conf)"
      ]
    },
    {
      "cell_type": "code",
      "execution_count": 27,
      "metadata": {
        "id": "QjNFMvry7RbE"
      },
      "outputs": [],
      "source": [
        "true_negative_rate = conf[0][0]/(conf[0][0]+conf[0][1])\n",
        "true_positive_rate = conf[1][1]/(conf[1][1]+conf[1][0])\n",
        "g_mean_bag = math.sqrt(true_positive_rate*true_negative_rate)"
      ]
    },
    {
      "cell_type": "code",
      "execution_count": 28,
      "metadata": {
        "id": "3hKXe72NGKVj"
      },
      "outputs": [],
      "source": [
        "false_positive_rate = conf[0][1]/(conf[0][1]+conf[0][0])\n",
        "balance_bag = 1 - math.sqrt((true_positive_rate)**2 + (1-false_positive_rate)**2)/math.sqrt(2)\n",
        "f1_bag = f1_score(y_test, pred)"
      ]
    },
    {
      "cell_type": "code",
      "execution_count": 29,
      "metadata": {
        "colab": {
          "base_uri": "https://localhost:8080/"
        },
        "id": "z2n5iwg-F50R",
        "outputId": "79315e44-311a-453e-cd85-ea42ffefae07"
      },
      "outputs": [
        {
          "name": "stdout",
          "output_type": "stream",
          "text": [
            "g-mean =  0.5514467945790074\n",
            "Balance =  0.31320774978724975\n"
          ]
        }
      ],
      "source": [
        "print(\"g-mean = \",g_mean_bag)\n",
        "print(\"Balance = \",balance_bag)"
      ]
    },
    {
      "cell_type": "markdown",
      "metadata": {
        "id": "eSvTV4Vj0kbB"
      },
      "source": [
        "## AdaBoost"
      ]
    },
    {
      "cell_type": "code",
      "execution_count": 30,
      "metadata": {
        "colab": {
          "base_uri": "https://localhost:8080/"
        },
        "id": "MHe9q6W20kbC",
        "outputId": "51c27ee8-d7d2-4b2e-ebb6-b1ac3ce7a107"
      },
      "outputs": [
        {
          "data": {
            "text/plain": [
              "AdaBoostClassifier()"
            ]
          },
          "execution_count": 30,
          "metadata": {},
          "output_type": "execute_result"
        }
      ],
      "source": [
        "ada = AdaBoostClassifier()\n",
        "ada.fit(X_train, y_train)"
      ]
    },
    {
      "cell_type": "code",
      "execution_count": 31,
      "metadata": {
        "id": "7VLi0d_U0kbC"
      },
      "outputs": [],
      "source": [
        "pred = ada.predict(X_test)"
      ]
    },
    {
      "cell_type": "code",
      "execution_count": 32,
      "metadata": {
        "colab": {
          "base_uri": "https://localhost:8080/"
        },
        "id": "GwGNUcldSnvm",
        "outputId": "fc4171e1-e76d-4829-c452-b45bcd9683df"
      },
      "outputs": [
        {
          "name": "stdout",
          "output_type": "stream",
          "text": [
            "[[51  6]\n",
            " [ 7  2]]\n"
          ]
        }
      ],
      "source": [
        "conf = confusion_matrix(y_test, pred)\n",
        "print(conf)"
      ]
    },
    {
      "cell_type": "code",
      "execution_count": 33,
      "metadata": {
        "id": "OY9EMJJ0Snvm"
      },
      "outputs": [],
      "source": [
        "true_negative_rate = conf[0][0]/(conf[0][0]+conf[0][1])\n",
        "true_positive_rate = conf[1][1]/(conf[1][1]+conf[1][0])\n",
        "g_mean_ada = math.sqrt(true_positive_rate*true_negative_rate)"
      ]
    },
    {
      "cell_type": "code",
      "execution_count": 34,
      "metadata": {
        "id": "-SHpz1EtSnvm"
      },
      "outputs": [],
      "source": [
        "false_positive_rate = conf[0][1]/(conf[0][1]+conf[0][0])\n",
        "balance_ada = 1 - math.sqrt((true_positive_rate)**2 + (1-false_positive_rate)**2)/math.sqrt(2)\n",
        "f1_ada = f1_score(y_test, pred)"
      ]
    },
    {
      "cell_type": "code",
      "execution_count": 35,
      "metadata": {
        "colab": {
          "base_uri": "https://localhost:8080/"
        },
        "id": "HDA0Bo0FSnvm",
        "outputId": "8e1c909f-683b-4736-a3e1-74bf80ff2635"
      },
      "outputs": [
        {
          "name": "stdout",
          "output_type": "stream",
          "text": [
            "g-mean =  0.4459040360399591\n",
            "Balance =  0.34810402184478806\n"
          ]
        }
      ],
      "source": [
        "print(\"g-mean = \",g_mean_ada)\n",
        "print(\"Balance = \",balance_ada)"
      ]
    },
    {
      "cell_type": "markdown",
      "metadata": {
        "id": "cCSZXA940kbD"
      },
      "source": [
        "## Easy Ensemble"
      ]
    },
    {
      "cell_type": "code",
      "execution_count": 36,
      "metadata": {
        "colab": {
          "base_uri": "https://localhost:8080/",
          "height": 328
        },
        "id": "UDwArmgn0kbD",
        "outputId": "1020c4d7-1877-4998-f04a-869e5311db87"
      },
      "outputs": [
        {
          "data": {
            "text/plain": [
              "EasyEnsembleClassifier(random_state=42)"
            ]
          },
          "execution_count": 36,
          "metadata": {},
          "output_type": "execute_result"
        }
      ],
      "source": [
        "easy_ensemble = EasyEnsembleClassifier(random_state=42)\n",
        "easy_ensemble.fit(X_smote, y_smote)"
      ]
    },
    {
      "cell_type": "code",
      "execution_count": 37,
      "metadata": {
        "id": "5RZucfES0kbD"
      },
      "outputs": [],
      "source": [
        "pred = easy_ensemble.predict(X_test)"
      ]
    },
    {
      "cell_type": "code",
      "execution_count": 38,
      "metadata": {
        "id": "TUqQneq6Spl1"
      },
      "outputs": [
        {
          "name": "stdout",
          "output_type": "stream",
          "text": [
            "[[42 15]\n",
            " [ 5  4]]\n"
          ]
        }
      ],
      "source": [
        "conf = confusion_matrix(y_test, pred)\n",
        "print(conf)"
      ]
    },
    {
      "cell_type": "code",
      "execution_count": 39,
      "metadata": {
        "id": "3l03g8YXSpl1"
      },
      "outputs": [],
      "source": [
        "true_negative_rate = conf[0][0]/(conf[0][0]+conf[0][1])\n",
        "true_positive_rate = conf[1][1]/(conf[1][1]+conf[1][0])\n",
        "g_mean_ez = math.sqrt(true_positive_rate*true_negative_rate)"
      ]
    },
    {
      "cell_type": "code",
      "execution_count": 40,
      "metadata": {
        "id": "7E75GTvASpl2"
      },
      "outputs": [],
      "source": [
        "false_positive_rate = conf[0][1]/(conf[0][1]+conf[0][0])\n",
        "balance_ez = 1 - math.sqrt((true_positive_rate)**2 + (1-false_positive_rate)**2)/math.sqrt(2)\n",
        "f1_ez = f1_score(y_test, pred)"
      ]
    },
    {
      "cell_type": "code",
      "execution_count": 41,
      "metadata": {
        "id": "WEQp6TPuSpl2"
      },
      "outputs": [
        {
          "name": "stdout",
          "output_type": "stream",
          "text": [
            "g-mean =  0.5722633835193014\n",
            "Balance =  0.39153177885522505\n"
          ]
        }
      ],
      "source": [
        "print(\"g-mean = \",g_mean_ez)\n",
        "print(\"Balance = \",balance_ez)"
      ]
    },
    {
      "cell_type": "markdown",
      "metadata": {
        "id": "6nCzrk100kbE"
      },
      "source": [
        "## RusBoost"
      ]
    },
    {
      "cell_type": "code",
      "execution_count": 42,
      "metadata": {
        "colab": {
          "base_uri": "https://localhost:8080/"
        },
        "id": "V3e4RhLA0kbE",
        "outputId": "81436630-678d-41f3-d5a8-d8be655c7b91"
      },
      "outputs": [
        {
          "data": {
            "text/plain": [
              "AdaBoostClassifier()"
            ]
          },
          "execution_count": 42,
          "metadata": {},
          "output_type": "execute_result"
        }
      ],
      "source": [
        "rus = AdaBoostClassifier()\n",
        "rus.fit(X_under, y_under)"
      ]
    },
    {
      "cell_type": "code",
      "execution_count": 43,
      "metadata": {
        "id": "qJPlON-H0kbE"
      },
      "outputs": [],
      "source": [
        "pred = rus.predict(X_test)"
      ]
    },
    {
      "cell_type": "code",
      "execution_count": 44,
      "metadata": {
        "colab": {
          "base_uri": "https://localhost:8080/"
        },
        "id": "H1EGACQeSr02",
        "outputId": "1d00719e-d8e8-4639-b635-4c690017ef38"
      },
      "outputs": [
        {
          "name": "stdout",
          "output_type": "stream",
          "text": [
            "[[43 14]\n",
            " [ 3  6]]\n"
          ]
        }
      ],
      "source": [
        "conf = confusion_matrix(y_test, pred)\n",
        "print(conf)"
      ]
    },
    {
      "cell_type": "code",
      "execution_count": 45,
      "metadata": {
        "id": "opvBK4GJSr02"
      },
      "outputs": [],
      "source": [
        "true_negative_rate = conf[0][0]/(conf[0][0]+conf[0][1])\n",
        "true_positive_rate = conf[1][1]/(conf[1][1]+conf[1][0])\n",
        "g_mean_rus = math.sqrt(true_positive_rate*true_negative_rate)"
      ]
    },
    {
      "cell_type": "code",
      "execution_count": 46,
      "metadata": {
        "id": "bwVNE5VgSr02"
      },
      "outputs": [],
      "source": [
        "false_positive_rate = conf[0][1]/(conf[0][1]+conf[0][0])\n",
        "balance_rus = 1 - math.sqrt((true_positive_rate)**2 + (1-false_positive_rate)**2)/math.sqrt(2)\n",
        "f1_rus = f1_score(y_test, pred)"
      ]
    },
    {
      "cell_type": "code",
      "execution_count": 47,
      "metadata": {
        "colab": {
          "base_uri": "https://localhost:8080/"
        },
        "id": "741bPbPXSr02",
        "outputId": "4ab065d1-cc48-4ee0-e781-7c88991920d0"
      },
      "outputs": [
        {
          "name": "stdout",
          "output_type": "stream",
          "text": [
            "g-mean =  0.7091713309265872\n",
            "Balance =  0.28812127841145685\n"
          ]
        }
      ],
      "source": [
        "print(\"g-mean = \",g_mean_rus)\n",
        "print(\"Balance = \",balance_rus)"
      ]
    },
    {
      "cell_type": "markdown",
      "metadata": {
        "id": "CdVEsya90kbE"
      },
      "source": [
        "## Smote Boost"
      ]
    },
    {
      "cell_type": "code",
      "execution_count": 48,
      "metadata": {
        "colab": {
          "base_uri": "https://localhost:8080/"
        },
        "id": "FixYD3KP0kbF",
        "outputId": "91aeb735-9fa5-47fc-9879-3c1610cdac83"
      },
      "outputs": [
        {
          "data": {
            "text/plain": [
              "AdaBoostClassifier()"
            ]
          },
          "execution_count": 48,
          "metadata": {},
          "output_type": "execute_result"
        }
      ],
      "source": [
        "smote_boost = AdaBoostClassifier()\n",
        "smote_boost.fit(X_smote,y_smote)"
      ]
    },
    {
      "cell_type": "code",
      "execution_count": 49,
      "metadata": {
        "colab": {
          "base_uri": "https://localhost:8080/"
        },
        "id": "UvVdWIK00kbF",
        "outputId": "09473906-953b-4e45-b9dd-6328dba54e57"
      },
      "outputs": [],
      "source": [
        "pred = smote_boost.predict(X_test)"
      ]
    },
    {
      "cell_type": "code",
      "execution_count": 50,
      "metadata": {
        "colab": {
          "base_uri": "https://localhost:8080/"
        },
        "id": "1mI23hgiStfg",
        "outputId": "ae910797-0f47-4f33-dd8f-bc286d8f03d4"
      },
      "outputs": [
        {
          "name": "stdout",
          "output_type": "stream",
          "text": [
            "[[42 15]\n",
            " [ 5  4]]\n"
          ]
        }
      ],
      "source": [
        "conf = confusion_matrix(y_test, pred)\n",
        "print(conf)"
      ]
    },
    {
      "cell_type": "code",
      "execution_count": 51,
      "metadata": {
        "id": "DLK7fNDKStfg"
      },
      "outputs": [],
      "source": [
        "true_negative_rate = conf[0][0]/(conf[0][0]+conf[0][1])\n",
        "true_positive_rate = conf[1][1]/(conf[1][1]+conf[1][0])\n",
        "g_mean_smb = math.sqrt(true_positive_rate*true_negative_rate)"
      ]
    },
    {
      "cell_type": "code",
      "execution_count": 52,
      "metadata": {
        "id": "NgAoiLkgStfg"
      },
      "outputs": [],
      "source": [
        "false_positive_rate = conf[0][1]/(conf[0][1]+conf[0][0])\n",
        "balance_smb = 1 - math.sqrt((true_positive_rate)**2 + (1-false_positive_rate)**2)/math.sqrt(2)\n",
        "f1_smb = f1_score(y_test, pred)"
      ]
    },
    {
      "cell_type": "code",
      "execution_count": 53,
      "metadata": {
        "colab": {
          "base_uri": "https://localhost:8080/"
        },
        "id": "7gsMh2XjStfh",
        "outputId": "42f3e4fe-e647-4d6f-8fd8-16b8ec32800b"
      },
      "outputs": [
        {
          "name": "stdout",
          "output_type": "stream",
          "text": [
            "g-mean =  0.5722633835193014\n",
            "Balance =  0.39153177885522505\n"
          ]
        }
      ],
      "source": [
        "print(\"g-mean = \",g_mean_smb)\n",
        "print(\"Balance = \",balance_smb)"
      ]
    },
    {
      "cell_type": "markdown",
      "metadata": {
        "id": "ggu7x4Zx0kbF"
      },
      "source": [
        "## Under Bagging"
      ]
    },
    {
      "cell_type": "code",
      "execution_count": 54,
      "metadata": {
        "colab": {
          "base_uri": "https://localhost:8080/"
        },
        "id": "xZL64Bkk0kbG",
        "outputId": "e62cebdb-f1e9-4ae3-82e3-ee595a7dcbe5"
      },
      "outputs": [
        {
          "data": {
            "text/plain": [
              "BaggingClassifier()"
            ]
          },
          "execution_count": 54,
          "metadata": {},
          "output_type": "execute_result"
        }
      ],
      "source": [
        "under_bagging = BaggingClassifier()\n",
        "under_bagging.fit(X_under, y_under)"
      ]
    },
    {
      "cell_type": "code",
      "execution_count": 55,
      "metadata": {
        "id": "OIOt0kxV0kbG"
      },
      "outputs": [],
      "source": [
        "pred = under_bagging.predict(X_test)"
      ]
    },
    {
      "cell_type": "code",
      "execution_count": 56,
      "metadata": {
        "colab": {
          "base_uri": "https://localhost:8080/"
        },
        "id": "BT8oEC9US23q",
        "outputId": "26a0751b-531d-4b21-acbf-cc25be4d0ed9"
      },
      "outputs": [
        {
          "name": "stdout",
          "output_type": "stream",
          "text": [
            "[[48  9]\n",
            " [ 4  5]]\n"
          ]
        }
      ],
      "source": [
        "conf = confusion_matrix(y_test, pred)\n",
        "print(conf)"
      ]
    },
    {
      "cell_type": "code",
      "execution_count": 57,
      "metadata": {
        "id": "CqKpMf2yS23q"
      },
      "outputs": [],
      "source": [
        "true_negative_rate = conf[0][0]/(conf[0][0]+conf[0][1])\n",
        "true_positive_rate = conf[1][1]/(conf[1][1]+conf[1][0])\n",
        "g_mean_ubag = math.sqrt(true_positive_rate*true_negative_rate)"
      ]
    },
    {
      "cell_type": "code",
      "execution_count": 58,
      "metadata": {
        "id": "lJc7qmNSS23q"
      },
      "outputs": [],
      "source": [
        "false_positive_rate = conf[0][1]/(conf[0][1]+conf[0][0])\n",
        "balance_ubag = 1 - math.sqrt((true_positive_rate)**2 + (1-false_positive_rate)**2)/math.sqrt(2)\n",
        "f1_ubag = f1_score(y_test, pred)"
      ]
    },
    {
      "cell_type": "code",
      "execution_count": 59,
      "metadata": {
        "colab": {
          "base_uri": "https://localhost:8080/"
        },
        "id": "0udmE8NrS23q",
        "outputId": "2e1f12a6-87e7-4a84-a416-83491513c3a4"
      },
      "outputs": [
        {
          "name": "stdout",
          "output_type": "stream",
          "text": [
            "g-mean =  0.6839855680567694\n",
            "Balance =  0.28663359710914726\n"
          ]
        }
      ],
      "source": [
        "print(\"g-mean = \",g_mean_ubag)\n",
        "print(\"Balance = \",balance_ubag)"
      ]
    },
    {
      "cell_type": "markdown",
      "metadata": {
        "id": "OpUcQzcuV4XK"
      },
      "source": [
        "## Over Bagging"
      ]
    },
    {
      "cell_type": "code",
      "execution_count": 60,
      "metadata": {
        "colab": {
          "base_uri": "https://localhost:8080/"
        },
        "id": "PThRYWGUWGB6",
        "outputId": "c0501e0c-7018-46bc-8b1a-6bb4c5160adf"
      },
      "outputs": [
        {
          "data": {
            "text/plain": [
              "BaggingClassifier()"
            ]
          },
          "execution_count": 60,
          "metadata": {},
          "output_type": "execute_result"
        }
      ],
      "source": [
        "over_bagging = BaggingClassifier()\n",
        "over_bagging.fit(X_over, y_over)"
      ]
    },
    {
      "cell_type": "code",
      "execution_count": 61,
      "metadata": {
        "id": "t9Yd0jWcWGB6"
      },
      "outputs": [],
      "source": [
        "pred = over_bagging.predict(X_test)"
      ]
    },
    {
      "cell_type": "code",
      "execution_count": 62,
      "metadata": {
        "colab": {
          "base_uri": "https://localhost:8080/"
        },
        "id": "Eji2n2pGWGB6",
        "outputId": "0edd81a4-d2cf-4306-d742-6ba0c7c72904"
      },
      "outputs": [
        {
          "name": "stdout",
          "output_type": "stream",
          "text": [
            "[[52  5]\n",
            " [ 7  2]]\n"
          ]
        }
      ],
      "source": [
        "conf = confusion_matrix(y_test, pred)\n",
        "print(conf)"
      ]
    },
    {
      "cell_type": "code",
      "execution_count": 63,
      "metadata": {
        "id": "hCusvbU8WGB6"
      },
      "outputs": [],
      "source": [
        "true_negative_rate = conf[0][0]/(conf[0][0]+conf[0][1])\n",
        "true_positive_rate = conf[1][1]/(conf[1][1]+conf[1][0])\n",
        "g_mean_obag = math.sqrt(true_positive_rate*true_negative_rate)"
      ]
    },
    {
      "cell_type": "code",
      "execution_count": 64,
      "metadata": {
        "id": "tUzb-M45WGB7"
      },
      "outputs": [],
      "source": [
        "false_positive_rate = conf[0][1]/(conf[0][1]+conf[0][0])\n",
        "balance_obag = 1 - math.sqrt((true_positive_rate)**2 + (1-false_positive_rate)**2)/math.sqrt(2)\n",
        "f1_obag = f1_score(y_test, pred)"
      ]
    },
    {
      "cell_type": "code",
      "execution_count": 65,
      "metadata": {
        "colab": {
          "base_uri": "https://localhost:8080/"
        },
        "id": "Cx3-NiNXWGB7",
        "outputId": "9ebe3ed2-301a-44fc-82bf-eee75ae870a1"
      },
      "outputs": [
        {
          "name": "stdout",
          "output_type": "stream",
          "text": [
            "g-mean =  0.4502544223373136\n",
            "Balance =  0.3360576851702938\n"
          ]
        }
      ],
      "source": [
        "print(\"g-mean = \",g_mean_obag)\n",
        "print(\"Balance = \",balance_obag)"
      ]
    },
    {
      "cell_type": "markdown",
      "metadata": {
        "id": "pkRaXA7DU8oe"
      },
      "source": [
        "## Results"
      ]
    },
    {
      "cell_type": "code",
      "execution_count": 66,
      "metadata": {
        "id": "kKedNOEnVBAJ"
      },
      "outputs": [],
      "source": [
        "models = [\"Decision Tree\",\"Bagging\", \"AdaBoost\", \"Easy Ensemble\",\"RusBoost\",\"Smote Boost\",\"Under Bagging\", \"Over Bagging\"]\n",
        "g_mean_score = [g_mean_dec,g_mean_bag,g_mean_ada,g_mean_ez,g_mean_rus,g_mean_smb,g_mean_ubag,g_mean_obag]\n",
        "f1_score = [f1_dec,f1_bag,f1_ada,f1_ez,f1_rus,f1_smb,f1_ubag,f1_obag]\n"
      ]
    },
    {
      "cell_type": "code",
      "execution_count": 67,
      "metadata": {
        "id": "X0_Ad7WbWbJQ"
      },
      "outputs": [],
      "source": [
        "result_data = {\n",
        "    'Models': models,\n",
        "    'g-mean': g_mean_score,\n",
        "    'F1 Score': f1_score\n",
        "}\n",
        "result_df = pd.DataFrame(result_data)"
      ]
    },
    {
      "cell_type": "code",
      "execution_count": 68,
      "metadata": {
        "colab": {
          "base_uri": "https://localhost:8080/",
          "height": 269
        },
        "id": "JYYgNAKzYCQc",
        "outputId": "12a3fbb6-1480-424d-85aa-3ef2d1ff596e"
      },
      "outputs": [
        {
          "data": {
            "text/html": [
              "<div>\n",
              "<style scoped>\n",
              "    .dataframe tbody tr th:only-of-type {\n",
              "        vertical-align: middle;\n",
              "    }\n",
              "\n",
              "    .dataframe tbody tr th {\n",
              "        vertical-align: top;\n",
              "    }\n",
              "\n",
              "    .dataframe thead th {\n",
              "        text-align: right;\n",
              "    }\n",
              "</style>\n",
              "<table border=\"1\" class=\"dataframe\">\n",
              "  <thead>\n",
              "    <tr style=\"text-align: right;\">\n",
              "      <th></th>\n",
              "      <th>Models</th>\n",
              "      <th>g-mean</th>\n",
              "      <th>F1 Score</th>\n",
              "    </tr>\n",
              "  </thead>\n",
              "  <tbody>\n",
              "    <tr>\n",
              "      <th>0</th>\n",
              "      <td>Decision Tree</td>\n",
              "      <td>0.647382</td>\n",
              "      <td>0.357143</td>\n",
              "    </tr>\n",
              "    <tr>\n",
              "      <th>1</th>\n",
              "      <td>Bagging</td>\n",
              "      <td>0.551447</td>\n",
              "      <td>0.352941</td>\n",
              "    </tr>\n",
              "    <tr>\n",
              "      <th>2</th>\n",
              "      <td>AdaBoost</td>\n",
              "      <td>0.445904</td>\n",
              "      <td>0.235294</td>\n",
              "    </tr>\n",
              "    <tr>\n",
              "      <th>3</th>\n",
              "      <td>Easy Ensemble</td>\n",
              "      <td>0.572263</td>\n",
              "      <td>0.285714</td>\n",
              "    </tr>\n",
              "    <tr>\n",
              "      <th>4</th>\n",
              "      <td>RusBoost</td>\n",
              "      <td>0.709171</td>\n",
              "      <td>0.413793</td>\n",
              "    </tr>\n",
              "    <tr>\n",
              "      <th>5</th>\n",
              "      <td>Smote Boost</td>\n",
              "      <td>0.572263</td>\n",
              "      <td>0.285714</td>\n",
              "    </tr>\n",
              "    <tr>\n",
              "      <th>6</th>\n",
              "      <td>Under Bagging</td>\n",
              "      <td>0.683986</td>\n",
              "      <td>0.434783</td>\n",
              "    </tr>\n",
              "    <tr>\n",
              "      <th>7</th>\n",
              "      <td>Over Bagging</td>\n",
              "      <td>0.450254</td>\n",
              "      <td>0.250000</td>\n",
              "    </tr>\n",
              "  </tbody>\n",
              "</table>\n",
              "</div>"
            ],
            "text/plain": [
              "          Models    g-mean  F1 Score\n",
              "0  Decision Tree  0.647382  0.357143\n",
              "1        Bagging  0.551447  0.352941\n",
              "2       AdaBoost  0.445904  0.235294\n",
              "3  Easy Ensemble  0.572263  0.285714\n",
              "4       RusBoost  0.709171  0.413793\n",
              "5    Smote Boost  0.572263  0.285714\n",
              "6  Under Bagging  0.683986  0.434783\n",
              "7   Over Bagging  0.450254  0.250000"
            ]
          },
          "execution_count": 68,
          "metadata": {},
          "output_type": "execute_result"
        }
      ],
      "source": [
        "result_df"
      ]
    }
  ],
  "metadata": {
    "colab": {
      "name": "ECIP.ipynb",
      "provenance": []
    },
    "interpreter": {
      "hash": "5ad06826974dc060fa37eead2112af9e641fe3b133a4323218f615d88ba76b28"
    },
    "kernelspec": {
      "display_name": "Python 3.7.10 64-bit ('mlenv': conda)",
      "language": "python",
      "name": "python3"
    },
    "language_info": {
      "codemirror_mode": {
        "name": "ipython",
        "version": 3
      },
      "file_extension": ".py",
      "mimetype": "text/x-python",
      "name": "python",
      "nbconvert_exporter": "python",
      "pygments_lexer": "ipython3",
      "version": "3.7.10"
    },
    "orig_nbformat": 4
  },
  "nbformat": 4,
  "nbformat_minor": 0
}
