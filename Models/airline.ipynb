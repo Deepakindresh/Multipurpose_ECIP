{
  "cells": [
    {
      "cell_type": "markdown",
      "metadata": {
        "id": "RYjkKmJm4pfd"
      },
      "source": [
        "# ECIP Models for Software Defect Prediction Dataset"
      ]
    },
    {
      "cell_type": "markdown",
      "metadata": {
        "id": "8f9NBQgF4lPl"
      },
      "source": [
        "## Import"
      ]
    },
    {
      "cell_type": "code",
      "execution_count": 72,
      "metadata": {
        "id": "Bjl35YxY0kaq"
      },
      "outputs": [],
      "source": [
        "from imblearn.over_sampling import RandomOverSampler\n",
        "from imblearn.over_sampling import SMOTE\n",
        "from imblearn.under_sampling import RandomUnderSampler\n",
        "from sklearn.preprocessing import LabelEncoder\n",
        "from sklearn.model_selection import train_test_split\n",
        "from sklearn.metrics import accuracy_score,f1_score, confusion_matrix\n",
        "import pandas as pd\n",
        "import numpy as np\n",
        "from collections import Counter\n",
        "import random\n",
        "from sklearn import tree\n",
        "from sklearn.linear_model import LogisticRegression\n",
        "from sklearn.ensemble import RandomForestClassifier,BaggingClassifier,AdaBoostClassifier\n",
        "from imblearn.ensemble import EasyEnsembleClassifier\n",
        "\n",
        "import math\n"
      ]
    },
    {
      "cell_type": "code",
      "execution_count": 73,
      "metadata": {
        "colab": {
          "base_uri": "https://localhost:8080/"
        },
        "id": "0Qjjfwxv0kax",
        "outputId": "2d94201c-299c-488e-a0cc-a28be0c3b460"
      },
      "outputs": [
        {
          "data": {
            "text/html": [
              "<div>\n",
              "<style scoped>\n",
              "    .dataframe tbody tr th:only-of-type {\n",
              "        vertical-align: middle;\n",
              "    }\n",
              "\n",
              "    .dataframe tbody tr th {\n",
              "        vertical-align: top;\n",
              "    }\n",
              "\n",
              "    .dataframe thead th {\n",
              "        text-align: right;\n",
              "    }\n",
              "</style>\n",
              "<table border=\"1\" class=\"dataframe\">\n",
              "  <thead>\n",
              "    <tr style=\"text-align: right;\">\n",
              "      <th></th>\n",
              "      <th>Unnamed: 0</th>\n",
              "      <th>id</th>\n",
              "      <th>Gender</th>\n",
              "      <th>Customer Type</th>\n",
              "      <th>Age</th>\n",
              "      <th>Type of Travel</th>\n",
              "      <th>Class</th>\n",
              "      <th>Flight Distance</th>\n",
              "      <th>Inflight wifi service</th>\n",
              "      <th>Departure/Arrival time convenient</th>\n",
              "      <th>...</th>\n",
              "      <th>Inflight entertainment</th>\n",
              "      <th>On-board service</th>\n",
              "      <th>Leg room service</th>\n",
              "      <th>Baggage handling</th>\n",
              "      <th>Checkin service</th>\n",
              "      <th>Inflight service</th>\n",
              "      <th>Cleanliness</th>\n",
              "      <th>Departure Delay in Minutes</th>\n",
              "      <th>Arrival Delay in Minutes</th>\n",
              "      <th>satisfaction</th>\n",
              "    </tr>\n",
              "  </thead>\n",
              "  <tbody>\n",
              "    <tr>\n",
              "      <th>0</th>\n",
              "      <td>0</td>\n",
              "      <td>19556</td>\n",
              "      <td>Female</td>\n",
              "      <td>Loyal Customer</td>\n",
              "      <td>52</td>\n",
              "      <td>Business travel</td>\n",
              "      <td>Eco</td>\n",
              "      <td>160</td>\n",
              "      <td>5</td>\n",
              "      <td>4</td>\n",
              "      <td>...</td>\n",
              "      <td>5</td>\n",
              "      <td>5</td>\n",
              "      <td>5</td>\n",
              "      <td>5</td>\n",
              "      <td>2</td>\n",
              "      <td>5</td>\n",
              "      <td>5</td>\n",
              "      <td>50</td>\n",
              "      <td>44.0</td>\n",
              "      <td>satisfied</td>\n",
              "    </tr>\n",
              "    <tr>\n",
              "      <th>1</th>\n",
              "      <td>1</td>\n",
              "      <td>90035</td>\n",
              "      <td>Female</td>\n",
              "      <td>Loyal Customer</td>\n",
              "      <td>36</td>\n",
              "      <td>Business travel</td>\n",
              "      <td>Business</td>\n",
              "      <td>2863</td>\n",
              "      <td>1</td>\n",
              "      <td>1</td>\n",
              "      <td>...</td>\n",
              "      <td>4</td>\n",
              "      <td>4</td>\n",
              "      <td>4</td>\n",
              "      <td>4</td>\n",
              "      <td>3</td>\n",
              "      <td>4</td>\n",
              "      <td>5</td>\n",
              "      <td>0</td>\n",
              "      <td>0.0</td>\n",
              "      <td>satisfied</td>\n",
              "    </tr>\n",
              "    <tr>\n",
              "      <th>2</th>\n",
              "      <td>2</td>\n",
              "      <td>12360</td>\n",
              "      <td>Male</td>\n",
              "      <td>disloyal Customer</td>\n",
              "      <td>20</td>\n",
              "      <td>Business travel</td>\n",
              "      <td>Eco</td>\n",
              "      <td>192</td>\n",
              "      <td>2</td>\n",
              "      <td>0</td>\n",
              "      <td>...</td>\n",
              "      <td>2</td>\n",
              "      <td>4</td>\n",
              "      <td>1</td>\n",
              "      <td>3</td>\n",
              "      <td>2</td>\n",
              "      <td>2</td>\n",
              "      <td>2</td>\n",
              "      <td>0</td>\n",
              "      <td>0.0</td>\n",
              "      <td>neutral or dissatisfied</td>\n",
              "    </tr>\n",
              "    <tr>\n",
              "      <th>3</th>\n",
              "      <td>3</td>\n",
              "      <td>77959</td>\n",
              "      <td>Male</td>\n",
              "      <td>Loyal Customer</td>\n",
              "      <td>44</td>\n",
              "      <td>Business travel</td>\n",
              "      <td>Business</td>\n",
              "      <td>3377</td>\n",
              "      <td>0</td>\n",
              "      <td>0</td>\n",
              "      <td>...</td>\n",
              "      <td>1</td>\n",
              "      <td>1</td>\n",
              "      <td>1</td>\n",
              "      <td>1</td>\n",
              "      <td>3</td>\n",
              "      <td>1</td>\n",
              "      <td>4</td>\n",
              "      <td>0</td>\n",
              "      <td>6.0</td>\n",
              "      <td>satisfied</td>\n",
              "    </tr>\n",
              "    <tr>\n",
              "      <th>4</th>\n",
              "      <td>4</td>\n",
              "      <td>36875</td>\n",
              "      <td>Female</td>\n",
              "      <td>Loyal Customer</td>\n",
              "      <td>49</td>\n",
              "      <td>Business travel</td>\n",
              "      <td>Eco</td>\n",
              "      <td>1182</td>\n",
              "      <td>2</td>\n",
              "      <td>3</td>\n",
              "      <td>...</td>\n",
              "      <td>2</td>\n",
              "      <td>2</td>\n",
              "      <td>2</td>\n",
              "      <td>2</td>\n",
              "      <td>4</td>\n",
              "      <td>2</td>\n",
              "      <td>4</td>\n",
              "      <td>0</td>\n",
              "      <td>20.0</td>\n",
              "      <td>satisfied</td>\n",
              "    </tr>\n",
              "  </tbody>\n",
              "</table>\n",
              "<p>5 rows × 25 columns</p>\n",
              "</div>"
            ],
            "text/plain": [
              "   Unnamed: 0     id  Gender      Customer Type  Age   Type of Travel  \\\n",
              "0           0  19556  Female     Loyal Customer   52  Business travel   \n",
              "1           1  90035  Female     Loyal Customer   36  Business travel   \n",
              "2           2  12360    Male  disloyal Customer   20  Business travel   \n",
              "3           3  77959    Male     Loyal Customer   44  Business travel   \n",
              "4           4  36875  Female     Loyal Customer   49  Business travel   \n",
              "\n",
              "      Class  Flight Distance  Inflight wifi service  \\\n",
              "0       Eco              160                      5   \n",
              "1  Business             2863                      1   \n",
              "2       Eco              192                      2   \n",
              "3  Business             3377                      0   \n",
              "4       Eco             1182                      2   \n",
              "\n",
              "   Departure/Arrival time convenient  ...  Inflight entertainment  \\\n",
              "0                                  4  ...                       5   \n",
              "1                                  1  ...                       4   \n",
              "2                                  0  ...                       2   \n",
              "3                                  0  ...                       1   \n",
              "4                                  3  ...                       2   \n",
              "\n",
              "   On-board service  Leg room service  Baggage handling  Checkin service  \\\n",
              "0                 5                 5                 5                2   \n",
              "1                 4                 4                 4                3   \n",
              "2                 4                 1                 3                2   \n",
              "3                 1                 1                 1                3   \n",
              "4                 2                 2                 2                4   \n",
              "\n",
              "   Inflight service  Cleanliness  Departure Delay in Minutes  \\\n",
              "0                 5            5                          50   \n",
              "1                 4            5                           0   \n",
              "2                 2            2                           0   \n",
              "3                 1            4                           0   \n",
              "4                 2            4                           0   \n",
              "\n",
              "   Arrival Delay in Minutes             satisfaction  \n",
              "0                      44.0                satisfied  \n",
              "1                       0.0                satisfied  \n",
              "2                       0.0  neutral or dissatisfied  \n",
              "3                       6.0                satisfied  \n",
              "4                      20.0                satisfied  \n",
              "\n",
              "[5 rows x 25 columns]"
            ]
          },
          "execution_count": 73,
          "metadata": {},
          "output_type": "execute_result"
        }
      ],
      "source": [
        "df = pd.read_csv(\"./airline.csv\")\n",
        "df.head()"
      ]
    },
    {
      "cell_type": "code",
      "execution_count": 74,
      "metadata": {},
      "outputs": [
        {
          "data": {
            "text/html": [
              "<div>\n",
              "<style scoped>\n",
              "    .dataframe tbody tr th:only-of-type {\n",
              "        vertical-align: middle;\n",
              "    }\n",
              "\n",
              "    .dataframe tbody tr th {\n",
              "        vertical-align: top;\n",
              "    }\n",
              "\n",
              "    .dataframe thead th {\n",
              "        text-align: right;\n",
              "    }\n",
              "</style>\n",
              "<table border=\"1\" class=\"dataframe\">\n",
              "  <thead>\n",
              "    <tr style=\"text-align: right;\">\n",
              "      <th></th>\n",
              "      <th>Unnamed: 0</th>\n",
              "      <th>id</th>\n",
              "      <th>Gender</th>\n",
              "      <th>Customer Type</th>\n",
              "      <th>Age</th>\n",
              "      <th>Type of Travel</th>\n",
              "      <th>Class</th>\n",
              "      <th>Flight Distance</th>\n",
              "      <th>Inflight wifi service</th>\n",
              "      <th>Departure/Arrival time convenient</th>\n",
              "      <th>...</th>\n",
              "      <th>Inflight entertainment</th>\n",
              "      <th>On-board service</th>\n",
              "      <th>Leg room service</th>\n",
              "      <th>Baggage handling</th>\n",
              "      <th>Checkin service</th>\n",
              "      <th>Inflight service</th>\n",
              "      <th>Cleanliness</th>\n",
              "      <th>Departure Delay in Minutes</th>\n",
              "      <th>Arrival Delay in Minutes</th>\n",
              "      <th>satisfaction</th>\n",
              "    </tr>\n",
              "  </thead>\n",
              "  <tbody>\n",
              "    <tr>\n",
              "      <th>0</th>\n",
              "      <td>0</td>\n",
              "      <td>19556</td>\n",
              "      <td>0</td>\n",
              "      <td>0</td>\n",
              "      <td>52</td>\n",
              "      <td>0</td>\n",
              "      <td>1</td>\n",
              "      <td>160</td>\n",
              "      <td>5</td>\n",
              "      <td>4</td>\n",
              "      <td>...</td>\n",
              "      <td>5</td>\n",
              "      <td>5</td>\n",
              "      <td>5</td>\n",
              "      <td>5</td>\n",
              "      <td>2</td>\n",
              "      <td>5</td>\n",
              "      <td>5</td>\n",
              "      <td>50</td>\n",
              "      <td>44.0</td>\n",
              "      <td>1</td>\n",
              "    </tr>\n",
              "    <tr>\n",
              "      <th>1</th>\n",
              "      <td>1</td>\n",
              "      <td>90035</td>\n",
              "      <td>0</td>\n",
              "      <td>0</td>\n",
              "      <td>36</td>\n",
              "      <td>0</td>\n",
              "      <td>0</td>\n",
              "      <td>2863</td>\n",
              "      <td>1</td>\n",
              "      <td>1</td>\n",
              "      <td>...</td>\n",
              "      <td>4</td>\n",
              "      <td>4</td>\n",
              "      <td>4</td>\n",
              "      <td>4</td>\n",
              "      <td>3</td>\n",
              "      <td>4</td>\n",
              "      <td>5</td>\n",
              "      <td>0</td>\n",
              "      <td>0.0</td>\n",
              "      <td>1</td>\n",
              "    </tr>\n",
              "    <tr>\n",
              "      <th>2</th>\n",
              "      <td>2</td>\n",
              "      <td>12360</td>\n",
              "      <td>1</td>\n",
              "      <td>1</td>\n",
              "      <td>20</td>\n",
              "      <td>0</td>\n",
              "      <td>1</td>\n",
              "      <td>192</td>\n",
              "      <td>2</td>\n",
              "      <td>0</td>\n",
              "      <td>...</td>\n",
              "      <td>2</td>\n",
              "      <td>4</td>\n",
              "      <td>1</td>\n",
              "      <td>3</td>\n",
              "      <td>2</td>\n",
              "      <td>2</td>\n",
              "      <td>2</td>\n",
              "      <td>0</td>\n",
              "      <td>0.0</td>\n",
              "      <td>0</td>\n",
              "    </tr>\n",
              "    <tr>\n",
              "      <th>3</th>\n",
              "      <td>3</td>\n",
              "      <td>77959</td>\n",
              "      <td>1</td>\n",
              "      <td>0</td>\n",
              "      <td>44</td>\n",
              "      <td>0</td>\n",
              "      <td>0</td>\n",
              "      <td>3377</td>\n",
              "      <td>0</td>\n",
              "      <td>0</td>\n",
              "      <td>...</td>\n",
              "      <td>1</td>\n",
              "      <td>1</td>\n",
              "      <td>1</td>\n",
              "      <td>1</td>\n",
              "      <td>3</td>\n",
              "      <td>1</td>\n",
              "      <td>4</td>\n",
              "      <td>0</td>\n",
              "      <td>6.0</td>\n",
              "      <td>1</td>\n",
              "    </tr>\n",
              "    <tr>\n",
              "      <th>4</th>\n",
              "      <td>4</td>\n",
              "      <td>36875</td>\n",
              "      <td>0</td>\n",
              "      <td>0</td>\n",
              "      <td>49</td>\n",
              "      <td>0</td>\n",
              "      <td>1</td>\n",
              "      <td>1182</td>\n",
              "      <td>2</td>\n",
              "      <td>3</td>\n",
              "      <td>...</td>\n",
              "      <td>2</td>\n",
              "      <td>2</td>\n",
              "      <td>2</td>\n",
              "      <td>2</td>\n",
              "      <td>4</td>\n",
              "      <td>2</td>\n",
              "      <td>4</td>\n",
              "      <td>0</td>\n",
              "      <td>20.0</td>\n",
              "      <td>1</td>\n",
              "    </tr>\n",
              "  </tbody>\n",
              "</table>\n",
              "<p>5 rows × 25 columns</p>\n",
              "</div>"
            ],
            "text/plain": [
              "   Unnamed: 0     id  Gender  Customer Type  Age  Type of Travel  Class  \\\n",
              "0           0  19556       0              0   52               0      1   \n",
              "1           1  90035       0              0   36               0      0   \n",
              "2           2  12360       1              1   20               0      1   \n",
              "3           3  77959       1              0   44               0      0   \n",
              "4           4  36875       0              0   49               0      1   \n",
              "\n",
              "   Flight Distance  Inflight wifi service  Departure/Arrival time convenient  \\\n",
              "0              160                      5                                  4   \n",
              "1             2863                      1                                  1   \n",
              "2              192                      2                                  0   \n",
              "3             3377                      0                                  0   \n",
              "4             1182                      2                                  3   \n",
              "\n",
              "   ...  Inflight entertainment  On-board service  Leg room service  \\\n",
              "0  ...                       5                 5                 5   \n",
              "1  ...                       4                 4                 4   \n",
              "2  ...                       2                 4                 1   \n",
              "3  ...                       1                 1                 1   \n",
              "4  ...                       2                 2                 2   \n",
              "\n",
              "   Baggage handling  Checkin service  Inflight service  Cleanliness  \\\n",
              "0                 5                2                 5            5   \n",
              "1                 4                3                 4            5   \n",
              "2                 3                2                 2            2   \n",
              "3                 1                3                 1            4   \n",
              "4                 2                4                 2            4   \n",
              "\n",
              "   Departure Delay in Minutes  Arrival Delay in Minutes  satisfaction  \n",
              "0                          50                      44.0             1  \n",
              "1                           0                       0.0             1  \n",
              "2                           0                       0.0             0  \n",
              "3                           0                       6.0             1  \n",
              "4                           0                      20.0             1  \n",
              "\n",
              "[5 rows x 25 columns]"
            ]
          },
          "execution_count": 74,
          "metadata": {},
          "output_type": "execute_result"
        }
      ],
      "source": [
        "le = LabelEncoder()\n",
        "df[\"Gender\"] = le.fit_transform(df[\"Gender\"])\n",
        "df[\"Customer Type\"] = le.fit_transform(df[\"Customer Type\"])\n",
        "df[\"Type of Travel\"] = le.fit_transform(df[\"Type of Travel\"])\n",
        "df[\"Class\"] = le.fit_transform(df[\"Class\"])\n",
        "df[\"satisfaction\"] = le.fit_transform(df[\"satisfaction\"])\n",
        "\n",
        "df.head()"
      ]
    },
    {
      "cell_type": "code",
      "execution_count": 75,
      "metadata": {},
      "outputs": [
        {
          "data": {
            "text/plain": [
              "Index(['Unnamed: 0', 'id', 'Gender', 'Customer Type', 'Age', 'Type of Travel',\n",
              "       'Class', 'Flight Distance', 'Inflight wifi service',\n",
              "       'Departure/Arrival time convenient', 'Ease of Online booking',\n",
              "       'Gate location', 'Food and drink', 'Online boarding', 'Seat comfort',\n",
              "       'Inflight entertainment', 'On-board service', 'Leg room service',\n",
              "       'Baggage handling', 'Checkin service', 'Inflight service',\n",
              "       'Cleanliness', 'Departure Delay in Minutes', 'Arrival Delay in Minutes',\n",
              "       'satisfaction'],\n",
              "      dtype='object')"
            ]
          },
          "execution_count": 75,
          "metadata": {},
          "output_type": "execute_result"
        }
      ],
      "source": [
        "df.columns"
      ]
    },
    {
      "cell_type": "code",
      "execution_count": 76,
      "metadata": {},
      "outputs": [],
      "source": [
        "df.drop(\"Unnamed: 0\",axis=1,inplace=True)"
      ]
    },
    {
      "cell_type": "markdown",
      "metadata": {
        "id": "n_r5dgcm5C-9"
      },
      "source": [
        "## Data Preprocessing"
      ]
    },
    {
      "cell_type": "code",
      "execution_count": 77,
      "metadata": {
        "colab": {
          "base_uri": "https://localhost:8080/",
          "height": 602
        },
        "id": "VAog2nDl0ka0",
        "outputId": "992eb868-c8e7-4e33-d3a1-c1964189c2d3"
      },
      "outputs": [
        {
          "data": {
            "text/html": [
              "<div>\n",
              "<style scoped>\n",
              "    .dataframe tbody tr th:only-of-type {\n",
              "        vertical-align: middle;\n",
              "    }\n",
              "\n",
              "    .dataframe tbody tr th {\n",
              "        vertical-align: top;\n",
              "    }\n",
              "\n",
              "    .dataframe thead th {\n",
              "        text-align: right;\n",
              "    }\n",
              "</style>\n",
              "<table border=\"1\" class=\"dataframe\">\n",
              "  <thead>\n",
              "    <tr style=\"text-align: right;\">\n",
              "      <th></th>\n",
              "      <th>id</th>\n",
              "      <th>Gender</th>\n",
              "      <th>Customer Type</th>\n",
              "      <th>Age</th>\n",
              "      <th>Type of Travel</th>\n",
              "      <th>Class</th>\n",
              "      <th>Flight Distance</th>\n",
              "      <th>Inflight wifi service</th>\n",
              "      <th>Departure/Arrival time convenient</th>\n",
              "      <th>Ease of Online booking</th>\n",
              "      <th>...</th>\n",
              "      <th>Inflight entertainment</th>\n",
              "      <th>On-board service</th>\n",
              "      <th>Leg room service</th>\n",
              "      <th>Baggage handling</th>\n",
              "      <th>Checkin service</th>\n",
              "      <th>Inflight service</th>\n",
              "      <th>Cleanliness</th>\n",
              "      <th>Departure Delay in Minutes</th>\n",
              "      <th>Arrival Delay in Minutes</th>\n",
              "      <th>satisfaction</th>\n",
              "    </tr>\n",
              "  </thead>\n",
              "  <tbody>\n",
              "    <tr>\n",
              "      <th>id</th>\n",
              "      <td>1.000000</td>\n",
              "      <td>-0.004371</td>\n",
              "      <td>0.006700</td>\n",
              "      <td>0.010211</td>\n",
              "      <td>-0.006564</td>\n",
              "      <td>-0.105987</td>\n",
              "      <td>0.095335</td>\n",
              "      <td>-0.030303</td>\n",
              "      <td>-0.002502</td>\n",
              "      <td>0.010389</td>\n",
              "      <td>...</td>\n",
              "      <td>-0.001078</td>\n",
              "      <td>0.056544</td>\n",
              "      <td>0.041921</td>\n",
              "      <td>0.073085</td>\n",
              "      <td>0.079521</td>\n",
              "      <td>0.076587</td>\n",
              "      <td>0.020411</td>\n",
              "      <td>-0.009884</td>\n",
              "      <td>-0.029090</td>\n",
              "      <td>0.010965</td>\n",
              "    </tr>\n",
              "    <tr>\n",
              "      <th>Gender</th>\n",
              "      <td>-0.004371</td>\n",
              "      <td>1.000000</td>\n",
              "      <td>-0.027878</td>\n",
              "      <td>0.009261</td>\n",
              "      <td>0.019930</td>\n",
              "      <td>-0.006411</td>\n",
              "      <td>-0.005222</td>\n",
              "      <td>-0.006323</td>\n",
              "      <td>0.008417</td>\n",
              "      <td>0.001703</td>\n",
              "      <td>...</td>\n",
              "      <td>-0.005217</td>\n",
              "      <td>-0.000423</td>\n",
              "      <td>0.028051</td>\n",
              "      <td>0.032202</td>\n",
              "      <td>0.000079</td>\n",
              "      <td>0.034890</td>\n",
              "      <td>-0.011605</td>\n",
              "      <td>0.005775</td>\n",
              "      <td>0.005088</td>\n",
              "      <td>0.007335</td>\n",
              "    </tr>\n",
              "    <tr>\n",
              "      <th>Customer Type</th>\n",
              "      <td>0.006700</td>\n",
              "      <td>-0.027878</td>\n",
              "      <td>1.000000</td>\n",
              "      <td>-0.294210</td>\n",
              "      <td>-0.307827</td>\n",
              "      <td>0.044415</td>\n",
              "      <td>-0.229306</td>\n",
              "      <td>0.001333</td>\n",
              "      <td>-0.206864</td>\n",
              "      <td>-0.012340</td>\n",
              "      <td>...</td>\n",
              "      <td>-0.090418</td>\n",
              "      <td>-0.044628</td>\n",
              "      <td>-0.042757</td>\n",
              "      <td>0.025470</td>\n",
              "      <td>-0.027565</td>\n",
              "      <td>0.025729</td>\n",
              "      <td>-0.072150</td>\n",
              "      <td>0.003200</td>\n",
              "      <td>0.004709</td>\n",
              "      <td>-0.179632</td>\n",
              "    </tr>\n",
              "    <tr>\n",
              "      <th>Age</th>\n",
              "      <td>0.010211</td>\n",
              "      <td>0.009261</td>\n",
              "      <td>-0.294210</td>\n",
              "      <td>1.000000</td>\n",
              "      <td>-0.029773</td>\n",
              "      <td>-0.115125</td>\n",
              "      <td>0.099409</td>\n",
              "      <td>0.009242</td>\n",
              "      <td>0.032449</td>\n",
              "      <td>0.013565</td>\n",
              "      <td>...</td>\n",
              "      <td>0.068998</td>\n",
              "      <td>0.054977</td>\n",
              "      <td>0.033299</td>\n",
              "      <td>-0.049863</td>\n",
              "      <td>0.025388</td>\n",
              "      <td>-0.059083</td>\n",
              "      <td>0.048418</td>\n",
              "      <td>-0.004334</td>\n",
              "      <td>-0.007400</td>\n",
              "      <td>0.121697</td>\n",
              "    </tr>\n",
              "    <tr>\n",
              "      <th>Type of Travel</th>\n",
              "      <td>-0.006564</td>\n",
              "      <td>0.019930</td>\n",
              "      <td>-0.307827</td>\n",
              "      <td>-0.029773</td>\n",
              "      <td>1.000000</td>\n",
              "      <td>0.485258</td>\n",
              "      <td>-0.264559</td>\n",
              "      <td>-0.109021</td>\n",
              "      <td>0.246425</td>\n",
              "      <td>-0.136350</td>\n",
              "      <td>...</td>\n",
              "      <td>-0.171904</td>\n",
              "      <td>-0.072902</td>\n",
              "      <td>-0.142869</td>\n",
              "      <td>-0.039824</td>\n",
              "      <td>0.014292</td>\n",
              "      <td>-0.027235</td>\n",
              "      <td>-0.106232</td>\n",
              "      <td>-0.008003</td>\n",
              "      <td>-0.006531</td>\n",
              "      <td>-0.453268</td>\n",
              "    </tr>\n",
              "    <tr>\n",
              "      <th>Class</th>\n",
              "      <td>-0.105987</td>\n",
              "      <td>-0.006411</td>\n",
              "      <td>0.044415</td>\n",
              "      <td>-0.115125</td>\n",
              "      <td>0.485258</td>\n",
              "      <td>1.000000</td>\n",
              "      <td>-0.425756</td>\n",
              "      <td>-0.032293</td>\n",
              "      <td>0.076170</td>\n",
              "      <td>-0.098329</td>\n",
              "      <td>...</td>\n",
              "      <td>-0.199558</td>\n",
              "      <td>-0.222258</td>\n",
              "      <td>-0.204803</td>\n",
              "      <td>-0.176942</td>\n",
              "      <td>-0.158999</td>\n",
              "      <td>-0.161973</td>\n",
              "      <td>-0.144021</td>\n",
              "      <td>0.006455</td>\n",
              "      <td>0.011941</td>\n",
              "      <td>-0.443715</td>\n",
              "    </tr>\n",
              "    <tr>\n",
              "      <th>Flight Distance</th>\n",
              "      <td>0.095335</td>\n",
              "      <td>-0.005222</td>\n",
              "      <td>-0.229306</td>\n",
              "      <td>0.099409</td>\n",
              "      <td>-0.264559</td>\n",
              "      <td>-0.425756</td>\n",
              "      <td>1.000000</td>\n",
              "      <td>0.005007</td>\n",
              "      <td>-0.014401</td>\n",
              "      <td>0.062989</td>\n",
              "      <td>...</td>\n",
              "      <td>0.137538</td>\n",
              "      <td>0.117880</td>\n",
              "      <td>0.136995</td>\n",
              "      <td>0.071549</td>\n",
              "      <td>0.075720</td>\n",
              "      <td>0.066355</td>\n",
              "      <td>0.105578</td>\n",
              "      <td>0.003446</td>\n",
              "      <td>0.000131</td>\n",
              "      <td>0.295292</td>\n",
              "    </tr>\n",
              "    <tr>\n",
              "      <th>Inflight wifi service</th>\n",
              "      <td>-0.030303</td>\n",
              "      <td>-0.006323</td>\n",
              "      <td>0.001333</td>\n",
              "      <td>0.009242</td>\n",
              "      <td>-0.109021</td>\n",
              "      <td>-0.032293</td>\n",
              "      <td>0.005007</td>\n",
              "      <td>1.000000</td>\n",
              "      <td>0.349137</td>\n",
              "      <td>0.710684</td>\n",
              "      <td>...</td>\n",
              "      <td>0.201782</td>\n",
              "      <td>0.113658</td>\n",
              "      <td>0.159699</td>\n",
              "      <td>0.118199</td>\n",
              "      <td>0.046046</td>\n",
              "      <td>0.108419</td>\n",
              "      <td>0.125768</td>\n",
              "      <td>-0.010078</td>\n",
              "      <td>-0.012277</td>\n",
              "      <td>0.280395</td>\n",
              "    </tr>\n",
              "    <tr>\n",
              "      <th>Departure/Arrival time convenient</th>\n",
              "      <td>-0.002502</td>\n",
              "      <td>0.008417</td>\n",
              "      <td>-0.206864</td>\n",
              "      <td>0.032449</td>\n",
              "      <td>0.246425</td>\n",
              "      <td>0.076170</td>\n",
              "      <td>-0.014401</td>\n",
              "      <td>0.349137</td>\n",
              "      <td>1.000000</td>\n",
              "      <td>0.440230</td>\n",
              "      <td>...</td>\n",
              "      <td>-0.022326</td>\n",
              "      <td>0.060982</td>\n",
              "      <td>0.003373</td>\n",
              "      <td>0.065684</td>\n",
              "      <td>0.082461</td>\n",
              "      <td>0.067804</td>\n",
              "      <td>-0.007670</td>\n",
              "      <td>-0.000238</td>\n",
              "      <td>-0.001345</td>\n",
              "      <td>-0.064798</td>\n",
              "    </tr>\n",
              "    <tr>\n",
              "      <th>Ease of Online booking</th>\n",
              "      <td>0.010389</td>\n",
              "      <td>0.001703</td>\n",
              "      <td>-0.012340</td>\n",
              "      <td>0.013565</td>\n",
              "      <td>-0.136350</td>\n",
              "      <td>-0.098329</td>\n",
              "      <td>0.062989</td>\n",
              "      <td>0.710684</td>\n",
              "      <td>0.440230</td>\n",
              "      <td>1.000000</td>\n",
              "      <td>...</td>\n",
              "      <td>0.044715</td>\n",
              "      <td>0.039988</td>\n",
              "      <td>0.116754</td>\n",
              "      <td>0.040685</td>\n",
              "      <td>-0.000108</td>\n",
              "      <td>0.035769</td>\n",
              "      <td>0.010974</td>\n",
              "      <td>-0.001062</td>\n",
              "      <td>-0.003161</td>\n",
              "      <td>0.157709</td>\n",
              "    </tr>\n",
              "    <tr>\n",
              "      <th>Gate location</th>\n",
              "      <td>0.001843</td>\n",
              "      <td>-0.005628</td>\n",
              "      <td>-0.001940</td>\n",
              "      <td>0.003308</td>\n",
              "      <td>-0.026540</td>\n",
              "      <td>-0.010509</td>\n",
              "      <td>0.008410</td>\n",
              "      <td>0.347790</td>\n",
              "      <td>0.458439</td>\n",
              "      <td>0.465514</td>\n",
              "      <td>...</td>\n",
              "      <td>-0.000340</td>\n",
              "      <td>-0.031606</td>\n",
              "      <td>-0.002428</td>\n",
              "      <td>-0.004395</td>\n",
              "      <td>-0.054954</td>\n",
              "      <td>-0.005129</td>\n",
              "      <td>-0.014195</td>\n",
              "      <td>0.008039</td>\n",
              "      <td>0.007776</td>\n",
              "      <td>-0.016627</td>\n",
              "    </tr>\n",
              "    <tr>\n",
              "      <th>Food and drink</th>\n",
              "      <td>-0.006789</td>\n",
              "      <td>-0.014422</td>\n",
              "      <td>-0.047269</td>\n",
              "      <td>0.023841</td>\n",
              "      <td>-0.091164</td>\n",
              "      <td>-0.095590</td>\n",
              "      <td>0.057322</td>\n",
              "      <td>0.122306</td>\n",
              "      <td>-0.016006</td>\n",
              "      <td>0.025141</td>\n",
              "      <td>...</td>\n",
              "      <td>0.627265</td>\n",
              "      <td>0.050688</td>\n",
              "      <td>0.035870</td>\n",
              "      <td>0.037617</td>\n",
              "      <td>0.076775</td>\n",
              "      <td>0.039992</td>\n",
              "      <td>0.659253</td>\n",
              "      <td>-0.025957</td>\n",
              "      <td>-0.028309</td>\n",
              "      <td>0.216868</td>\n",
              "    </tr>\n",
              "    <tr>\n",
              "      <th>Online boarding</th>\n",
              "      <td>0.055767</td>\n",
              "      <td>-0.056031</td>\n",
              "      <td>-0.188418</td>\n",
              "      <td>0.202058</td>\n",
              "      <td>-0.220843</td>\n",
              "      <td>-0.299951</td>\n",
              "      <td>0.214629</td>\n",
              "      <td>0.459366</td>\n",
              "      <td>0.080937</td>\n",
              "      <td>0.408003</td>\n",
              "      <td>...</td>\n",
              "      <td>0.279391</td>\n",
              "      <td>0.149430</td>\n",
              "      <td>0.120354</td>\n",
              "      <td>0.084583</td>\n",
              "      <td>0.203309</td>\n",
              "      <td>0.071972</td>\n",
              "      <td>0.320912</td>\n",
              "      <td>-0.021037</td>\n",
              "      <td>-0.025875</td>\n",
              "      <td>0.494526</td>\n",
              "    </tr>\n",
              "    <tr>\n",
              "      <th>Seat comfort</th>\n",
              "      <td>0.049212</td>\n",
              "      <td>-0.047765</td>\n",
              "      <td>-0.143362</td>\n",
              "      <td>0.154507</td>\n",
              "      <td>-0.140981</td>\n",
              "      <td>-0.220988</td>\n",
              "      <td>0.158957</td>\n",
              "      <td>0.116991</td>\n",
              "      <td>-0.001926</td>\n",
              "      <td>0.022811</td>\n",
              "      <td>...</td>\n",
              "      <td>0.616817</td>\n",
              "      <td>0.124805</td>\n",
              "      <td>0.099150</td>\n",
              "      <td>0.074927</td>\n",
              "      <td>0.182469</td>\n",
              "      <td>0.067306</td>\n",
              "      <td>0.683924</td>\n",
              "      <td>-0.028341</td>\n",
              "      <td>-0.033030</td>\n",
              "      <td>0.346275</td>\n",
              "    </tr>\n",
              "    <tr>\n",
              "      <th>Inflight entertainment</th>\n",
              "      <td>-0.001078</td>\n",
              "      <td>-0.005217</td>\n",
              "      <td>-0.090418</td>\n",
              "      <td>0.068998</td>\n",
              "      <td>-0.171904</td>\n",
              "      <td>-0.199558</td>\n",
              "      <td>0.137538</td>\n",
              "      <td>0.201782</td>\n",
              "      <td>-0.022326</td>\n",
              "      <td>0.044715</td>\n",
              "      <td>...</td>\n",
              "      <td>1.000000</td>\n",
              "      <td>0.412266</td>\n",
              "      <td>0.303203</td>\n",
              "      <td>0.382782</td>\n",
              "      <td>0.114343</td>\n",
              "      <td>0.411018</td>\n",
              "      <td>0.695269</td>\n",
              "      <td>-0.025085</td>\n",
              "      <td>-0.028314</td>\n",
              "      <td>0.398951</td>\n",
              "    </tr>\n",
              "    <tr>\n",
              "      <th>On-board service</th>\n",
              "      <td>0.056544</td>\n",
              "      <td>-0.000423</td>\n",
              "      <td>-0.044628</td>\n",
              "      <td>0.054977</td>\n",
              "      <td>-0.072902</td>\n",
              "      <td>-0.222258</td>\n",
              "      <td>0.117880</td>\n",
              "      <td>0.113658</td>\n",
              "      <td>0.060982</td>\n",
              "      <td>0.039988</td>\n",
              "      <td>...</td>\n",
              "      <td>0.412266</td>\n",
              "      <td>1.000000</td>\n",
              "      <td>0.366658</td>\n",
              "      <td>0.524981</td>\n",
              "      <td>0.247438</td>\n",
              "      <td>0.554734</td>\n",
              "      <td>0.117546</td>\n",
              "      <td>-0.026018</td>\n",
              "      <td>-0.032964</td>\n",
              "      <td>0.321491</td>\n",
              "    </tr>\n",
              "    <tr>\n",
              "      <th>Leg room service</th>\n",
              "      <td>0.041921</td>\n",
              "      <td>0.028051</td>\n",
              "      <td>-0.042757</td>\n",
              "      <td>0.033299</td>\n",
              "      <td>-0.142869</td>\n",
              "      <td>-0.204803</td>\n",
              "      <td>0.136995</td>\n",
              "      <td>0.159699</td>\n",
              "      <td>0.003373</td>\n",
              "      <td>0.116754</td>\n",
              "      <td>...</td>\n",
              "      <td>0.303203</td>\n",
              "      <td>0.366658</td>\n",
              "      <td>1.000000</td>\n",
              "      <td>0.379113</td>\n",
              "      <td>0.150935</td>\n",
              "      <td>0.373213</td>\n",
              "      <td>0.097982</td>\n",
              "      <td>0.015434</td>\n",
              "      <td>0.009292</td>\n",
              "      <td>0.309629</td>\n",
              "    </tr>\n",
              "    <tr>\n",
              "      <th>Baggage handling</th>\n",
              "      <td>0.073085</td>\n",
              "      <td>0.032202</td>\n",
              "      <td>0.025470</td>\n",
              "      <td>-0.049863</td>\n",
              "      <td>-0.039824</td>\n",
              "      <td>-0.176942</td>\n",
              "      <td>0.071549</td>\n",
              "      <td>0.118199</td>\n",
              "      <td>0.065684</td>\n",
              "      <td>0.040685</td>\n",
              "      <td>...</td>\n",
              "      <td>0.382782</td>\n",
              "      <td>0.524981</td>\n",
              "      <td>0.379113</td>\n",
              "      <td>1.000000</td>\n",
              "      <td>0.240033</td>\n",
              "      <td>0.631964</td>\n",
              "      <td>0.102182</td>\n",
              "      <td>0.001930</td>\n",
              "      <td>-0.005416</td>\n",
              "      <td>0.252415</td>\n",
              "    </tr>\n",
              "    <tr>\n",
              "      <th>Checkin service</th>\n",
              "      <td>0.079521</td>\n",
              "      <td>0.000079</td>\n",
              "      <td>-0.027565</td>\n",
              "      <td>0.025388</td>\n",
              "      <td>0.014292</td>\n",
              "      <td>-0.158999</td>\n",
              "      <td>0.075720</td>\n",
              "      <td>0.046046</td>\n",
              "      <td>0.082461</td>\n",
              "      <td>-0.000108</td>\n",
              "      <td>...</td>\n",
              "      <td>0.114343</td>\n",
              "      <td>0.247438</td>\n",
              "      <td>0.150935</td>\n",
              "      <td>0.240033</td>\n",
              "      <td>1.000000</td>\n",
              "      <td>0.239170</td>\n",
              "      <td>0.165062</td>\n",
              "      <td>-0.019893</td>\n",
              "      <td>-0.027140</td>\n",
              "      <td>0.241495</td>\n",
              "    </tr>\n",
              "    <tr>\n",
              "      <th>Inflight service</th>\n",
              "      <td>0.076587</td>\n",
              "      <td>0.034890</td>\n",
              "      <td>0.025729</td>\n",
              "      <td>-0.059083</td>\n",
              "      <td>-0.027235</td>\n",
              "      <td>-0.161973</td>\n",
              "      <td>0.066355</td>\n",
              "      <td>0.108419</td>\n",
              "      <td>0.067804</td>\n",
              "      <td>0.035769</td>\n",
              "      <td>...</td>\n",
              "      <td>0.411018</td>\n",
              "      <td>0.554734</td>\n",
              "      <td>0.373213</td>\n",
              "      <td>0.631964</td>\n",
              "      <td>0.239170</td>\n",
              "      <td>1.000000</td>\n",
              "      <td>0.096606</td>\n",
              "      <td>-0.052823</td>\n",
              "      <td>-0.062523</td>\n",
              "      <td>0.245573</td>\n",
              "    </tr>\n",
              "    <tr>\n",
              "      <th>Cleanliness</th>\n",
              "      <td>0.020411</td>\n",
              "      <td>-0.011605</td>\n",
              "      <td>-0.072150</td>\n",
              "      <td>0.048418</td>\n",
              "      <td>-0.106232</td>\n",
              "      <td>-0.144021</td>\n",
              "      <td>0.105578</td>\n",
              "      <td>0.125768</td>\n",
              "      <td>-0.007670</td>\n",
              "      <td>0.010974</td>\n",
              "      <td>...</td>\n",
              "      <td>0.695269</td>\n",
              "      <td>0.117546</td>\n",
              "      <td>0.097982</td>\n",
              "      <td>0.102182</td>\n",
              "      <td>0.165062</td>\n",
              "      <td>0.096606</td>\n",
              "      <td>1.000000</td>\n",
              "      <td>-0.016378</td>\n",
              "      <td>-0.019731</td>\n",
              "      <td>0.314350</td>\n",
              "    </tr>\n",
              "    <tr>\n",
              "      <th>Departure Delay in Minutes</th>\n",
              "      <td>-0.009884</td>\n",
              "      <td>0.005775</td>\n",
              "      <td>0.003200</td>\n",
              "      <td>-0.004334</td>\n",
              "      <td>-0.008003</td>\n",
              "      <td>0.006455</td>\n",
              "      <td>0.003446</td>\n",
              "      <td>-0.010078</td>\n",
              "      <td>-0.000238</td>\n",
              "      <td>-0.001062</td>\n",
              "      <td>...</td>\n",
              "      <td>-0.025085</td>\n",
              "      <td>-0.026018</td>\n",
              "      <td>0.015434</td>\n",
              "      <td>0.001930</td>\n",
              "      <td>-0.019893</td>\n",
              "      <td>-0.052823</td>\n",
              "      <td>-0.016378</td>\n",
              "      <td>1.000000</td>\n",
              "      <td>0.964502</td>\n",
              "      <td>-0.051635</td>\n",
              "    </tr>\n",
              "    <tr>\n",
              "      <th>Arrival Delay in Minutes</th>\n",
              "      <td>-0.029090</td>\n",
              "      <td>0.005088</td>\n",
              "      <td>0.004709</td>\n",
              "      <td>-0.007400</td>\n",
              "      <td>-0.006531</td>\n",
              "      <td>0.011941</td>\n",
              "      <td>0.000131</td>\n",
              "      <td>-0.012277</td>\n",
              "      <td>-0.001345</td>\n",
              "      <td>-0.003161</td>\n",
              "      <td>...</td>\n",
              "      <td>-0.028314</td>\n",
              "      <td>-0.032964</td>\n",
              "      <td>0.009292</td>\n",
              "      <td>-0.005416</td>\n",
              "      <td>-0.027140</td>\n",
              "      <td>-0.062523</td>\n",
              "      <td>-0.019731</td>\n",
              "      <td>0.964502</td>\n",
              "      <td>1.000000</td>\n",
              "      <td>-0.061059</td>\n",
              "    </tr>\n",
              "    <tr>\n",
              "      <th>satisfaction</th>\n",
              "      <td>0.010965</td>\n",
              "      <td>0.007335</td>\n",
              "      <td>-0.179632</td>\n",
              "      <td>0.121697</td>\n",
              "      <td>-0.453268</td>\n",
              "      <td>-0.443715</td>\n",
              "      <td>0.295292</td>\n",
              "      <td>0.280395</td>\n",
              "      <td>-0.064798</td>\n",
              "      <td>0.157709</td>\n",
              "      <td>...</td>\n",
              "      <td>0.398951</td>\n",
              "      <td>0.321491</td>\n",
              "      <td>0.309629</td>\n",
              "      <td>0.252415</td>\n",
              "      <td>0.241495</td>\n",
              "      <td>0.245573</td>\n",
              "      <td>0.314350</td>\n",
              "      <td>-0.051635</td>\n",
              "      <td>-0.061059</td>\n",
              "      <td>1.000000</td>\n",
              "    </tr>\n",
              "  </tbody>\n",
              "</table>\n",
              "<p>24 rows × 24 columns</p>\n",
              "</div>"
            ],
            "text/plain": [
              "                                         id    Gender  Customer Type  \\\n",
              "id                                 1.000000 -0.004371       0.006700   \n",
              "Gender                            -0.004371  1.000000      -0.027878   \n",
              "Customer Type                      0.006700 -0.027878       1.000000   \n",
              "Age                                0.010211  0.009261      -0.294210   \n",
              "Type of Travel                    -0.006564  0.019930      -0.307827   \n",
              "Class                             -0.105987 -0.006411       0.044415   \n",
              "Flight Distance                    0.095335 -0.005222      -0.229306   \n",
              "Inflight wifi service             -0.030303 -0.006323       0.001333   \n",
              "Departure/Arrival time convenient -0.002502  0.008417      -0.206864   \n",
              "Ease of Online booking             0.010389  0.001703      -0.012340   \n",
              "Gate location                      0.001843 -0.005628      -0.001940   \n",
              "Food and drink                    -0.006789 -0.014422      -0.047269   \n",
              "Online boarding                    0.055767 -0.056031      -0.188418   \n",
              "Seat comfort                       0.049212 -0.047765      -0.143362   \n",
              "Inflight entertainment            -0.001078 -0.005217      -0.090418   \n",
              "On-board service                   0.056544 -0.000423      -0.044628   \n",
              "Leg room service                   0.041921  0.028051      -0.042757   \n",
              "Baggage handling                   0.073085  0.032202       0.025470   \n",
              "Checkin service                    0.079521  0.000079      -0.027565   \n",
              "Inflight service                   0.076587  0.034890       0.025729   \n",
              "Cleanliness                        0.020411 -0.011605      -0.072150   \n",
              "Departure Delay in Minutes        -0.009884  0.005775       0.003200   \n",
              "Arrival Delay in Minutes          -0.029090  0.005088       0.004709   \n",
              "satisfaction                       0.010965  0.007335      -0.179632   \n",
              "\n",
              "                                        Age  Type of Travel     Class  \\\n",
              "id                                 0.010211       -0.006564 -0.105987   \n",
              "Gender                             0.009261        0.019930 -0.006411   \n",
              "Customer Type                     -0.294210       -0.307827  0.044415   \n",
              "Age                                1.000000       -0.029773 -0.115125   \n",
              "Type of Travel                    -0.029773        1.000000  0.485258   \n",
              "Class                             -0.115125        0.485258  1.000000   \n",
              "Flight Distance                    0.099409       -0.264559 -0.425756   \n",
              "Inflight wifi service              0.009242       -0.109021 -0.032293   \n",
              "Departure/Arrival time convenient  0.032449        0.246425  0.076170   \n",
              "Ease of Online booking             0.013565       -0.136350 -0.098329   \n",
              "Gate location                      0.003308       -0.026540 -0.010509   \n",
              "Food and drink                     0.023841       -0.091164 -0.095590   \n",
              "Online boarding                    0.202058       -0.220843 -0.299951   \n",
              "Seat comfort                       0.154507       -0.140981 -0.220988   \n",
              "Inflight entertainment             0.068998       -0.171904 -0.199558   \n",
              "On-board service                   0.054977       -0.072902 -0.222258   \n",
              "Leg room service                   0.033299       -0.142869 -0.204803   \n",
              "Baggage handling                  -0.049863       -0.039824 -0.176942   \n",
              "Checkin service                    0.025388        0.014292 -0.158999   \n",
              "Inflight service                  -0.059083       -0.027235 -0.161973   \n",
              "Cleanliness                        0.048418       -0.106232 -0.144021   \n",
              "Departure Delay in Minutes        -0.004334       -0.008003  0.006455   \n",
              "Arrival Delay in Minutes          -0.007400       -0.006531  0.011941   \n",
              "satisfaction                       0.121697       -0.453268 -0.443715   \n",
              "\n",
              "                                   Flight Distance  Inflight wifi service  \\\n",
              "id                                        0.095335              -0.030303   \n",
              "Gender                                   -0.005222              -0.006323   \n",
              "Customer Type                            -0.229306               0.001333   \n",
              "Age                                       0.099409               0.009242   \n",
              "Type of Travel                           -0.264559              -0.109021   \n",
              "Class                                    -0.425756              -0.032293   \n",
              "Flight Distance                           1.000000               0.005007   \n",
              "Inflight wifi service                     0.005007               1.000000   \n",
              "Departure/Arrival time convenient        -0.014401               0.349137   \n",
              "Ease of Online booking                    0.062989               0.710684   \n",
              "Gate location                             0.008410               0.347790   \n",
              "Food and drink                            0.057322               0.122306   \n",
              "Online boarding                           0.214629               0.459366   \n",
              "Seat comfort                              0.158957               0.116991   \n",
              "Inflight entertainment                    0.137538               0.201782   \n",
              "On-board service                          0.117880               0.113658   \n",
              "Leg room service                          0.136995               0.159699   \n",
              "Baggage handling                          0.071549               0.118199   \n",
              "Checkin service                           0.075720               0.046046   \n",
              "Inflight service                          0.066355               0.108419   \n",
              "Cleanliness                               0.105578               0.125768   \n",
              "Departure Delay in Minutes                0.003446              -0.010078   \n",
              "Arrival Delay in Minutes                  0.000131              -0.012277   \n",
              "satisfaction                              0.295292               0.280395   \n",
              "\n",
              "                                   Departure/Arrival time convenient  \\\n",
              "id                                                         -0.002502   \n",
              "Gender                                                      0.008417   \n",
              "Customer Type                                              -0.206864   \n",
              "Age                                                         0.032449   \n",
              "Type of Travel                                              0.246425   \n",
              "Class                                                       0.076170   \n",
              "Flight Distance                                            -0.014401   \n",
              "Inflight wifi service                                       0.349137   \n",
              "Departure/Arrival time convenient                           1.000000   \n",
              "Ease of Online booking                                      0.440230   \n",
              "Gate location                                               0.458439   \n",
              "Food and drink                                             -0.016006   \n",
              "Online boarding                                             0.080937   \n",
              "Seat comfort                                               -0.001926   \n",
              "Inflight entertainment                                     -0.022326   \n",
              "On-board service                                            0.060982   \n",
              "Leg room service                                            0.003373   \n",
              "Baggage handling                                            0.065684   \n",
              "Checkin service                                             0.082461   \n",
              "Inflight service                                            0.067804   \n",
              "Cleanliness                                                -0.007670   \n",
              "Departure Delay in Minutes                                 -0.000238   \n",
              "Arrival Delay in Minutes                                   -0.001345   \n",
              "satisfaction                                               -0.064798   \n",
              "\n",
              "                                   Ease of Online booking  ...  \\\n",
              "id                                               0.010389  ...   \n",
              "Gender                                           0.001703  ...   \n",
              "Customer Type                                   -0.012340  ...   \n",
              "Age                                              0.013565  ...   \n",
              "Type of Travel                                  -0.136350  ...   \n",
              "Class                                           -0.098329  ...   \n",
              "Flight Distance                                  0.062989  ...   \n",
              "Inflight wifi service                            0.710684  ...   \n",
              "Departure/Arrival time convenient                0.440230  ...   \n",
              "Ease of Online booking                           1.000000  ...   \n",
              "Gate location                                    0.465514  ...   \n",
              "Food and drink                                   0.025141  ...   \n",
              "Online boarding                                  0.408003  ...   \n",
              "Seat comfort                                     0.022811  ...   \n",
              "Inflight entertainment                           0.044715  ...   \n",
              "On-board service                                 0.039988  ...   \n",
              "Leg room service                                 0.116754  ...   \n",
              "Baggage handling                                 0.040685  ...   \n",
              "Checkin service                                 -0.000108  ...   \n",
              "Inflight service                                 0.035769  ...   \n",
              "Cleanliness                                      0.010974  ...   \n",
              "Departure Delay in Minutes                      -0.001062  ...   \n",
              "Arrival Delay in Minutes                        -0.003161  ...   \n",
              "satisfaction                                     0.157709  ...   \n",
              "\n",
              "                                   Inflight entertainment  On-board service  \\\n",
              "id                                              -0.001078          0.056544   \n",
              "Gender                                          -0.005217         -0.000423   \n",
              "Customer Type                                   -0.090418         -0.044628   \n",
              "Age                                              0.068998          0.054977   \n",
              "Type of Travel                                  -0.171904         -0.072902   \n",
              "Class                                           -0.199558         -0.222258   \n",
              "Flight Distance                                  0.137538          0.117880   \n",
              "Inflight wifi service                            0.201782          0.113658   \n",
              "Departure/Arrival time convenient               -0.022326          0.060982   \n",
              "Ease of Online booking                           0.044715          0.039988   \n",
              "Gate location                                   -0.000340         -0.031606   \n",
              "Food and drink                                   0.627265          0.050688   \n",
              "Online boarding                                  0.279391          0.149430   \n",
              "Seat comfort                                     0.616817          0.124805   \n",
              "Inflight entertainment                           1.000000          0.412266   \n",
              "On-board service                                 0.412266          1.000000   \n",
              "Leg room service                                 0.303203          0.366658   \n",
              "Baggage handling                                 0.382782          0.524981   \n",
              "Checkin service                                  0.114343          0.247438   \n",
              "Inflight service                                 0.411018          0.554734   \n",
              "Cleanliness                                      0.695269          0.117546   \n",
              "Departure Delay in Minutes                      -0.025085         -0.026018   \n",
              "Arrival Delay in Minutes                        -0.028314         -0.032964   \n",
              "satisfaction                                     0.398951          0.321491   \n",
              "\n",
              "                                   Leg room service  Baggage handling  \\\n",
              "id                                         0.041921          0.073085   \n",
              "Gender                                     0.028051          0.032202   \n",
              "Customer Type                             -0.042757          0.025470   \n",
              "Age                                        0.033299         -0.049863   \n",
              "Type of Travel                            -0.142869         -0.039824   \n",
              "Class                                     -0.204803         -0.176942   \n",
              "Flight Distance                            0.136995          0.071549   \n",
              "Inflight wifi service                      0.159699          0.118199   \n",
              "Departure/Arrival time convenient          0.003373          0.065684   \n",
              "Ease of Online booking                     0.116754          0.040685   \n",
              "Gate location                             -0.002428         -0.004395   \n",
              "Food and drink                             0.035870          0.037617   \n",
              "Online boarding                            0.120354          0.084583   \n",
              "Seat comfort                               0.099150          0.074927   \n",
              "Inflight entertainment                     0.303203          0.382782   \n",
              "On-board service                           0.366658          0.524981   \n",
              "Leg room service                           1.000000          0.379113   \n",
              "Baggage handling                           0.379113          1.000000   \n",
              "Checkin service                            0.150935          0.240033   \n",
              "Inflight service                           0.373213          0.631964   \n",
              "Cleanliness                                0.097982          0.102182   \n",
              "Departure Delay in Minutes                 0.015434          0.001930   \n",
              "Arrival Delay in Minutes                   0.009292         -0.005416   \n",
              "satisfaction                               0.309629          0.252415   \n",
              "\n",
              "                                   Checkin service  Inflight service  \\\n",
              "id                                        0.079521          0.076587   \n",
              "Gender                                    0.000079          0.034890   \n",
              "Customer Type                            -0.027565          0.025729   \n",
              "Age                                       0.025388         -0.059083   \n",
              "Type of Travel                            0.014292         -0.027235   \n",
              "Class                                    -0.158999         -0.161973   \n",
              "Flight Distance                           0.075720          0.066355   \n",
              "Inflight wifi service                     0.046046          0.108419   \n",
              "Departure/Arrival time convenient         0.082461          0.067804   \n",
              "Ease of Online booking                   -0.000108          0.035769   \n",
              "Gate location                            -0.054954         -0.005129   \n",
              "Food and drink                            0.076775          0.039992   \n",
              "Online boarding                           0.203309          0.071972   \n",
              "Seat comfort                              0.182469          0.067306   \n",
              "Inflight entertainment                    0.114343          0.411018   \n",
              "On-board service                          0.247438          0.554734   \n",
              "Leg room service                          0.150935          0.373213   \n",
              "Baggage handling                          0.240033          0.631964   \n",
              "Checkin service                           1.000000          0.239170   \n",
              "Inflight service                          0.239170          1.000000   \n",
              "Cleanliness                               0.165062          0.096606   \n",
              "Departure Delay in Minutes               -0.019893         -0.052823   \n",
              "Arrival Delay in Minutes                 -0.027140         -0.062523   \n",
              "satisfaction                              0.241495          0.245573   \n",
              "\n",
              "                                   Cleanliness  Departure Delay in Minutes  \\\n",
              "id                                    0.020411                   -0.009884   \n",
              "Gender                               -0.011605                    0.005775   \n",
              "Customer Type                        -0.072150                    0.003200   \n",
              "Age                                   0.048418                   -0.004334   \n",
              "Type of Travel                       -0.106232                   -0.008003   \n",
              "Class                                -0.144021                    0.006455   \n",
              "Flight Distance                       0.105578                    0.003446   \n",
              "Inflight wifi service                 0.125768                   -0.010078   \n",
              "Departure/Arrival time convenient    -0.007670                   -0.000238   \n",
              "Ease of Online booking                0.010974                   -0.001062   \n",
              "Gate location                        -0.014195                    0.008039   \n",
              "Food and drink                        0.659253                   -0.025957   \n",
              "Online boarding                       0.320912                   -0.021037   \n",
              "Seat comfort                          0.683924                   -0.028341   \n",
              "Inflight entertainment                0.695269                   -0.025085   \n",
              "On-board service                      0.117546                   -0.026018   \n",
              "Leg room service                      0.097982                    0.015434   \n",
              "Baggage handling                      0.102182                    0.001930   \n",
              "Checkin service                       0.165062                   -0.019893   \n",
              "Inflight service                      0.096606                   -0.052823   \n",
              "Cleanliness                           1.000000                   -0.016378   \n",
              "Departure Delay in Minutes           -0.016378                    1.000000   \n",
              "Arrival Delay in Minutes             -0.019731                    0.964502   \n",
              "satisfaction                          0.314350                   -0.051635   \n",
              "\n",
              "                                   Arrival Delay in Minutes  satisfaction  \n",
              "id                                                -0.029090      0.010965  \n",
              "Gender                                             0.005088      0.007335  \n",
              "Customer Type                                      0.004709     -0.179632  \n",
              "Age                                               -0.007400      0.121697  \n",
              "Type of Travel                                    -0.006531     -0.453268  \n",
              "Class                                              0.011941     -0.443715  \n",
              "Flight Distance                                    0.000131      0.295292  \n",
              "Inflight wifi service                             -0.012277      0.280395  \n",
              "Departure/Arrival time convenient                 -0.001345     -0.064798  \n",
              "Ease of Online booking                            -0.003161      0.157709  \n",
              "Gate location                                      0.007776     -0.016627  \n",
              "Food and drink                                    -0.028309      0.216868  \n",
              "Online boarding                                   -0.025875      0.494526  \n",
              "Seat comfort                                      -0.033030      0.346275  \n",
              "Inflight entertainment                            -0.028314      0.398951  \n",
              "On-board service                                  -0.032964      0.321491  \n",
              "Leg room service                                   0.009292      0.309629  \n",
              "Baggage handling                                  -0.005416      0.252415  \n",
              "Checkin service                                   -0.027140      0.241495  \n",
              "Inflight service                                  -0.062523      0.245573  \n",
              "Cleanliness                                       -0.019731      0.314350  \n",
              "Departure Delay in Minutes                         0.964502     -0.051635  \n",
              "Arrival Delay in Minutes                           1.000000     -0.061059  \n",
              "satisfaction                                      -0.061059      1.000000  \n",
              "\n",
              "[24 rows x 24 columns]"
            ]
          },
          "execution_count": 77,
          "metadata": {},
          "output_type": "execute_result"
        }
      ],
      "source": [
        "df.corr()"
      ]
    },
    {
      "cell_type": "code",
      "execution_count": 78,
      "metadata": {},
      "outputs": [
        {
          "data": {
            "text/plain": [
              "['Type of Travel',\n",
              " 'Class',\n",
              " 'Flight Distance',\n",
              " 'Inflight wifi service',\n",
              " 'Food and drink',\n",
              " 'Online boarding',\n",
              " 'Seat comfort',\n",
              " 'Inflight entertainment',\n",
              " 'On-board service',\n",
              " 'Leg room service',\n",
              " 'Baggage handling',\n",
              " 'Checkin service',\n",
              " 'Inflight service',\n",
              " 'Cleanliness',\n",
              " 'satisfaction']"
            ]
          },
          "execution_count": 78,
          "metadata": {},
          "output_type": "execute_result"
        }
      ],
      "source": [
        "columns = []\n",
        "for i, row in df.corr().iterrows():\n",
        "    columns.append(i) if abs(row[\"satisfaction\"]) > 0.2 else None\n",
        "\n",
        "columns"
      ]
    },
    {
      "cell_type": "code",
      "execution_count": 79,
      "metadata": {},
      "outputs": [],
      "source": [
        "df = df[columns]"
      ]
    },
    {
      "cell_type": "code",
      "execution_count": 80,
      "metadata": {
        "id": "jj8vFPWR0ka1"
      },
      "outputs": [
        {
          "data": {
            "text/plain": [
              "Type of Travel            0\n",
              "Class                     0\n",
              "Flight Distance           0\n",
              "Inflight wifi service     0\n",
              "Food and drink            0\n",
              "Online boarding           0\n",
              "Seat comfort              0\n",
              "Inflight entertainment    0\n",
              "On-board service          0\n",
              "Leg room service          0\n",
              "Baggage handling          0\n",
              "Checkin service           0\n",
              "Inflight service          0\n",
              "Cleanliness               0\n",
              "satisfaction              0\n",
              "dtype: int64"
            ]
          },
          "execution_count": 80,
          "metadata": {},
          "output_type": "execute_result"
        }
      ],
      "source": [
        "for x in df:\n",
        "    df.drop(df.loc[df[x]=='?'].index, inplace=True)\n",
        "            \n",
        "df.isnull().sum()"
      ]
    },
    {
      "cell_type": "code",
      "execution_count": 82,
      "metadata": {
        "colab": {
          "base_uri": "https://localhost:8080/"
        },
        "id": "nHn6TGEs0ka2",
        "outputId": "447ec93a-422c-45fb-f6d7-16d06226297a"
      },
      "outputs": [
        {
          "name": "stdout",
          "output_type": "stream",
          "text": [
            "Counter({0: 14573, 1: 2895})\n"
          ]
        }
      ],
      "source": [
        "for i, row in df.iterrows():\n",
        "    if df.at[i,'satisfaction'] == True:\n",
        "        a = random.choice([0,1])\n",
        "        if a==0:\n",
        "            df.drop(i, inplace=True)\n",
        "\n",
        "print(Counter(df[\"satisfaction\"]))\n",
        "df[\"satisfaction\"].replace({False: 0, True: 1}, inplace=True)"
      ]
    },
    {
      "cell_type": "code",
      "execution_count": 141,
      "metadata": {},
      "outputs": [
        {
          "data": {
            "text/plain": [
              "19.86550470047348"
            ]
          },
          "execution_count": 141,
          "metadata": {},
          "output_type": "execute_result"
        }
      ],
      "source": [
        "(Counter(df['satisfaction'])[1]/Counter(df['satisfaction'])[0])*100"
      ]
    },
    {
      "cell_type": "code",
      "execution_count": 83,
      "metadata": {
        "colab": {
          "base_uri": "https://localhost:8080/"
        },
        "id": "ChOmumuF0ka4",
        "outputId": "d2ba702c-2ffc-4b1f-d7d3-4f14b7ddc62c"
      },
      "outputs": [
        {
          "name": "stdout",
          "output_type": "stream",
          "text": [
            "1        1\n",
            "2        0\n",
            "4        1\n",
            "6        1\n",
            "11       0\n",
            "        ..\n",
            "25969    1\n",
            "25970    0\n",
            "25971    0\n",
            "25973    0\n",
            "25975    0\n",
            "Name: satisfaction, Length: 17468, dtype: int32\n"
          ]
        }
      ],
      "source": [
        "X = df.drop(columns=[\"satisfaction\"])\n",
        "y = df.satisfaction \n",
        "# print(type(y[0]))\n",
        "print(y)"
      ]
    },
    {
      "cell_type": "code",
      "execution_count": 84,
      "metadata": {
        "id": "CFR1dkIX0ka4"
      },
      "outputs": [],
      "source": [
        "X_train, X_test, y_train, y_test = train_test_split(X, y, test_size=0.2, random_state=42)"
      ]
    },
    {
      "cell_type": "code",
      "execution_count": 85,
      "metadata": {
        "colab": {
          "base_uri": "https://localhost:8080/"
        },
        "id": "eRw695zU0ka5",
        "outputId": "764fdb1e-e70c-43fc-9c34-27034a274ec3"
      },
      "outputs": [
        {
          "name": "stdout",
          "output_type": "stream",
          "text": [
            "0    2897\n",
            "1     597\n",
            "Name: satisfaction, dtype: int64\n",
            "0    11676\n",
            "1     2298\n",
            "Name: satisfaction, dtype: int64\n"
          ]
        }
      ],
      "source": [
        "print(y_test.value_counts())\n",
        "print(y_train.value_counts())"
      ]
    },
    {
      "cell_type": "markdown",
      "metadata": {
        "id": "P78XMq2M5eW3"
      },
      "source": [
        "## Data Resampling Techniques"
      ]
    },
    {
      "cell_type": "markdown",
      "metadata": {
        "id": "fdTYMvf16y-Z"
      },
      "source": [
        "Random Oversampling"
      ]
    },
    {
      "cell_type": "code",
      "execution_count": 86,
      "metadata": {
        "colab": {
          "base_uri": "https://localhost:8080/"
        },
        "id": "su7S5YrX0ka5",
        "outputId": "0c9bd533-8361-4df4-94da-9672ea09419d"
      },
      "outputs": [
        {
          "name": "stdout",
          "output_type": "stream",
          "text": [
            "Counter({0: 11676, 1: 5838})\n"
          ]
        }
      ],
      "source": [
        "oversampler = RandomOverSampler(sampling_strategy=.5)\n",
        "X_over, y_over = oversampler.fit_resample(X_train, y_train)\n",
        "print(Counter(y_over))"
      ]
    },
    {
      "cell_type": "markdown",
      "metadata": {
        "id": "taG6JCAm61Sa"
      },
      "source": [
        "Random Undersampling"
      ]
    },
    {
      "cell_type": "code",
      "execution_count": 87,
      "metadata": {
        "colab": {
          "base_uri": "https://localhost:8080/"
        },
        "id": "lX-lLmHi0ka6",
        "outputId": "b57b69d1-c825-45f6-9683-3521889e3b7c"
      },
      "outputs": [
        {
          "name": "stdout",
          "output_type": "stream",
          "text": [
            "Counter({0: 4596, 1: 2298})\n"
          ]
        }
      ],
      "source": [
        "undersampler = RandomUnderSampler(sampling_strategy=.5)\n",
        "X_under, y_under = undersampler.fit_resample(X_train, y_train)\n",
        "print(Counter(y_under))"
      ]
    },
    {
      "cell_type": "markdown",
      "metadata": {
        "id": "bpRTavtx63ov"
      },
      "source": [
        "Synthetic Minority Over Sampling"
      ]
    },
    {
      "cell_type": "code",
      "execution_count": 88,
      "metadata": {
        "id": "PRi1SWgC0ka6"
      },
      "outputs": [],
      "source": [
        "X_train_smote = np.asarray(X_train)\n",
        "y_train_smote = np.asarray(y_train)\n"
      ]
    },
    {
      "cell_type": "code",
      "execution_count": 89,
      "metadata": {
        "colab": {
          "base_uri": "https://localhost:8080/"
        },
        "id": "gD4yiSTs0ka7",
        "outputId": "402046e6-5cbc-4a90-e90d-c3023f0e7a1a"
      },
      "outputs": [
        {
          "name": "stdout",
          "output_type": "stream",
          "text": [
            "Counter({0: 11676, 1: 11676})\n"
          ]
        }
      ],
      "source": [
        "smotesampler = SMOTE()\n",
        "X_smote, y_smote = smotesampler.fit_resample(X_train_smote, y_train_smote)\n",
        "print(Counter(y_smote))"
      ]
    },
    {
      "cell_type": "markdown",
      "metadata": {
        "id": "Z-oJ8HH_0ka7"
      },
      "source": [
        "## Decision Tree"
      ]
    },
    {
      "cell_type": "code",
      "execution_count": 90,
      "metadata": {
        "id": "VYT7kzlY0ka9"
      },
      "outputs": [],
      "source": [
        "clf = tree.DecisionTreeClassifier()\n",
        "clf = clf.fit(X_train, y_train)"
      ]
    },
    {
      "cell_type": "code",
      "execution_count": 91,
      "metadata": {
        "id": "6vspvdmr0ka-"
      },
      "outputs": [],
      "source": [
        "pred = clf.predict(X_test)"
      ]
    },
    {
      "cell_type": "code",
      "execution_count": 92,
      "metadata": {
        "colab": {
          "base_uri": "https://localhost:8080/"
        },
        "id": "_9Szyz9ZSlt4",
        "outputId": "287cc3e8-ae00-4e87-9650-dcb539553a32"
      },
      "outputs": [
        {
          "name": "stdout",
          "output_type": "stream",
          "text": [
            "[[2794  103]\n",
            " [  78  519]]\n"
          ]
        }
      ],
      "source": [
        "conf = confusion_matrix(y_test, pred)\n",
        "print(conf)"
      ]
    },
    {
      "cell_type": "code",
      "execution_count": 93,
      "metadata": {
        "id": "rWY5zNX-Slt9"
      },
      "outputs": [],
      "source": [
        "true_negative_rate = conf[0][0]/(conf[0][0]+conf[0][1])\n",
        "true_positive_rate = conf[1][1]/(conf[1][1]+conf[1][0])\n",
        "g_mean_dec = math.sqrt(true_positive_rate*true_negative_rate)"
      ]
    },
    {
      "cell_type": "code",
      "execution_count": 94,
      "metadata": {
        "id": "5j7kQaZlSlt9"
      },
      "outputs": [],
      "source": [
        "false_positive_rate = conf[0][1]/(conf[0][1]+conf[0][0])\n",
        "balance_dec = 1 - math.sqrt((true_positive_rate)**2 + (1-false_positive_rate)**2)/math.sqrt(2)\n",
        "f1_dec = f1_score(y_test, pred)"
      ]
    },
    {
      "cell_type": "code",
      "execution_count": 95,
      "metadata": {
        "colab": {
          "base_uri": "https://localhost:8080/"
        },
        "id": "SsNufMDhSlt9",
        "outputId": "63e04ed6-c231-490f-c7bb-426ae4477f61"
      },
      "outputs": [
        {
          "name": "stdout",
          "output_type": "stream",
          "text": [
            "g-mean =  0.915662580481597\n",
            "Balance =  0.08187152615368432\n"
          ]
        }
      ],
      "source": [
        "print(\"g-mean = \",g_mean_dec)\n",
        "print(\"Balance = \",balance_dec)"
      ]
    },
    {
      "cell_type": "markdown",
      "metadata": {
        "id": "ijl-_xYg0ka_"
      },
      "source": [
        "## Bagging "
      ]
    },
    {
      "cell_type": "code",
      "execution_count": 96,
      "metadata": {
        "colab": {
          "base_uri": "https://localhost:8080/"
        },
        "id": "gvOG5NkP0kbA",
        "outputId": "39f655b4-2087-4206-aba4-1cecb590bb37"
      },
      "outputs": [
        {
          "data": {
            "text/plain": [
              "BaggingClassifier()"
            ]
          },
          "execution_count": 96,
          "metadata": {},
          "output_type": "execute_result"
        }
      ],
      "source": [
        "bag = BaggingClassifier()\n",
        "bag.fit(X_train, y_train)"
      ]
    },
    {
      "cell_type": "code",
      "execution_count": 97,
      "metadata": {
        "id": "0fOlADBD0kbA"
      },
      "outputs": [],
      "source": [
        "pred = bag.predict(X_test)"
      ]
    },
    {
      "cell_type": "code",
      "execution_count": 98,
      "metadata": {
        "colab": {
          "base_uri": "https://localhost:8080/"
        },
        "id": "4mvVep3r0kbB",
        "outputId": "3a30eaad-a6b5-4497-8289-4123f3f1674d"
      },
      "outputs": [
        {
          "name": "stdout",
          "output_type": "stream",
          "text": [
            "[[2859   38]\n",
            " [  87  510]]\n"
          ]
        }
      ],
      "source": [
        "conf = confusion_matrix(y_test, pred)\n",
        "print(conf)"
      ]
    },
    {
      "cell_type": "code",
      "execution_count": 99,
      "metadata": {
        "id": "QjNFMvry7RbE"
      },
      "outputs": [],
      "source": [
        "true_negative_rate = conf[0][0]/(conf[0][0]+conf[0][1])\n",
        "true_positive_rate = conf[1][1]/(conf[1][1]+conf[1][0])\n",
        "g_mean_bag = math.sqrt(true_positive_rate*true_negative_rate)"
      ]
    },
    {
      "cell_type": "code",
      "execution_count": 100,
      "metadata": {
        "id": "3hKXe72NGKVj"
      },
      "outputs": [],
      "source": [
        "false_positive_rate = conf[0][1]/(conf[0][1]+conf[0][0])\n",
        "balance_bag = 1 - math.sqrt((true_positive_rate)**2 + (1-false_positive_rate)**2)/math.sqrt(2)\n",
        "f1_bag = f1_score(y_test, pred)"
      ]
    },
    {
      "cell_type": "code",
      "execution_count": 101,
      "metadata": {
        "colab": {
          "base_uri": "https://localhost:8080/"
        },
        "id": "z2n5iwg-F50R",
        "outputId": "79315e44-311a-453e-cd85-ea42ffefae07"
      },
      "outputs": [
        {
          "name": "stdout",
          "output_type": "stream",
          "text": [
            "g-mean =  0.9181861817507572\n",
            "Balance =  0.07703803654662\n"
          ]
        }
      ],
      "source": [
        "print(\"g-mean = \",g_mean_bag)\n",
        "print(\"Balance = \",balance_bag)"
      ]
    },
    {
      "cell_type": "markdown",
      "metadata": {
        "id": "eSvTV4Vj0kbB"
      },
      "source": [
        "## AdaBoost"
      ]
    },
    {
      "cell_type": "code",
      "execution_count": 102,
      "metadata": {
        "colab": {
          "base_uri": "https://localhost:8080/"
        },
        "id": "MHe9q6W20kbC",
        "outputId": "51c27ee8-d7d2-4b2e-ebb6-b1ac3ce7a107"
      },
      "outputs": [
        {
          "data": {
            "text/plain": [
              "AdaBoostClassifier()"
            ]
          },
          "execution_count": 102,
          "metadata": {},
          "output_type": "execute_result"
        }
      ],
      "source": [
        "ada = AdaBoostClassifier()\n",
        "ada.fit(X_train, y_train)"
      ]
    },
    {
      "cell_type": "code",
      "execution_count": 103,
      "metadata": {
        "id": "7VLi0d_U0kbC"
      },
      "outputs": [],
      "source": [
        "pred = ada.predict(X_test)"
      ]
    },
    {
      "cell_type": "code",
      "execution_count": 104,
      "metadata": {
        "colab": {
          "base_uri": "https://localhost:8080/"
        },
        "id": "GwGNUcldSnvm",
        "outputId": "fc4171e1-e76d-4829-c452-b45bcd9683df"
      },
      "outputs": [
        {
          "name": "stdout",
          "output_type": "stream",
          "text": [
            "[[2837   60]\n",
            " [ 140  457]]\n"
          ]
        }
      ],
      "source": [
        "conf = confusion_matrix(y_test, pred)\n",
        "print(conf)"
      ]
    },
    {
      "cell_type": "code",
      "execution_count": 105,
      "metadata": {
        "id": "OY9EMJJ0Snvm"
      },
      "outputs": [],
      "source": [
        "true_negative_rate = conf[0][0]/(conf[0][0]+conf[0][1])\n",
        "true_positive_rate = conf[1][1]/(conf[1][1]+conf[1][0])\n",
        "g_mean_ada = math.sqrt(true_positive_rate*true_negative_rate)"
      ]
    },
    {
      "cell_type": "code",
      "execution_count": 106,
      "metadata": {
        "id": "-SHpz1EtSnvm"
      },
      "outputs": [],
      "source": [
        "false_positive_rate = conf[0][1]/(conf[0][1]+conf[0][0])\n",
        "balance_ada = 1 - math.sqrt((true_positive_rate)**2 + (1-false_positive_rate)**2)/math.sqrt(2)\n",
        "f1_ada = f1_score(y_test, pred)"
      ]
    },
    {
      "cell_type": "code",
      "execution_count": 107,
      "metadata": {
        "colab": {
          "base_uri": "https://localhost:8080/"
        },
        "id": "HDA0Bo0FSnvm",
        "outputId": "8e1c909f-683b-4736-a3e1-74bf80ff2635"
      },
      "outputs": [
        {
          "name": "stdout",
          "output_type": "stream",
          "text": [
            "g-mean =  0.8658174904144188\n",
            "Balance =  0.12108360399895945\n"
          ]
        }
      ],
      "source": [
        "print(\"g-mean = \",g_mean_ada)\n",
        "print(\"Balance = \",balance_ada)"
      ]
    },
    {
      "cell_type": "markdown",
      "metadata": {
        "id": "cCSZXA940kbD"
      },
      "source": [
        "## Easy Ensemble"
      ]
    },
    {
      "cell_type": "code",
      "execution_count": 108,
      "metadata": {
        "colab": {
          "base_uri": "https://localhost:8080/",
          "height": 328
        },
        "id": "UDwArmgn0kbD",
        "outputId": "1020c4d7-1877-4998-f04a-869e5311db87"
      },
      "outputs": [
        {
          "data": {
            "text/plain": [
              "EasyEnsembleClassifier(random_state=42)"
            ]
          },
          "execution_count": 108,
          "metadata": {},
          "output_type": "execute_result"
        }
      ],
      "source": [
        "easy_ensemble = EasyEnsembleClassifier(random_state=42)\n",
        "easy_ensemble.fit(X_smote, y_smote)"
      ]
    },
    {
      "cell_type": "code",
      "execution_count": 109,
      "metadata": {
        "id": "5RZucfES0kbD"
      },
      "outputs": [],
      "source": [
        "pred = easy_ensemble.predict(X_test)"
      ]
    },
    {
      "cell_type": "code",
      "execution_count": 110,
      "metadata": {
        "id": "TUqQneq6Spl1"
      },
      "outputs": [
        {
          "name": "stdout",
          "output_type": "stream",
          "text": [
            "[[2591  306]\n",
            " [  66  531]]\n"
          ]
        }
      ],
      "source": [
        "conf = confusion_matrix(y_test, pred)\n",
        "print(conf)"
      ]
    },
    {
      "cell_type": "code",
      "execution_count": 111,
      "metadata": {
        "id": "3l03g8YXSpl1"
      },
      "outputs": [],
      "source": [
        "true_negative_rate = conf[0][0]/(conf[0][0]+conf[0][1])\n",
        "true_positive_rate = conf[1][1]/(conf[1][1]+conf[1][0])\n",
        "g_mean_ez = math.sqrt(true_positive_rate*true_negative_rate)"
      ]
    },
    {
      "cell_type": "code",
      "execution_count": 112,
      "metadata": {
        "id": "7E75GTvASpl2"
      },
      "outputs": [],
      "source": [
        "false_positive_rate = conf[0][1]/(conf[0][1]+conf[0][0])\n",
        "balance_ez = 1 - math.sqrt((true_positive_rate)**2 + (1-false_positive_rate)**2)/math.sqrt(2)\n",
        "f1_ez = f1_score(y_test, pred)"
      ]
    },
    {
      "cell_type": "code",
      "execution_count": 113,
      "metadata": {
        "id": "WEQp6TPuSpl2"
      },
      "outputs": [
        {
          "name": "stdout",
          "output_type": "stream",
          "text": [
            "g-mean =  0.8919069618694807\n",
            "Balance =  0.10808623588449373\n"
          ]
        }
      ],
      "source": [
        "print(\"g-mean = \",g_mean_ez)\n",
        "print(\"Balance = \",balance_ez)"
      ]
    },
    {
      "cell_type": "markdown",
      "metadata": {
        "id": "6nCzrk100kbE"
      },
      "source": [
        "## RusBoost"
      ]
    },
    {
      "cell_type": "code",
      "execution_count": 114,
      "metadata": {
        "colab": {
          "base_uri": "https://localhost:8080/"
        },
        "id": "V3e4RhLA0kbE",
        "outputId": "81436630-678d-41f3-d5a8-d8be655c7b91"
      },
      "outputs": [
        {
          "data": {
            "text/plain": [
              "AdaBoostClassifier()"
            ]
          },
          "execution_count": 114,
          "metadata": {},
          "output_type": "execute_result"
        }
      ],
      "source": [
        "rus = AdaBoostClassifier()\n",
        "rus.fit(X_under, y_under)"
      ]
    },
    {
      "cell_type": "code",
      "execution_count": 115,
      "metadata": {
        "id": "qJPlON-H0kbE"
      },
      "outputs": [],
      "source": [
        "pred = rus.predict(X_test)"
      ]
    },
    {
      "cell_type": "code",
      "execution_count": 116,
      "metadata": {
        "colab": {
          "base_uri": "https://localhost:8080/"
        },
        "id": "H1EGACQeSr02",
        "outputId": "1d00719e-d8e8-4639-b635-4c690017ef38"
      },
      "outputs": [
        {
          "name": "stdout",
          "output_type": "stream",
          "text": [
            "[[2767  130]\n",
            " [  83  514]]\n"
          ]
        }
      ],
      "source": [
        "conf = confusion_matrix(y_test, pred)\n",
        "print(conf)"
      ]
    },
    {
      "cell_type": "code",
      "execution_count": 117,
      "metadata": {
        "id": "opvBK4GJSr02"
      },
      "outputs": [],
      "source": [
        "true_negative_rate = conf[0][0]/(conf[0][0]+conf[0][1])\n",
        "true_positive_rate = conf[1][1]/(conf[1][1]+conf[1][0])\n",
        "g_mean_rus = math.sqrt(true_positive_rate*true_negative_rate)"
      ]
    },
    {
      "cell_type": "code",
      "execution_count": 118,
      "metadata": {
        "id": "bwVNE5VgSr02"
      },
      "outputs": [],
      "source": [
        "false_positive_rate = conf[0][1]/(conf[0][1]+conf[0][0])\n",
        "balance_rus = 1 - math.sqrt((true_positive_rate)**2 + (1-false_positive_rate)**2)/math.sqrt(2)\n",
        "f1_rus = f1_score(y_test, pred)"
      ]
    },
    {
      "cell_type": "code",
      "execution_count": 119,
      "metadata": {
        "colab": {
          "base_uri": "https://localhost:8080/"
        },
        "id": "741bPbPXSr02",
        "outputId": "4ab065d1-cc48-4ee0-e781-7c88991920d0"
      },
      "outputs": [
        {
          "name": "stdout",
          "output_type": "stream",
          "text": [
            "g-mean =  0.906827591975967\n",
            "Balance =  0.09073171533248425\n"
          ]
        }
      ],
      "source": [
        "print(\"g-mean = \",g_mean_rus)\n",
        "print(\"Balance = \",balance_rus)"
      ]
    },
    {
      "cell_type": "markdown",
      "metadata": {
        "id": "CdVEsya90kbE"
      },
      "source": [
        "## Smote Boost"
      ]
    },
    {
      "cell_type": "code",
      "execution_count": 120,
      "metadata": {
        "colab": {
          "base_uri": "https://localhost:8080/"
        },
        "id": "FixYD3KP0kbF",
        "outputId": "91aeb735-9fa5-47fc-9879-3c1610cdac83"
      },
      "outputs": [
        {
          "data": {
            "text/plain": [
              "AdaBoostClassifier()"
            ]
          },
          "execution_count": 120,
          "metadata": {},
          "output_type": "execute_result"
        }
      ],
      "source": [
        "smote_boost = AdaBoostClassifier()\n",
        "smote_boost.fit(X_smote,y_smote)"
      ]
    },
    {
      "cell_type": "code",
      "execution_count": 121,
      "metadata": {
        "colab": {
          "base_uri": "https://localhost:8080/"
        },
        "id": "UvVdWIK00kbF",
        "outputId": "09473906-953b-4e45-b9dd-6328dba54e57"
      },
      "outputs": [],
      "source": [
        "pred = smote_boost.predict(X_test)"
      ]
    },
    {
      "cell_type": "code",
      "execution_count": 122,
      "metadata": {
        "colab": {
          "base_uri": "https://localhost:8080/"
        },
        "id": "1mI23hgiStfg",
        "outputId": "ae910797-0f47-4f33-dd8f-bc286d8f03d4"
      },
      "outputs": [
        {
          "name": "stdout",
          "output_type": "stream",
          "text": [
            "[[2591  306]\n",
            " [  66  531]]\n"
          ]
        }
      ],
      "source": [
        "conf = confusion_matrix(y_test, pred)\n",
        "print(conf)"
      ]
    },
    {
      "cell_type": "code",
      "execution_count": 123,
      "metadata": {
        "id": "DLK7fNDKStfg"
      },
      "outputs": [],
      "source": [
        "true_negative_rate = conf[0][0]/(conf[0][0]+conf[0][1])\n",
        "true_positive_rate = conf[1][1]/(conf[1][1]+conf[1][0])\n",
        "g_mean_smb = math.sqrt(true_positive_rate*true_negative_rate)"
      ]
    },
    {
      "cell_type": "code",
      "execution_count": 124,
      "metadata": {
        "id": "NgAoiLkgStfg"
      },
      "outputs": [],
      "source": [
        "false_positive_rate = conf[0][1]/(conf[0][1]+conf[0][0])\n",
        "balance_smb = 1 - math.sqrt((true_positive_rate)**2 + (1-false_positive_rate)**2)/math.sqrt(2)\n",
        "f1_smb = f1_score(y_test, pred)"
      ]
    },
    {
      "cell_type": "code",
      "execution_count": 125,
      "metadata": {
        "colab": {
          "base_uri": "https://localhost:8080/"
        },
        "id": "7gsMh2XjStfh",
        "outputId": "42f3e4fe-e647-4d6f-8fd8-16b8ec32800b"
      },
      "outputs": [
        {
          "name": "stdout",
          "output_type": "stream",
          "text": [
            "g-mean =  0.8919069618694807\n",
            "Balance =  0.10808623588449373\n"
          ]
        }
      ],
      "source": [
        "print(\"g-mean = \",g_mean_smb)\n",
        "print(\"Balance = \",balance_smb)"
      ]
    },
    {
      "cell_type": "markdown",
      "metadata": {
        "id": "ggu7x4Zx0kbF"
      },
      "source": [
        "## Under Bagging"
      ]
    },
    {
      "cell_type": "code",
      "execution_count": 126,
      "metadata": {
        "colab": {
          "base_uri": "https://localhost:8080/"
        },
        "id": "xZL64Bkk0kbG",
        "outputId": "e62cebdb-f1e9-4ae3-82e3-ee595a7dcbe5"
      },
      "outputs": [
        {
          "data": {
            "text/plain": [
              "BaggingClassifier()"
            ]
          },
          "execution_count": 126,
          "metadata": {},
          "output_type": "execute_result"
        }
      ],
      "source": [
        "under_bagging = BaggingClassifier()\n",
        "under_bagging.fit(X_under, y_under)"
      ]
    },
    {
      "cell_type": "code",
      "execution_count": 127,
      "metadata": {
        "id": "OIOt0kxV0kbG"
      },
      "outputs": [],
      "source": [
        "pred = under_bagging.predict(X_test)"
      ]
    },
    {
      "cell_type": "code",
      "execution_count": 128,
      "metadata": {
        "colab": {
          "base_uri": "https://localhost:8080/"
        },
        "id": "BT8oEC9US23q",
        "outputId": "26a0751b-531d-4b21-acbf-cc25be4d0ed9"
      },
      "outputs": [
        {
          "name": "stdout",
          "output_type": "stream",
          "text": [
            "[[2804   93]\n",
            " [  65  532]]\n"
          ]
        }
      ],
      "source": [
        "conf = confusion_matrix(y_test, pred)\n",
        "print(conf)"
      ]
    },
    {
      "cell_type": "code",
      "execution_count": 129,
      "metadata": {
        "id": "CqKpMf2yS23q"
      },
      "outputs": [],
      "source": [
        "true_negative_rate = conf[0][0]/(conf[0][0]+conf[0][1])\n",
        "true_positive_rate = conf[1][1]/(conf[1][1]+conf[1][0])\n",
        "g_mean_ubag = math.sqrt(true_positive_rate*true_negative_rate)"
      ]
    },
    {
      "cell_type": "code",
      "execution_count": 130,
      "metadata": {
        "id": "lJc7qmNSS23q"
      },
      "outputs": [],
      "source": [
        "false_positive_rate = conf[0][1]/(conf[0][1]+conf[0][0])\n",
        "balance_ubag = 1 - math.sqrt((true_positive_rate)**2 + (1-false_positive_rate)**2)/math.sqrt(2)\n",
        "f1_ubag = f1_score(y_test, pred)"
      ]
    },
    {
      "cell_type": "code",
      "execution_count": 131,
      "metadata": {
        "colab": {
          "base_uri": "https://localhost:8080/"
        },
        "id": "0udmE8NrS23q",
        "outputId": "2e1f12a6-87e7-4a84-a416-83491513c3a4"
      },
      "outputs": [
        {
          "name": "stdout",
          "output_type": "stream",
          "text": [
            "g-mean =  0.9287170263542498\n",
            "Balance =  0.06969759896562588\n"
          ]
        }
      ],
      "source": [
        "print(\"g-mean = \",g_mean_ubag)\n",
        "print(\"Balance = \",balance_ubag)"
      ]
    },
    {
      "cell_type": "markdown",
      "metadata": {
        "id": "OpUcQzcuV4XK"
      },
      "source": [
        "## Over Bagging"
      ]
    },
    {
      "cell_type": "code",
      "execution_count": 132,
      "metadata": {
        "colab": {
          "base_uri": "https://localhost:8080/"
        },
        "id": "PThRYWGUWGB6",
        "outputId": "c0501e0c-7018-46bc-8b1a-6bb4c5160adf"
      },
      "outputs": [
        {
          "data": {
            "text/plain": [
              "BaggingClassifier()"
            ]
          },
          "execution_count": 132,
          "metadata": {},
          "output_type": "execute_result"
        }
      ],
      "source": [
        "over_bagging = BaggingClassifier()\n",
        "over_bagging.fit(X_over, y_over)"
      ]
    },
    {
      "cell_type": "code",
      "execution_count": 133,
      "metadata": {
        "id": "t9Yd0jWcWGB6"
      },
      "outputs": [],
      "source": [
        "pred = over_bagging.predict(X_test)"
      ]
    },
    {
      "cell_type": "code",
      "execution_count": 134,
      "metadata": {
        "colab": {
          "base_uri": "https://localhost:8080/"
        },
        "id": "Eji2n2pGWGB6",
        "outputId": "0edd81a4-d2cf-4306-d742-6ba0c7c72904"
      },
      "outputs": [
        {
          "name": "stdout",
          "output_type": "stream",
          "text": [
            "[[2844   53]\n",
            " [  81  516]]\n"
          ]
        }
      ],
      "source": [
        "conf = confusion_matrix(y_test, pred)\n",
        "print(conf)"
      ]
    },
    {
      "cell_type": "code",
      "execution_count": 135,
      "metadata": {
        "id": "hCusvbU8WGB6"
      },
      "outputs": [],
      "source": [
        "true_negative_rate = conf[0][0]/(conf[0][0]+conf[0][1])\n",
        "true_positive_rate = conf[1][1]/(conf[1][1]+conf[1][0])\n",
        "g_mean_obag = math.sqrt(true_positive_rate*true_negative_rate)"
      ]
    },
    {
      "cell_type": "code",
      "execution_count": 136,
      "metadata": {
        "id": "tUzb-M45WGB7"
      },
      "outputs": [],
      "source": [
        "false_positive_rate = conf[0][1]/(conf[0][1]+conf[0][0])\n",
        "balance_obag = 1 - math.sqrt((true_positive_rate)**2 + (1-false_positive_rate)**2)/math.sqrt(2)\n",
        "f1_obag = f1_score(y_test, pred)"
      ]
    },
    {
      "cell_type": "code",
      "execution_count": 137,
      "metadata": {
        "colab": {
          "base_uri": "https://localhost:8080/"
        },
        "id": "Cx3-NiNXWGB7",
        "outputId": "9ebe3ed2-301a-44fc-82bf-eee75ae870a1"
      },
      "outputs": [
        {
          "name": "stdout",
          "output_type": "stream",
          "text": [
            "g-mean =  0.9211454975771783\n",
            "Balance =  0.07512244973733051\n"
          ]
        }
      ],
      "source": [
        "print(\"g-mean = \",g_mean_obag)\n",
        "print(\"Balance = \",balance_obag)"
      ]
    },
    {
      "cell_type": "markdown",
      "metadata": {
        "id": "pkRaXA7DU8oe"
      },
      "source": [
        "## Results"
      ]
    },
    {
      "cell_type": "code",
      "execution_count": 138,
      "metadata": {
        "id": "kKedNOEnVBAJ"
      },
      "outputs": [],
      "source": [
        "models = [\"Decision Tree\",\"Bagging\", \"AdaBoost\", \"Easy Ensemble\",\"RusBoost\",\"Smote Boost\",\"Under Bagging\", \"Over Bagging\"]\n",
        "g_mean_score = [g_mean_dec,g_mean_bag,g_mean_ada,g_mean_ez,g_mean_rus,g_mean_smb,g_mean_ubag,g_mean_obag]\n",
        "f1_score = [f1_dec,f1_bag,f1_ada,f1_ez,f1_rus,f1_smb,f1_ubag,f1_obag]"
      ]
    },
    {
      "cell_type": "code",
      "execution_count": 139,
      "metadata": {
        "id": "X0_Ad7WbWbJQ"
      },
      "outputs": [],
      "source": [
        "result_data = {\n",
        "    'Models': models,\n",
        "    'g-mean': g_mean_score,\n",
        "    'F1_score': f1_score\n",
        "}\n",
        "result_df = pd.DataFrame(result_data)"
      ]
    },
    {
      "cell_type": "code",
      "execution_count": 140,
      "metadata": {
        "colab": {
          "base_uri": "https://localhost:8080/",
          "height": 269
        },
        "id": "JYYgNAKzYCQc",
        "outputId": "12a3fbb6-1480-424d-85aa-3ef2d1ff596e"
      },
      "outputs": [
        {
          "data": {
            "text/html": [
              "<div>\n",
              "<style scoped>\n",
              "    .dataframe tbody tr th:only-of-type {\n",
              "        vertical-align: middle;\n",
              "    }\n",
              "\n",
              "    .dataframe tbody tr th {\n",
              "        vertical-align: top;\n",
              "    }\n",
              "\n",
              "    .dataframe thead th {\n",
              "        text-align: right;\n",
              "    }\n",
              "</style>\n",
              "<table border=\"1\" class=\"dataframe\">\n",
              "  <thead>\n",
              "    <tr style=\"text-align: right;\">\n",
              "      <th></th>\n",
              "      <th>Models</th>\n",
              "      <th>g-mean</th>\n",
              "      <th>F1_score</th>\n",
              "    </tr>\n",
              "  </thead>\n",
              "  <tbody>\n",
              "    <tr>\n",
              "      <th>0</th>\n",
              "      <td>Decision Tree</td>\n",
              "      <td>0.915663</td>\n",
              "      <td>0.851518</td>\n",
              "    </tr>\n",
              "    <tr>\n",
              "      <th>1</th>\n",
              "      <td>Bagging</td>\n",
              "      <td>0.918186</td>\n",
              "      <td>0.890830</td>\n",
              "    </tr>\n",
              "    <tr>\n",
              "      <th>2</th>\n",
              "      <td>AdaBoost</td>\n",
              "      <td>0.865817</td>\n",
              "      <td>0.820467</td>\n",
              "    </tr>\n",
              "    <tr>\n",
              "      <th>3</th>\n",
              "      <td>Easy Ensemble</td>\n",
              "      <td>0.891907</td>\n",
              "      <td>0.740586</td>\n",
              "    </tr>\n",
              "    <tr>\n",
              "      <th>4</th>\n",
              "      <td>RusBoost</td>\n",
              "      <td>0.906828</td>\n",
              "      <td>0.828364</td>\n",
              "    </tr>\n",
              "    <tr>\n",
              "      <th>5</th>\n",
              "      <td>Smote Boost</td>\n",
              "      <td>0.891907</td>\n",
              "      <td>0.740586</td>\n",
              "    </tr>\n",
              "    <tr>\n",
              "      <th>6</th>\n",
              "      <td>Under Bagging</td>\n",
              "      <td>0.928717</td>\n",
              "      <td>0.870704</td>\n",
              "    </tr>\n",
              "    <tr>\n",
              "      <th>7</th>\n",
              "      <td>Over Bagging</td>\n",
              "      <td>0.921145</td>\n",
              "      <td>0.885077</td>\n",
              "    </tr>\n",
              "  </tbody>\n",
              "</table>\n",
              "</div>"
            ],
            "text/plain": [
              "          Models    g-mean  F1_score\n",
              "0  Decision Tree  0.915663  0.851518\n",
              "1        Bagging  0.918186  0.890830\n",
              "2       AdaBoost  0.865817  0.820467\n",
              "3  Easy Ensemble  0.891907  0.740586\n",
              "4       RusBoost  0.906828  0.828364\n",
              "5    Smote Boost  0.891907  0.740586\n",
              "6  Under Bagging  0.928717  0.870704\n",
              "7   Over Bagging  0.921145  0.885077"
            ]
          },
          "execution_count": 140,
          "metadata": {},
          "output_type": "execute_result"
        }
      ],
      "source": [
        "result_df"
      ]
    }
  ],
  "metadata": {
    "colab": {
      "name": "ECIP.ipynb",
      "provenance": []
    },
    "interpreter": {
      "hash": "5ad06826974dc060fa37eead2112af9e641fe3b133a4323218f615d88ba76b28"
    },
    "kernelspec": {
      "display_name": "Python 3.7.10 64-bit ('mlenv': conda)",
      "language": "python",
      "name": "python3"
    },
    "language_info": {
      "codemirror_mode": {
        "name": "ipython",
        "version": 3
      },
      "file_extension": ".py",
      "mimetype": "text/x-python",
      "name": "python",
      "nbconvert_exporter": "python",
      "pygments_lexer": "ipython3",
      "version": "3.7.10"
    },
    "orig_nbformat": 4
  },
  "nbformat": 4,
  "nbformat_minor": 0
}
