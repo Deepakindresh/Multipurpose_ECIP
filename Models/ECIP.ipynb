{
  "cells": [
    {
      "cell_type": "markdown",
      "metadata": {
        "id": "RYjkKmJm4pfd"
      },
      "source": [
        "# ECIP Models for Software Defect Prediction Dataset"
      ]
    },
    {
      "cell_type": "markdown",
      "metadata": {
        "id": "8f9NBQgF4lPl"
      },
      "source": [
        "## Import"
      ]
    },
    {
      "cell_type": "code",
      "execution_count": 1,
      "metadata": {
        "id": "Bjl35YxY0kaq"
      },
      "outputs": [],
      "source": [
        "from imblearn.over_sampling import RandomOverSampler\n",
        "from imblearn.over_sampling import SMOTE\n",
        "from imblearn.under_sampling import RandomUnderSampler\n",
        "from sklearn.preprocessing import LabelEncoder\n",
        "from sklearn.model_selection import train_test_split\n",
        "from sklearn.metrics import accuracy_score,f1_score, confusion_matrix\n",
        "import pandas as pd\n",
        "import numpy as np\n",
        "from collections import Counter\n",
        "import random\n",
        "from sklearn import tree\n",
        "from sklearn.linear_model import LogisticRegression\n",
        "from sklearn.ensemble import RandomForestClassifier,BaggingClassifier,AdaBoostClassifier\n",
        "from imblearn.ensemble import EasyEnsembleClassifier\n",
        "\n",
        "import math\n"
      ]
    },
    {
      "cell_type": "code",
      "execution_count": 2,
      "metadata": {
        "colab": {
          "base_uri": "https://localhost:8080/"
        },
        "id": "0Qjjfwxv0kax",
        "outputId": "2d94201c-299c-488e-a0cc-a28be0c3b460"
      },
      "outputs": [
        {
          "data": {
            "text/html": [
              "<div>\n",
              "<style scoped>\n",
              "    .dataframe tbody tr th:only-of-type {\n",
              "        vertical-align: middle;\n",
              "    }\n",
              "\n",
              "    .dataframe tbody tr th {\n",
              "        vertical-align: top;\n",
              "    }\n",
              "\n",
              "    .dataframe thead th {\n",
              "        text-align: right;\n",
              "    }\n",
              "</style>\n",
              "<table border=\"1\" class=\"dataframe\">\n",
              "  <thead>\n",
              "    <tr style=\"text-align: right;\">\n",
              "      <th></th>\n",
              "      <th>loc</th>\n",
              "      <th>v(g)</th>\n",
              "      <th>ev(g)</th>\n",
              "      <th>iv(g)</th>\n",
              "      <th>n</th>\n",
              "      <th>v</th>\n",
              "      <th>l</th>\n",
              "      <th>d</th>\n",
              "      <th>i</th>\n",
              "      <th>e</th>\n",
              "      <th>...</th>\n",
              "      <th>lOCode</th>\n",
              "      <th>lOComment</th>\n",
              "      <th>lOBlank</th>\n",
              "      <th>locCodeAndComment</th>\n",
              "      <th>uniq_Op</th>\n",
              "      <th>uniq_Opnd</th>\n",
              "      <th>total_Op</th>\n",
              "      <th>total_Opnd</th>\n",
              "      <th>branchCount</th>\n",
              "      <th>defects</th>\n",
              "    </tr>\n",
              "  </thead>\n",
              "  <tbody>\n",
              "    <tr>\n",
              "      <th>0</th>\n",
              "      <td>1.1</td>\n",
              "      <td>1.4</td>\n",
              "      <td>1.4</td>\n",
              "      <td>1.4</td>\n",
              "      <td>1.3</td>\n",
              "      <td>1.30</td>\n",
              "      <td>1.30</td>\n",
              "      <td>1.30</td>\n",
              "      <td>1.30</td>\n",
              "      <td>1.30</td>\n",
              "      <td>...</td>\n",
              "      <td>2</td>\n",
              "      <td>2</td>\n",
              "      <td>2</td>\n",
              "      <td>2</td>\n",
              "      <td>1.2</td>\n",
              "      <td>1.2</td>\n",
              "      <td>1.2</td>\n",
              "      <td>1.2</td>\n",
              "      <td>1.4</td>\n",
              "      <td>False</td>\n",
              "    </tr>\n",
              "    <tr>\n",
              "      <th>1</th>\n",
              "      <td>1.0</td>\n",
              "      <td>1.0</td>\n",
              "      <td>1.0</td>\n",
              "      <td>1.0</td>\n",
              "      <td>1.0</td>\n",
              "      <td>1.00</td>\n",
              "      <td>1.00</td>\n",
              "      <td>1.00</td>\n",
              "      <td>1.00</td>\n",
              "      <td>1.00</td>\n",
              "      <td>...</td>\n",
              "      <td>1</td>\n",
              "      <td>1</td>\n",
              "      <td>1</td>\n",
              "      <td>1</td>\n",
              "      <td>1</td>\n",
              "      <td>1</td>\n",
              "      <td>1</td>\n",
              "      <td>1</td>\n",
              "      <td>1</td>\n",
              "      <td>True</td>\n",
              "    </tr>\n",
              "    <tr>\n",
              "      <th>2</th>\n",
              "      <td>72.0</td>\n",
              "      <td>7.0</td>\n",
              "      <td>1.0</td>\n",
              "      <td>6.0</td>\n",
              "      <td>198.0</td>\n",
              "      <td>1134.13</td>\n",
              "      <td>0.05</td>\n",
              "      <td>20.31</td>\n",
              "      <td>55.85</td>\n",
              "      <td>23029.10</td>\n",
              "      <td>...</td>\n",
              "      <td>51</td>\n",
              "      <td>10</td>\n",
              "      <td>8</td>\n",
              "      <td>1</td>\n",
              "      <td>17</td>\n",
              "      <td>36</td>\n",
              "      <td>112</td>\n",
              "      <td>86</td>\n",
              "      <td>13</td>\n",
              "      <td>True</td>\n",
              "    </tr>\n",
              "    <tr>\n",
              "      <th>3</th>\n",
              "      <td>190.0</td>\n",
              "      <td>3.0</td>\n",
              "      <td>1.0</td>\n",
              "      <td>3.0</td>\n",
              "      <td>600.0</td>\n",
              "      <td>4348.76</td>\n",
              "      <td>0.06</td>\n",
              "      <td>17.06</td>\n",
              "      <td>254.87</td>\n",
              "      <td>74202.67</td>\n",
              "      <td>...</td>\n",
              "      <td>129</td>\n",
              "      <td>29</td>\n",
              "      <td>28</td>\n",
              "      <td>2</td>\n",
              "      <td>17</td>\n",
              "      <td>135</td>\n",
              "      <td>329</td>\n",
              "      <td>271</td>\n",
              "      <td>5</td>\n",
              "      <td>True</td>\n",
              "    </tr>\n",
              "    <tr>\n",
              "      <th>4</th>\n",
              "      <td>37.0</td>\n",
              "      <td>4.0</td>\n",
              "      <td>1.0</td>\n",
              "      <td>4.0</td>\n",
              "      <td>126.0</td>\n",
              "      <td>599.12</td>\n",
              "      <td>0.06</td>\n",
              "      <td>17.19</td>\n",
              "      <td>34.86</td>\n",
              "      <td>10297.30</td>\n",
              "      <td>...</td>\n",
              "      <td>28</td>\n",
              "      <td>1</td>\n",
              "      <td>6</td>\n",
              "      <td>0</td>\n",
              "      <td>11</td>\n",
              "      <td>16</td>\n",
              "      <td>76</td>\n",
              "      <td>50</td>\n",
              "      <td>7</td>\n",
              "      <td>True</td>\n",
              "    </tr>\n",
              "  </tbody>\n",
              "</table>\n",
              "<p>5 rows × 22 columns</p>\n",
              "</div>"
            ],
            "text/plain": [
              "     loc  v(g)  ev(g)  iv(g)      n        v     l      d       i         e  \\\n",
              "0    1.1   1.4    1.4    1.4    1.3     1.30  1.30   1.30    1.30      1.30   \n",
              "1    1.0   1.0    1.0    1.0    1.0     1.00  1.00   1.00    1.00      1.00   \n",
              "2   72.0   7.0    1.0    6.0  198.0  1134.13  0.05  20.31   55.85  23029.10   \n",
              "3  190.0   3.0    1.0    3.0  600.0  4348.76  0.06  17.06  254.87  74202.67   \n",
              "4   37.0   4.0    1.0    4.0  126.0   599.12  0.06  17.19   34.86  10297.30   \n",
              "\n",
              "   ...  lOCode  lOComment  lOBlank  locCodeAndComment  uniq_Op  uniq_Opnd  \\\n",
              "0  ...       2          2        2                  2      1.2        1.2   \n",
              "1  ...       1          1        1                  1        1          1   \n",
              "2  ...      51         10        8                  1       17         36   \n",
              "3  ...     129         29       28                  2       17        135   \n",
              "4  ...      28          1        6                  0       11         16   \n",
              "\n",
              "  total_Op total_Opnd branchCount defects  \n",
              "0      1.2        1.2         1.4   False  \n",
              "1        1          1           1    True  \n",
              "2      112         86          13    True  \n",
              "3      329        271           5    True  \n",
              "4       76         50           7    True  \n",
              "\n",
              "[5 rows x 22 columns]"
            ]
          },
          "execution_count": 2,
          "metadata": {},
          "output_type": "execute_result"
        }
      ],
      "source": [
        "df = pd.read_csv(\"./nasa.csv\")\n",
        "df.head()"
      ]
    },
    {
      "cell_type": "markdown",
      "metadata": {
        "id": "n_r5dgcm5C-9"
      },
      "source": [
        "## Data Preprocessing"
      ]
    },
    {
      "cell_type": "code",
      "execution_count": 3,
      "metadata": {
        "colab": {
          "base_uri": "https://localhost:8080/",
          "height": 602
        },
        "id": "VAog2nDl0ka0",
        "outputId": "992eb868-c8e7-4e33-d3a1-c1964189c2d3"
      },
      "outputs": [
        {
          "data": {
            "text/html": [
              "<div>\n",
              "<style scoped>\n",
              "    .dataframe tbody tr th:only-of-type {\n",
              "        vertical-align: middle;\n",
              "    }\n",
              "\n",
              "    .dataframe tbody tr th {\n",
              "        vertical-align: top;\n",
              "    }\n",
              "\n",
              "    .dataframe thead th {\n",
              "        text-align: right;\n",
              "    }\n",
              "</style>\n",
              "<table border=\"1\" class=\"dataframe\">\n",
              "  <thead>\n",
              "    <tr style=\"text-align: right;\">\n",
              "      <th></th>\n",
              "      <th>loc</th>\n",
              "      <th>v(g)</th>\n",
              "      <th>ev(g)</th>\n",
              "      <th>iv(g)</th>\n",
              "      <th>n</th>\n",
              "      <th>v</th>\n",
              "      <th>l</th>\n",
              "      <th>d</th>\n",
              "      <th>i</th>\n",
              "      <th>e</th>\n",
              "      <th>b</th>\n",
              "      <th>t</th>\n",
              "      <th>lOCode</th>\n",
              "      <th>lOComment</th>\n",
              "      <th>lOBlank</th>\n",
              "      <th>locCodeAndComment</th>\n",
              "      <th>defects</th>\n",
              "    </tr>\n",
              "  </thead>\n",
              "  <tbody>\n",
              "    <tr>\n",
              "      <th>loc</th>\n",
              "      <td>1.000000</td>\n",
              "      <td>0.817757</td>\n",
              "      <td>0.517551</td>\n",
              "      <td>0.784057</td>\n",
              "      <td>0.881795</td>\n",
              "      <td>0.900293</td>\n",
              "      <td>-0.286587</td>\n",
              "      <td>0.689543</td>\n",
              "      <td>0.499946</td>\n",
              "      <td>0.750564</td>\n",
              "      <td>0.899965</td>\n",
              "      <td>0.750564</td>\n",
              "      <td>0.921918</td>\n",
              "      <td>0.612858</td>\n",
              "      <td>0.803573</td>\n",
              "      <td>0.278119</td>\n",
              "      <td>0.245388</td>\n",
              "    </tr>\n",
              "    <tr>\n",
              "      <th>v(g)</th>\n",
              "      <td>0.817757</td>\n",
              "      <td>1.000000</td>\n",
              "      <td>0.701710</td>\n",
              "      <td>0.859590</td>\n",
              "      <td>0.730781</td>\n",
              "      <td>0.759881</td>\n",
              "      <td>-0.252902</td>\n",
              "      <td>0.669057</td>\n",
              "      <td>0.303031</td>\n",
              "      <td>0.709501</td>\n",
              "      <td>0.759635</td>\n",
              "      <td>0.709501</td>\n",
              "      <td>0.799915</td>\n",
              "      <td>0.384506</td>\n",
              "      <td>0.538366</td>\n",
              "      <td>0.209811</td>\n",
              "      <td>0.208644</td>\n",
              "    </tr>\n",
              "    <tr>\n",
              "      <th>ev(g)</th>\n",
              "      <td>0.517551</td>\n",
              "      <td>0.701710</td>\n",
              "      <td>1.000000</td>\n",
              "      <td>0.639574</td>\n",
              "      <td>0.465992</td>\n",
              "      <td>0.445902</td>\n",
              "      <td>-0.233982</td>\n",
              "      <td>0.434009</td>\n",
              "      <td>0.213211</td>\n",
              "      <td>0.315538</td>\n",
              "      <td>0.445693</td>\n",
              "      <td>0.315538</td>\n",
              "      <td>0.454604</td>\n",
              "      <td>0.294208</td>\n",
              "      <td>0.338243</td>\n",
              "      <td>0.190911</td>\n",
              "      <td>0.172973</td>\n",
              "    </tr>\n",
              "    <tr>\n",
              "      <th>iv(g)</th>\n",
              "      <td>0.784057</td>\n",
              "      <td>0.859590</td>\n",
              "      <td>0.639574</td>\n",
              "      <td>1.000000</td>\n",
              "      <td>0.702415</td>\n",
              "      <td>0.743193</td>\n",
              "      <td>-0.197736</td>\n",
              "      <td>0.575369</td>\n",
              "      <td>0.309717</td>\n",
              "      <td>0.757702</td>\n",
              "      <td>0.743013</td>\n",
              "      <td>0.757702</td>\n",
              "      <td>0.775873</td>\n",
              "      <td>0.351583</td>\n",
              "      <td>0.541296</td>\n",
              "      <td>0.207028</td>\n",
              "      <td>0.181984</td>\n",
              "    </tr>\n",
              "    <tr>\n",
              "      <th>n</th>\n",
              "      <td>0.881795</td>\n",
              "      <td>0.730781</td>\n",
              "      <td>0.465992</td>\n",
              "      <td>0.702415</td>\n",
              "      <td>1.000000</td>\n",
              "      <td>0.984276</td>\n",
              "      <td>-0.240749</td>\n",
              "      <td>0.808113</td>\n",
              "      <td>0.651209</td>\n",
              "      <td>0.716536</td>\n",
              "      <td>0.983938</td>\n",
              "      <td>0.716536</td>\n",
              "      <td>0.944383</td>\n",
              "      <td>0.596374</td>\n",
              "      <td>0.798561</td>\n",
              "      <td>0.284391</td>\n",
              "      <td>0.204143</td>\n",
              "    </tr>\n",
              "    <tr>\n",
              "      <th>v</th>\n",
              "      <td>0.900293</td>\n",
              "      <td>0.759881</td>\n",
              "      <td>0.445902</td>\n",
              "      <td>0.743193</td>\n",
              "      <td>0.984276</td>\n",
              "      <td>1.000000</td>\n",
              "      <td>-0.198104</td>\n",
              "      <td>0.752206</td>\n",
              "      <td>0.598743</td>\n",
              "      <td>0.800000</td>\n",
              "      <td>0.999696</td>\n",
              "      <td>0.800000</td>\n",
              "      <td>0.962078</td>\n",
              "      <td>0.576844</td>\n",
              "      <td>0.792330</td>\n",
              "      <td>0.266537</td>\n",
              "      <td>0.189136</td>\n",
              "    </tr>\n",
              "    <tr>\n",
              "      <th>l</th>\n",
              "      <td>-0.286587</td>\n",
              "      <td>-0.252902</td>\n",
              "      <td>-0.233982</td>\n",
              "      <td>-0.197736</td>\n",
              "      <td>-0.240749</td>\n",
              "      <td>-0.198104</td>\n",
              "      <td>1.000000</td>\n",
              "      <td>-0.347215</td>\n",
              "      <td>-0.166801</td>\n",
              "      <td>-0.062026</td>\n",
              "      <td>-0.196147</td>\n",
              "      <td>-0.062026</td>\n",
              "      <td>-0.218373</td>\n",
              "      <td>-0.165885</td>\n",
              "      <td>-0.223670</td>\n",
              "      <td>-0.106117</td>\n",
              "      <td>-0.164917</td>\n",
              "    </tr>\n",
              "    <tr>\n",
              "      <th>d</th>\n",
              "      <td>0.689543</td>\n",
              "      <td>0.669057</td>\n",
              "      <td>0.434009</td>\n",
              "      <td>0.575369</td>\n",
              "      <td>0.808113</td>\n",
              "      <td>0.752206</td>\n",
              "      <td>-0.347215</td>\n",
              "      <td>1.000000</td>\n",
              "      <td>0.398162</td>\n",
              "      <td>0.574298</td>\n",
              "      <td>0.751835</td>\n",
              "      <td>0.574298</td>\n",
              "      <td>0.768188</td>\n",
              "      <td>0.502121</td>\n",
              "      <td>0.637211</td>\n",
              "      <td>0.253793</td>\n",
              "      <td>0.169629</td>\n",
              "    </tr>\n",
              "    <tr>\n",
              "      <th>i</th>\n",
              "      <td>0.499946</td>\n",
              "      <td>0.303031</td>\n",
              "      <td>0.213211</td>\n",
              "      <td>0.309717</td>\n",
              "      <td>0.651209</td>\n",
              "      <td>0.598743</td>\n",
              "      <td>-0.166801</td>\n",
              "      <td>0.398162</td>\n",
              "      <td>1.000000</td>\n",
              "      <td>0.209268</td>\n",
              "      <td>0.598341</td>\n",
              "      <td>0.209268</td>\n",
              "      <td>0.563920</td>\n",
              "      <td>0.392551</td>\n",
              "      <td>0.572352</td>\n",
              "      <td>0.217810</td>\n",
              "      <td>0.192831</td>\n",
              "    </tr>\n",
              "    <tr>\n",
              "      <th>e</th>\n",
              "      <td>0.750564</td>\n",
              "      <td>0.709501</td>\n",
              "      <td>0.315538</td>\n",
              "      <td>0.757702</td>\n",
              "      <td>0.716536</td>\n",
              "      <td>0.800000</td>\n",
              "      <td>-0.062026</td>\n",
              "      <td>0.574298</td>\n",
              "      <td>0.209268</td>\n",
              "      <td>1.000000</td>\n",
              "      <td>0.799868</td>\n",
              "      <td>1.000000</td>\n",
              "      <td>0.809070</td>\n",
              "      <td>0.384806</td>\n",
              "      <td>0.600649</td>\n",
              "      <td>0.148693</td>\n",
              "      <td>0.086036</td>\n",
              "    </tr>\n",
              "    <tr>\n",
              "      <th>b</th>\n",
              "      <td>0.899965</td>\n",
              "      <td>0.759635</td>\n",
              "      <td>0.445693</td>\n",
              "      <td>0.743013</td>\n",
              "      <td>0.983938</td>\n",
              "      <td>0.999696</td>\n",
              "      <td>-0.196147</td>\n",
              "      <td>0.751835</td>\n",
              "      <td>0.598341</td>\n",
              "      <td>0.799868</td>\n",
              "      <td>1.000000</td>\n",
              "      <td>0.799868</td>\n",
              "      <td>0.961779</td>\n",
              "      <td>0.576678</td>\n",
              "      <td>0.792081</td>\n",
              "      <td>0.266720</td>\n",
              "      <td>0.189342</td>\n",
              "    </tr>\n",
              "    <tr>\n",
              "      <th>t</th>\n",
              "      <td>0.750564</td>\n",
              "      <td>0.709501</td>\n",
              "      <td>0.315538</td>\n",
              "      <td>0.757702</td>\n",
              "      <td>0.716536</td>\n",
              "      <td>0.800000</td>\n",
              "      <td>-0.062026</td>\n",
              "      <td>0.574298</td>\n",
              "      <td>0.209268</td>\n",
              "      <td>1.000000</td>\n",
              "      <td>0.799868</td>\n",
              "      <td>1.000000</td>\n",
              "      <td>0.809070</td>\n",
              "      <td>0.384806</td>\n",
              "      <td>0.600649</td>\n",
              "      <td>0.148693</td>\n",
              "      <td>0.086036</td>\n",
              "    </tr>\n",
              "    <tr>\n",
              "      <th>lOCode</th>\n",
              "      <td>0.921918</td>\n",
              "      <td>0.799915</td>\n",
              "      <td>0.454604</td>\n",
              "      <td>0.775873</td>\n",
              "      <td>0.944383</td>\n",
              "      <td>0.962078</td>\n",
              "      <td>-0.218373</td>\n",
              "      <td>0.768188</td>\n",
              "      <td>0.563920</td>\n",
              "      <td>0.809070</td>\n",
              "      <td>0.961779</td>\n",
              "      <td>0.809070</td>\n",
              "      <td>1.000000</td>\n",
              "      <td>0.553121</td>\n",
              "      <td>0.807319</td>\n",
              "      <td>0.259133</td>\n",
              "      <td>0.195897</td>\n",
              "    </tr>\n",
              "    <tr>\n",
              "      <th>lOComment</th>\n",
              "      <td>0.612858</td>\n",
              "      <td>0.384506</td>\n",
              "      <td>0.294208</td>\n",
              "      <td>0.351583</td>\n",
              "      <td>0.596374</td>\n",
              "      <td>0.576844</td>\n",
              "      <td>-0.165885</td>\n",
              "      <td>0.502121</td>\n",
              "      <td>0.392551</td>\n",
              "      <td>0.384806</td>\n",
              "      <td>0.576678</td>\n",
              "      <td>0.384806</td>\n",
              "      <td>0.553121</td>\n",
              "      <td>1.000000</td>\n",
              "      <td>0.620149</td>\n",
              "      <td>0.262013</td>\n",
              "      <td>0.160887</td>\n",
              "    </tr>\n",
              "    <tr>\n",
              "      <th>lOBlank</th>\n",
              "      <td>0.803573</td>\n",
              "      <td>0.538366</td>\n",
              "      <td>0.338243</td>\n",
              "      <td>0.541296</td>\n",
              "      <td>0.798561</td>\n",
              "      <td>0.792330</td>\n",
              "      <td>-0.223670</td>\n",
              "      <td>0.637211</td>\n",
              "      <td>0.572352</td>\n",
              "      <td>0.600649</td>\n",
              "      <td>0.792081</td>\n",
              "      <td>0.600649</td>\n",
              "      <td>0.807319</td>\n",
              "      <td>0.620149</td>\n",
              "      <td>1.000000</td>\n",
              "      <td>0.270338</td>\n",
              "      <td>0.199644</td>\n",
              "    </tr>\n",
              "    <tr>\n",
              "      <th>locCodeAndComment</th>\n",
              "      <td>0.278119</td>\n",
              "      <td>0.209811</td>\n",
              "      <td>0.190911</td>\n",
              "      <td>0.207028</td>\n",
              "      <td>0.284391</td>\n",
              "      <td>0.266537</td>\n",
              "      <td>-0.106117</td>\n",
              "      <td>0.253793</td>\n",
              "      <td>0.217810</td>\n",
              "      <td>0.148693</td>\n",
              "      <td>0.266720</td>\n",
              "      <td>0.148693</td>\n",
              "      <td>0.259133</td>\n",
              "      <td>0.262013</td>\n",
              "      <td>0.270338</td>\n",
              "      <td>1.000000</td>\n",
              "      <td>0.117891</td>\n",
              "    </tr>\n",
              "    <tr>\n",
              "      <th>defects</th>\n",
              "      <td>0.245388</td>\n",
              "      <td>0.208644</td>\n",
              "      <td>0.172973</td>\n",
              "      <td>0.181984</td>\n",
              "      <td>0.204143</td>\n",
              "      <td>0.189136</td>\n",
              "      <td>-0.164917</td>\n",
              "      <td>0.169629</td>\n",
              "      <td>0.192831</td>\n",
              "      <td>0.086036</td>\n",
              "      <td>0.189342</td>\n",
              "      <td>0.086036</td>\n",
              "      <td>0.195897</td>\n",
              "      <td>0.160887</td>\n",
              "      <td>0.199644</td>\n",
              "      <td>0.117891</td>\n",
              "      <td>1.000000</td>\n",
              "    </tr>\n",
              "  </tbody>\n",
              "</table>\n",
              "</div>"
            ],
            "text/plain": [
              "                        loc      v(g)     ev(g)     iv(g)         n         v  \\\n",
              "loc                1.000000  0.817757  0.517551  0.784057  0.881795  0.900293   \n",
              "v(g)               0.817757  1.000000  0.701710  0.859590  0.730781  0.759881   \n",
              "ev(g)              0.517551  0.701710  1.000000  0.639574  0.465992  0.445902   \n",
              "iv(g)              0.784057  0.859590  0.639574  1.000000  0.702415  0.743193   \n",
              "n                  0.881795  0.730781  0.465992  0.702415  1.000000  0.984276   \n",
              "v                  0.900293  0.759881  0.445902  0.743193  0.984276  1.000000   \n",
              "l                 -0.286587 -0.252902 -0.233982 -0.197736 -0.240749 -0.198104   \n",
              "d                  0.689543  0.669057  0.434009  0.575369  0.808113  0.752206   \n",
              "i                  0.499946  0.303031  0.213211  0.309717  0.651209  0.598743   \n",
              "e                  0.750564  0.709501  0.315538  0.757702  0.716536  0.800000   \n",
              "b                  0.899965  0.759635  0.445693  0.743013  0.983938  0.999696   \n",
              "t                  0.750564  0.709501  0.315538  0.757702  0.716536  0.800000   \n",
              "lOCode             0.921918  0.799915  0.454604  0.775873  0.944383  0.962078   \n",
              "lOComment          0.612858  0.384506  0.294208  0.351583  0.596374  0.576844   \n",
              "lOBlank            0.803573  0.538366  0.338243  0.541296  0.798561  0.792330   \n",
              "locCodeAndComment  0.278119  0.209811  0.190911  0.207028  0.284391  0.266537   \n",
              "defects            0.245388  0.208644  0.172973  0.181984  0.204143  0.189136   \n",
              "\n",
              "                          l         d         i         e         b         t  \\\n",
              "loc               -0.286587  0.689543  0.499946  0.750564  0.899965  0.750564   \n",
              "v(g)              -0.252902  0.669057  0.303031  0.709501  0.759635  0.709501   \n",
              "ev(g)             -0.233982  0.434009  0.213211  0.315538  0.445693  0.315538   \n",
              "iv(g)             -0.197736  0.575369  0.309717  0.757702  0.743013  0.757702   \n",
              "n                 -0.240749  0.808113  0.651209  0.716536  0.983938  0.716536   \n",
              "v                 -0.198104  0.752206  0.598743  0.800000  0.999696  0.800000   \n",
              "l                  1.000000 -0.347215 -0.166801 -0.062026 -0.196147 -0.062026   \n",
              "d                 -0.347215  1.000000  0.398162  0.574298  0.751835  0.574298   \n",
              "i                 -0.166801  0.398162  1.000000  0.209268  0.598341  0.209268   \n",
              "e                 -0.062026  0.574298  0.209268  1.000000  0.799868  1.000000   \n",
              "b                 -0.196147  0.751835  0.598341  0.799868  1.000000  0.799868   \n",
              "t                 -0.062026  0.574298  0.209268  1.000000  0.799868  1.000000   \n",
              "lOCode            -0.218373  0.768188  0.563920  0.809070  0.961779  0.809070   \n",
              "lOComment         -0.165885  0.502121  0.392551  0.384806  0.576678  0.384806   \n",
              "lOBlank           -0.223670  0.637211  0.572352  0.600649  0.792081  0.600649   \n",
              "locCodeAndComment -0.106117  0.253793  0.217810  0.148693  0.266720  0.148693   \n",
              "defects           -0.164917  0.169629  0.192831  0.086036  0.189342  0.086036   \n",
              "\n",
              "                     lOCode  lOComment   lOBlank  locCodeAndComment   defects  \n",
              "loc                0.921918   0.612858  0.803573           0.278119  0.245388  \n",
              "v(g)               0.799915   0.384506  0.538366           0.209811  0.208644  \n",
              "ev(g)              0.454604   0.294208  0.338243           0.190911  0.172973  \n",
              "iv(g)              0.775873   0.351583  0.541296           0.207028  0.181984  \n",
              "n                  0.944383   0.596374  0.798561           0.284391  0.204143  \n",
              "v                  0.962078   0.576844  0.792330           0.266537  0.189136  \n",
              "l                 -0.218373  -0.165885 -0.223670          -0.106117 -0.164917  \n",
              "d                  0.768188   0.502121  0.637211           0.253793  0.169629  \n",
              "i                  0.563920   0.392551  0.572352           0.217810  0.192831  \n",
              "e                  0.809070   0.384806  0.600649           0.148693  0.086036  \n",
              "b                  0.961779   0.576678  0.792081           0.266720  0.189342  \n",
              "t                  0.809070   0.384806  0.600649           0.148693  0.086036  \n",
              "lOCode             1.000000   0.553121  0.807319           0.259133  0.195897  \n",
              "lOComment          0.553121   1.000000  0.620149           0.262013  0.160887  \n",
              "lOBlank            0.807319   0.620149  1.000000           0.270338  0.199644  \n",
              "locCodeAndComment  0.259133   0.262013  0.270338           1.000000  0.117891  \n",
              "defects            0.195897   0.160887  0.199644           0.117891  1.000000  "
            ]
          },
          "execution_count": 3,
          "metadata": {},
          "output_type": "execute_result"
        }
      ],
      "source": [
        "df.corr()"
      ]
    },
    {
      "cell_type": "code",
      "execution_count": 4,
      "metadata": {
        "id": "jj8vFPWR0ka1"
      },
      "outputs": [],
      "source": [
        "for x in df:\n",
        "    df.drop(df.loc[df[x]=='?'].index, inplace=True)\n",
        "            "
      ]
    },
    {
      "cell_type": "code",
      "execution_count": 5,
      "metadata": {
        "colab": {
          "base_uri": "https://localhost:8080/"
        },
        "id": "nHn6TGEs0ka2",
        "outputId": "447ec93a-422c-45fb-f6d7-16d06226297a"
      },
      "outputs": [
        {
          "name": "stdout",
          "output_type": "stream",
          "text": [
            "Counter({False: 8777, True: 1019})\n"
          ]
        }
      ],
      "source": [
        "for i, row in df.iterrows():\n",
        "    if df.at[i,'defects'] == True:\n",
        "        a = random.choice([0,1])\n",
        "        if a==0:\n",
        "            df.drop(i, inplace=True)\n",
        "\n",
        "print(Counter(df[\"defects\"]))\n",
        "df[\"defects\"].replace({False: 0, True: 1}, inplace=True)"
      ]
    },
    {
      "cell_type": "code",
      "execution_count": 6,
      "metadata": {},
      "outputs": [
        {
          "data": {
            "text/plain": [
              "11.60988948387832"
            ]
          },
          "execution_count": 6,
          "metadata": {},
          "output_type": "execute_result"
        }
      ],
      "source": [
        "(Counter(df['defects'])[1]/Counter(df['defects'])[0])*100"
      ]
    },
    {
      "cell_type": "code",
      "execution_count": 8,
      "metadata": {
        "colab": {
          "base_uri": "https://localhost:8080/"
        },
        "id": "ChOmumuF0ka4",
        "outputId": "d2ba702c-2ffc-4b1f-d7d3-4f14b7ddc62c"
      },
      "outputs": [
        {
          "name": "stdout",
          "output_type": "stream",
          "text": [
            "<class 'numpy.int64'>\n",
            "0\n"
          ]
        }
      ],
      "source": [
        "X = df.drop(columns=[\"defects\"])\n",
        "y = df.defects\n",
        "print(type(y[0]))\n",
        "print(y[0])"
      ]
    },
    {
      "cell_type": "code",
      "execution_count": 9,
      "metadata": {
        "id": "CFR1dkIX0ka4"
      },
      "outputs": [],
      "source": [
        "X_train, X_test, y_train, y_test = train_test_split(X, y, test_size=0.2, random_state=42)"
      ]
    },
    {
      "cell_type": "code",
      "execution_count": 10,
      "metadata": {
        "colab": {
          "base_uri": "https://localhost:8080/"
        },
        "id": "eRw695zU0ka5",
        "outputId": "764fdb1e-e70c-43fc-9c34-27034a274ec3"
      },
      "outputs": [
        {
          "name": "stdout",
          "output_type": "stream",
          "text": [
            "0    1752\n",
            "1     108\n",
            "Name: defects, dtype: int64\n",
            "0    7025\n",
            "1     414\n",
            "Name: defects, dtype: int64\n"
          ]
        }
      ],
      "source": [
        "print(y_test.value_counts())\n",
        "print(y_train.value_counts())"
      ]
    },
    {
      "cell_type": "markdown",
      "metadata": {
        "id": "P78XMq2M5eW3"
      },
      "source": [
        "## Data Resampling Techniques"
      ]
    },
    {
      "cell_type": "markdown",
      "metadata": {
        "id": "fdTYMvf16y-Z"
      },
      "source": [
        "Random Oversampling"
      ]
    },
    {
      "cell_type": "code",
      "execution_count": 11,
      "metadata": {
        "colab": {
          "base_uri": "https://localhost:8080/"
        },
        "id": "su7S5YrX0ka5",
        "outputId": "0c9bd533-8361-4df4-94da-9672ea09419d"
      },
      "outputs": [
        {
          "name": "stdout",
          "output_type": "stream",
          "text": [
            "Counter({0: 7025, 1: 3512})\n"
          ]
        }
      ],
      "source": [
        "oversampler = RandomOverSampler(sampling_strategy=.5)\n",
        "X_over, y_over = oversampler.fit_resample(X_train, y_train)\n",
        "print(Counter(y_over))"
      ]
    },
    {
      "cell_type": "markdown",
      "metadata": {
        "id": "taG6JCAm61Sa"
      },
      "source": [
        "Random Undersampling"
      ]
    },
    {
      "cell_type": "code",
      "execution_count": 12,
      "metadata": {
        "colab": {
          "base_uri": "https://localhost:8080/"
        },
        "id": "lX-lLmHi0ka6",
        "outputId": "b57b69d1-c825-45f6-9683-3521889e3b7c"
      },
      "outputs": [
        {
          "name": "stdout",
          "output_type": "stream",
          "text": [
            "Counter({0: 828, 1: 414})\n"
          ]
        }
      ],
      "source": [
        "undersampler = RandomUnderSampler(sampling_strategy=.5)\n",
        "X_under, y_under = undersampler.fit_resample(X_train, y_train)\n",
        "print(Counter(y_under))"
      ]
    },
    {
      "cell_type": "markdown",
      "metadata": {
        "id": "bpRTavtx63ov"
      },
      "source": [
        "Synthetic Minority Over Sampling"
      ]
    },
    {
      "cell_type": "code",
      "execution_count": 13,
      "metadata": {
        "id": "PRi1SWgC0ka6"
      },
      "outputs": [],
      "source": [
        "X_train_smote = np.asarray(X_train)\n",
        "y_train_smote = np.asarray(y_train)\n"
      ]
    },
    {
      "cell_type": "code",
      "execution_count": 14,
      "metadata": {
        "colab": {
          "base_uri": "https://localhost:8080/"
        },
        "id": "gD4yiSTs0ka7",
        "outputId": "402046e6-5cbc-4a90-e90d-c3023f0e7a1a"
      },
      "outputs": [
        {
          "name": "stdout",
          "output_type": "stream",
          "text": [
            "Counter({0: 7025, 1: 7025})\n"
          ]
        }
      ],
      "source": [
        "smotesampler = SMOTE()\n",
        "X_smote, y_smote = smotesampler.fit_resample(X_train_smote, y_train_smote)\n",
        "print(Counter(y_smote))"
      ]
    },
    {
      "cell_type": "markdown",
      "metadata": {
        "id": "Z-oJ8HH_0ka7"
      },
      "source": [
        "## Decision Tree"
      ]
    },
    {
      "cell_type": "code",
      "execution_count": 15,
      "metadata": {
        "id": "VYT7kzlY0ka9"
      },
      "outputs": [],
      "source": [
        "clf = tree.DecisionTreeClassifier()\n",
        "clf = clf.fit(X_train, y_train)"
      ]
    },
    {
      "cell_type": "code",
      "execution_count": 16,
      "metadata": {
        "id": "6vspvdmr0ka-"
      },
      "outputs": [],
      "source": [
        "pred = clf.predict(X_test)"
      ]
    },
    {
      "cell_type": "code",
      "execution_count": 17,
      "metadata": {
        "colab": {
          "base_uri": "https://localhost:8080/"
        },
        "id": "_9Szyz9ZSlt4",
        "outputId": "287cc3e8-ae00-4e87-9650-dcb539553a32"
      },
      "outputs": [
        {
          "name": "stdout",
          "output_type": "stream",
          "text": [
            "[[1651  101]\n",
            " [  90   18]]\n"
          ]
        }
      ],
      "source": [
        "conf = confusion_matrix(y_test, pred)\n",
        "print(conf)"
      ]
    },
    {
      "cell_type": "code",
      "execution_count": 18,
      "metadata": {
        "id": "rWY5zNX-Slt9"
      },
      "outputs": [],
      "source": [
        "true_negative_rate = conf[0][0]/(conf[0][0]+conf[0][1])\n",
        "true_positive_rate = conf[1][1]/(conf[1][1]+conf[1][0])\n",
        "g_mean_dec = math.sqrt(true_positive_rate*true_negative_rate)"
      ]
    },
    {
      "cell_type": "code",
      "execution_count": 19,
      "metadata": {
        "id": "5j7kQaZlSlt9"
      },
      "outputs": [],
      "source": [
        "f1_dec = f1_score(y_test, pred)"
      ]
    },
    {
      "cell_type": "code",
      "execution_count": 20,
      "metadata": {
        "colab": {
          "base_uri": "https://localhost:8080/"
        },
        "id": "SsNufMDhSlt9",
        "outputId": "63e04ed6-c231-490f-c7bb-426ae4477f61"
      },
      "outputs": [
        {
          "name": "stdout",
          "output_type": "stream",
          "text": [
            "g-mean =  0.39630619436943704\n",
            "F1-score =  0.15859030837004404\n"
          ]
        }
      ],
      "source": [
        "print(\"g-mean = \",g_mean_dec)\n",
        "print(\"F1-score = \",f1_dec)"
      ]
    },
    {
      "cell_type": "markdown",
      "metadata": {
        "id": "ijl-_xYg0ka_"
      },
      "source": [
        "## Bagging "
      ]
    },
    {
      "cell_type": "code",
      "execution_count": 21,
      "metadata": {
        "colab": {
          "base_uri": "https://localhost:8080/"
        },
        "id": "gvOG5NkP0kbA",
        "outputId": "39f655b4-2087-4206-aba4-1cecb590bb37"
      },
      "outputs": [
        {
          "data": {
            "text/plain": [
              "BaggingClassifier()"
            ]
          },
          "execution_count": 21,
          "metadata": {},
          "output_type": "execute_result"
        }
      ],
      "source": [
        "bag = BaggingClassifier()\n",
        "bag.fit(X_train, y_train)"
      ]
    },
    {
      "cell_type": "code",
      "execution_count": 22,
      "metadata": {
        "id": "0fOlADBD0kbA"
      },
      "outputs": [],
      "source": [
        "pred = bag.predict(X_test)"
      ]
    },
    {
      "cell_type": "code",
      "execution_count": 23,
      "metadata": {
        "colab": {
          "base_uri": "https://localhost:8080/"
        },
        "id": "4mvVep3r0kbB",
        "outputId": "3a30eaad-a6b5-4497-8289-4123f3f1674d"
      },
      "outputs": [
        {
          "name": "stdout",
          "output_type": "stream",
          "text": [
            "[[1749    3]\n",
            " [ 104    4]]\n"
          ]
        }
      ],
      "source": [
        "conf = confusion_matrix(y_test, pred)\n",
        "print(conf)"
      ]
    },
    {
      "cell_type": "code",
      "execution_count": 24,
      "metadata": {
        "id": "QjNFMvry7RbE"
      },
      "outputs": [],
      "source": [
        "true_negative_rate = conf[0][0]/(conf[0][0]+conf[0][1])\n",
        "true_positive_rate = conf[1][1]/(conf[1][1]+conf[1][0])\n",
        "g_mean_bag = math.sqrt(true_positive_rate*true_negative_rate)"
      ]
    },
    {
      "cell_type": "code",
      "execution_count": 25,
      "metadata": {
        "id": "3hKXe72NGKVj"
      },
      "outputs": [],
      "source": [
        "f1_bag = f1_score(y_test, pred)"
      ]
    },
    {
      "cell_type": "code",
      "execution_count": 26,
      "metadata": {
        "colab": {
          "base_uri": "https://localhost:8080/"
        },
        "id": "z2n5iwg-F50R",
        "outputId": "79315e44-311a-453e-cd85-ea42ffefae07"
      },
      "outputs": [
        {
          "name": "stdout",
          "output_type": "stream",
          "text": [
            "g-mean =  0.19228525022234416\n",
            "F1-score =  0.06956521739130435\n"
          ]
        }
      ],
      "source": [
        "print(\"g-mean = \",g_mean_bag)\n",
        "print(\"F1-score = \",f1_bag)"
      ]
    },
    {
      "cell_type": "markdown",
      "metadata": {
        "id": "eSvTV4Vj0kbB"
      },
      "source": [
        "## AdaBoost"
      ]
    },
    {
      "cell_type": "code",
      "execution_count": 27,
      "metadata": {
        "colab": {
          "base_uri": "https://localhost:8080/"
        },
        "id": "MHe9q6W20kbC",
        "outputId": "51c27ee8-d7d2-4b2e-ebb6-b1ac3ce7a107"
      },
      "outputs": [
        {
          "data": {
            "text/plain": [
              "AdaBoostClassifier()"
            ]
          },
          "execution_count": 27,
          "metadata": {},
          "output_type": "execute_result"
        }
      ],
      "source": [
        "ada = AdaBoostClassifier()\n",
        "ada.fit(X_train, y_train)"
      ]
    },
    {
      "cell_type": "code",
      "execution_count": 28,
      "metadata": {
        "id": "7VLi0d_U0kbC"
      },
      "outputs": [],
      "source": [
        "pred = ada.predict(X_test)"
      ]
    },
    {
      "cell_type": "code",
      "execution_count": 29,
      "metadata": {
        "colab": {
          "base_uri": "https://localhost:8080/"
        },
        "id": "GwGNUcldSnvm",
        "outputId": "fc4171e1-e76d-4829-c452-b45bcd9683df"
      },
      "outputs": [
        {
          "name": "stdout",
          "output_type": "stream",
          "text": [
            "[[1751    1]\n",
            " [ 107    1]]\n"
          ]
        }
      ],
      "source": [
        "conf = confusion_matrix(y_test, pred)\n",
        "print(conf)"
      ]
    },
    {
      "cell_type": "code",
      "execution_count": 30,
      "metadata": {
        "id": "OY9EMJJ0Snvm"
      },
      "outputs": [],
      "source": [
        "true_negative_rate = conf[0][0]/(conf[0][0]+conf[0][1])\n",
        "true_positive_rate = conf[1][1]/(conf[1][1]+conf[1][0])\n",
        "g_mean_ada = math.sqrt(true_positive_rate*true_negative_rate)"
      ]
    },
    {
      "cell_type": "code",
      "execution_count": 31,
      "metadata": {
        "id": "-SHpz1EtSnvm"
      },
      "outputs": [],
      "source": [
        "f1_ada = f1_score(y_test, pred)"
      ]
    },
    {
      "cell_type": "code",
      "execution_count": 32,
      "metadata": {
        "colab": {
          "base_uri": "https://localhost:8080/"
        },
        "id": "HDA0Bo0FSnvm",
        "outputId": "8e1c909f-683b-4736-a3e1-74bf80ff2635"
      },
      "outputs": [
        {
          "name": "stdout",
          "output_type": "stream",
          "text": [
            "g-mean =  0.0961975794598213\n",
            "F1-score =  0.01818181818181818\n"
          ]
        }
      ],
      "source": [
        "print(\"g-mean = \",g_mean_ada)\n",
        "print(\"F1-score = \",f1_ada)"
      ]
    },
    {
      "cell_type": "markdown",
      "metadata": {
        "id": "cCSZXA940kbD"
      },
      "source": [
        "## Easy Ensemble"
      ]
    },
    {
      "cell_type": "code",
      "execution_count": 33,
      "metadata": {
        "colab": {
          "base_uri": "https://localhost:8080/",
          "height": 328
        },
        "id": "UDwArmgn0kbD",
        "outputId": "1020c4d7-1877-4998-f04a-869e5311db87"
      },
      "outputs": [
        {
          "data": {
            "text/plain": [
              "EasyEnsembleClassifier(random_state=42)"
            ]
          },
          "execution_count": 33,
          "metadata": {},
          "output_type": "execute_result"
        }
      ],
      "source": [
        "easy_ensemble = EasyEnsembleClassifier(random_state=42)\n",
        "easy_ensemble.fit(X_smote, y_smote)"
      ]
    },
    {
      "cell_type": "code",
      "execution_count": 34,
      "metadata": {
        "id": "5RZucfES0kbD"
      },
      "outputs": [],
      "source": [
        "pred = easy_ensemble.predict(X_test)"
      ]
    },
    {
      "cell_type": "code",
      "execution_count": 35,
      "metadata": {
        "id": "TUqQneq6Spl1"
      },
      "outputs": [
        {
          "name": "stdout",
          "output_type": "stream",
          "text": [
            "[[1407  345]\n",
            " [  57   51]]\n"
          ]
        }
      ],
      "source": [
        "conf = confusion_matrix(y_test, pred)\n",
        "print(conf)"
      ]
    },
    {
      "cell_type": "code",
      "execution_count": 36,
      "metadata": {
        "id": "3l03g8YXSpl1"
      },
      "outputs": [],
      "source": [
        "true_negative_rate = conf[0][0]/(conf[0][0]+conf[0][1])\n",
        "true_positive_rate = conf[1][1]/(conf[1][1]+conf[1][0])\n",
        "g_mean_ez = math.sqrt(true_positive_rate*true_negative_rate)"
      ]
    },
    {
      "cell_type": "code",
      "execution_count": 37,
      "metadata": {
        "id": "7E75GTvASpl2"
      },
      "outputs": [],
      "source": [
        "f1_ez = f1_score(y_test, pred)"
      ]
    },
    {
      "cell_type": "code",
      "execution_count": 38,
      "metadata": {
        "id": "WEQp6TPuSpl2"
      },
      "outputs": [
        {
          "name": "stdout",
          "output_type": "stream",
          "text": [
            "g-mean =  0.615819175756839\n",
            "F1-score =  0.20238095238095236\n"
          ]
        }
      ],
      "source": [
        "print(\"g-mean = \",g_mean_ez)\n",
        "print(\"F1-score = \",f1_ez)"
      ]
    },
    {
      "cell_type": "markdown",
      "metadata": {
        "id": "6nCzrk100kbE"
      },
      "source": [
        "## RusBoost"
      ]
    },
    {
      "cell_type": "code",
      "execution_count": 39,
      "metadata": {
        "colab": {
          "base_uri": "https://localhost:8080/"
        },
        "id": "V3e4RhLA0kbE",
        "outputId": "81436630-678d-41f3-d5a8-d8be655c7b91"
      },
      "outputs": [
        {
          "data": {
            "text/plain": [
              "AdaBoostClassifier()"
            ]
          },
          "execution_count": 39,
          "metadata": {},
          "output_type": "execute_result"
        }
      ],
      "source": [
        "rus = AdaBoostClassifier()\n",
        "rus.fit(X_under, y_under)"
      ]
    },
    {
      "cell_type": "code",
      "execution_count": 40,
      "metadata": {
        "id": "qJPlON-H0kbE"
      },
      "outputs": [],
      "source": [
        "pred = rus.predict(X_test)"
      ]
    },
    {
      "cell_type": "code",
      "execution_count": 41,
      "metadata": {
        "colab": {
          "base_uri": "https://localhost:8080/"
        },
        "id": "H1EGACQeSr02",
        "outputId": "1d00719e-d8e8-4639-b635-4c690017ef38"
      },
      "outputs": [
        {
          "name": "stdout",
          "output_type": "stream",
          "text": [
            "[[1478  274]\n",
            " [  59   49]]\n"
          ]
        }
      ],
      "source": [
        "conf = confusion_matrix(y_test, pred)\n",
        "print(conf)"
      ]
    },
    {
      "cell_type": "code",
      "execution_count": 42,
      "metadata": {
        "id": "opvBK4GJSr02"
      },
      "outputs": [],
      "source": [
        "true_negative_rate = conf[0][0]/(conf[0][0]+conf[0][1])\n",
        "true_positive_rate = conf[1][1]/(conf[1][1]+conf[1][0])\n",
        "g_mean_rus = math.sqrt(true_positive_rate*true_negative_rate)"
      ]
    },
    {
      "cell_type": "code",
      "execution_count": 43,
      "metadata": {
        "id": "bwVNE5VgSr02"
      },
      "outputs": [],
      "source": [
        "f1_rus = f1_score(y_test, pred)"
      ]
    },
    {
      "cell_type": "code",
      "execution_count": 44,
      "metadata": {
        "colab": {
          "base_uri": "https://localhost:8080/"
        },
        "id": "741bPbPXSr02",
        "outputId": "4ab065d1-cc48-4ee0-e781-7c88991920d0"
      },
      "outputs": [
        {
          "name": "stdout",
          "output_type": "stream",
          "text": [
            "g-mean =  0.6186661128385001\n",
            "F1-score =  0.2273781902552204\n"
          ]
        }
      ],
      "source": [
        "print(\"g-mean = \",g_mean_rus)\n",
        "print(\"F1-score = \",f1_rus)"
      ]
    },
    {
      "cell_type": "markdown",
      "metadata": {
        "id": "CdVEsya90kbE"
      },
      "source": [
        "## Smote Boost"
      ]
    },
    {
      "cell_type": "code",
      "execution_count": 45,
      "metadata": {
        "colab": {
          "base_uri": "https://localhost:8080/"
        },
        "id": "FixYD3KP0kbF",
        "outputId": "91aeb735-9fa5-47fc-9879-3c1610cdac83"
      },
      "outputs": [
        {
          "data": {
            "text/plain": [
              "AdaBoostClassifier()"
            ]
          },
          "execution_count": 45,
          "metadata": {},
          "output_type": "execute_result"
        }
      ],
      "source": [
        "smote_boost = AdaBoostClassifier()\n",
        "smote_boost.fit(X_smote,y_smote)"
      ]
    },
    {
      "cell_type": "code",
      "execution_count": 46,
      "metadata": {
        "colab": {
          "base_uri": "https://localhost:8080/"
        },
        "id": "UvVdWIK00kbF",
        "outputId": "09473906-953b-4e45-b9dd-6328dba54e57"
      },
      "outputs": [],
      "source": [
        "pred = smote_boost.predict(X_test)"
      ]
    },
    {
      "cell_type": "code",
      "execution_count": 47,
      "metadata": {
        "colab": {
          "base_uri": "https://localhost:8080/"
        },
        "id": "1mI23hgiStfg",
        "outputId": "ae910797-0f47-4f33-dd8f-bc286d8f03d4"
      },
      "outputs": [
        {
          "name": "stdout",
          "output_type": "stream",
          "text": [
            "[[1407  345]\n",
            " [  57   51]]\n"
          ]
        }
      ],
      "source": [
        "conf = confusion_matrix(y_test, pred)\n",
        "print(conf)"
      ]
    },
    {
      "cell_type": "code",
      "execution_count": 48,
      "metadata": {
        "id": "DLK7fNDKStfg"
      },
      "outputs": [],
      "source": [
        "true_negative_rate = conf[0][0]/(conf[0][0]+conf[0][1])\n",
        "true_positive_rate = conf[1][1]/(conf[1][1]+conf[1][0])\n",
        "g_mean_smb = math.sqrt(true_positive_rate*true_negative_rate)"
      ]
    },
    {
      "cell_type": "code",
      "execution_count": 49,
      "metadata": {
        "id": "NgAoiLkgStfg"
      },
      "outputs": [],
      "source": [
        "f1_smb = f1_score(y_test, pred)"
      ]
    },
    {
      "cell_type": "code",
      "execution_count": 50,
      "metadata": {
        "colab": {
          "base_uri": "https://localhost:8080/"
        },
        "id": "7gsMh2XjStfh",
        "outputId": "42f3e4fe-e647-4d6f-8fd8-16b8ec32800b"
      },
      "outputs": [
        {
          "name": "stdout",
          "output_type": "stream",
          "text": [
            "g-mean =  0.615819175756839\n",
            "F1-score =  0.20238095238095236\n"
          ]
        }
      ],
      "source": [
        "print(\"g-mean = \",g_mean_smb)\n",
        "print(\"F1-score = \",f1_smb)"
      ]
    },
    {
      "cell_type": "markdown",
      "metadata": {
        "id": "ggu7x4Zx0kbF"
      },
      "source": [
        "## Under Bagging"
      ]
    },
    {
      "cell_type": "code",
      "execution_count": 51,
      "metadata": {
        "colab": {
          "base_uri": "https://localhost:8080/"
        },
        "id": "xZL64Bkk0kbG",
        "outputId": "e62cebdb-f1e9-4ae3-82e3-ee595a7dcbe5"
      },
      "outputs": [
        {
          "data": {
            "text/plain": [
              "BaggingClassifier()"
            ]
          },
          "execution_count": 51,
          "metadata": {},
          "output_type": "execute_result"
        }
      ],
      "source": [
        "under_bagging = BaggingClassifier()\n",
        "under_bagging.fit(X_under, y_under)"
      ]
    },
    {
      "cell_type": "code",
      "execution_count": 52,
      "metadata": {
        "id": "OIOt0kxV0kbG"
      },
      "outputs": [],
      "source": [
        "pred = under_bagging.predict(X_test)"
      ]
    },
    {
      "cell_type": "code",
      "execution_count": 53,
      "metadata": {
        "colab": {
          "base_uri": "https://localhost:8080/"
        },
        "id": "BT8oEC9US23q",
        "outputId": "26a0751b-531d-4b21-acbf-cc25be4d0ed9"
      },
      "outputs": [
        {
          "name": "stdout",
          "output_type": "stream",
          "text": [
            "[[1466  286]\n",
            " [  68   40]]\n"
          ]
        }
      ],
      "source": [
        "conf = confusion_matrix(y_test, pred)\n",
        "print(conf)"
      ]
    },
    {
      "cell_type": "code",
      "execution_count": 54,
      "metadata": {
        "id": "CqKpMf2yS23q"
      },
      "outputs": [],
      "source": [
        "true_negative_rate = conf[0][0]/(conf[0][0]+conf[0][1])\n",
        "true_positive_rate = conf[1][1]/(conf[1][1]+conf[1][0])\n",
        "g_mean_ubag = math.sqrt(true_positive_rate*true_negative_rate)"
      ]
    },
    {
      "cell_type": "code",
      "execution_count": 55,
      "metadata": {
        "id": "lJc7qmNSS23q"
      },
      "outputs": [],
      "source": [
        "f1_ubag = f1_score(y_test, pred)"
      ]
    },
    {
      "cell_type": "code",
      "execution_count": 56,
      "metadata": {
        "colab": {
          "base_uri": "https://localhost:8080/"
        },
        "id": "0udmE8NrS23q",
        "outputId": "2e1f12a6-87e7-4a84-a416-83491513c3a4"
      },
      "outputs": [
        {
          "name": "stdout",
          "output_type": "stream",
          "text": [
            "g-mean =  0.5566959376427967\n",
            "F1-score =  0.18433179723502305\n"
          ]
        }
      ],
      "source": [
        "print(\"g-mean = \",g_mean_ubag)\n",
        "print(\"F1-score = \",f1_ubag)"
      ]
    },
    {
      "cell_type": "markdown",
      "metadata": {
        "id": "OpUcQzcuV4XK"
      },
      "source": [
        "## Over Bagging"
      ]
    },
    {
      "cell_type": "code",
      "execution_count": 57,
      "metadata": {
        "colab": {
          "base_uri": "https://localhost:8080/"
        },
        "id": "PThRYWGUWGB6",
        "outputId": "c0501e0c-7018-46bc-8b1a-6bb4c5160adf"
      },
      "outputs": [
        {
          "data": {
            "text/plain": [
              "BaggingClassifier()"
            ]
          },
          "execution_count": 57,
          "metadata": {},
          "output_type": "execute_result"
        }
      ],
      "source": [
        "over_bagging = BaggingClassifier()\n",
        "over_bagging.fit(X_over, y_over)"
      ]
    },
    {
      "cell_type": "code",
      "execution_count": 58,
      "metadata": {
        "id": "t9Yd0jWcWGB6"
      },
      "outputs": [],
      "source": [
        "pred = over_bagging.predict(X_test)"
      ]
    },
    {
      "cell_type": "code",
      "execution_count": 59,
      "metadata": {
        "colab": {
          "base_uri": "https://localhost:8080/"
        },
        "id": "Eji2n2pGWGB6",
        "outputId": "0edd81a4-d2cf-4306-d742-6ba0c7c72904"
      },
      "outputs": [
        {
          "name": "stdout",
          "output_type": "stream",
          "text": [
            "[[1721   31]\n",
            " [ 103    5]]\n"
          ]
        }
      ],
      "source": [
        "conf = confusion_matrix(y_test, pred)\n",
        "print(conf)"
      ]
    },
    {
      "cell_type": "code",
      "execution_count": 60,
      "metadata": {
        "id": "hCusvbU8WGB6"
      },
      "outputs": [],
      "source": [
        "true_negative_rate = conf[0][0]/(conf[0][0]+conf[0][1])\n",
        "true_positive_rate = conf[1][1]/(conf[1][1]+conf[1][0])\n",
        "g_mean_obag = math.sqrt(true_positive_rate*true_negative_rate)"
      ]
    },
    {
      "cell_type": "code",
      "execution_count": 61,
      "metadata": {
        "id": "tUzb-M45WGB7"
      },
      "outputs": [],
      "source": [
        "f1_obag = f1_score(y_test, pred)"
      ]
    },
    {
      "cell_type": "code",
      "execution_count": 62,
      "metadata": {
        "colab": {
          "base_uri": "https://localhost:8080/"
        },
        "id": "Cx3-NiNXWGB7",
        "outputId": "9ebe3ed2-301a-44fc-82bf-eee75ae870a1"
      },
      "outputs": [
        {
          "name": "stdout",
          "output_type": "stream",
          "text": [
            "g-mean =  0.21325366742461674\n",
            "F1-score =  0.06944444444444445\n"
          ]
        }
      ],
      "source": [
        "print(\"g-mean = \",g_mean_obag)\n",
        "print(\"F1-score = \",f1_obag)"
      ]
    },
    {
      "cell_type": "markdown",
      "metadata": {
        "id": "pkRaXA7DU8oe"
      },
      "source": [
        "## Results"
      ]
    },
    {
      "cell_type": "code",
      "execution_count": 63,
      "metadata": {
        "id": "kKedNOEnVBAJ"
      },
      "outputs": [],
      "source": [
        "models = [\"Decision Tree\",\"Bagging\", \"AdaBoost\", \"Easy Ensemble\",\"RusBoost\",\"Smote Boost\",\"Under Bagging\", \"Over Bagging\"]\n",
        "g_mean_score = [g_mean_dec,g_mean_bag,g_mean_ada,g_mean_ez,g_mean_rus,g_mean_smb,g_mean_ubag,g_mean_obag]\n",
        "F1_score = [f1_dec,f1_bag,f1_ada,f1_ez,f1_rus,f1_smb,f1_ubag,f1_obag]"
      ]
    },
    {
      "cell_type": "code",
      "execution_count": 64,
      "metadata": {
        "id": "X0_Ad7WbWbJQ"
      },
      "outputs": [],
      "source": [
        "result_data = {\n",
        "    'Models': models,\n",
        "    'g-mean': g_mean_score,\n",
        "    'F1-score': F1_score\n",
        "}\n",
        "result_df = pd.DataFrame(result_data)"
      ]
    },
    {
      "cell_type": "code",
      "execution_count": 65,
      "metadata": {
        "colab": {
          "base_uri": "https://localhost:8080/",
          "height": 269
        },
        "id": "JYYgNAKzYCQc",
        "outputId": "12a3fbb6-1480-424d-85aa-3ef2d1ff596e"
      },
      "outputs": [
        {
          "data": {
            "text/html": [
              "<div>\n",
              "<style scoped>\n",
              "    .dataframe tbody tr th:only-of-type {\n",
              "        vertical-align: middle;\n",
              "    }\n",
              "\n",
              "    .dataframe tbody tr th {\n",
              "        vertical-align: top;\n",
              "    }\n",
              "\n",
              "    .dataframe thead th {\n",
              "        text-align: right;\n",
              "    }\n",
              "</style>\n",
              "<table border=\"1\" class=\"dataframe\">\n",
              "  <thead>\n",
              "    <tr style=\"text-align: right;\">\n",
              "      <th></th>\n",
              "      <th>Models</th>\n",
              "      <th>g-mean</th>\n",
              "      <th>F1-score</th>\n",
              "    </tr>\n",
              "  </thead>\n",
              "  <tbody>\n",
              "    <tr>\n",
              "      <th>0</th>\n",
              "      <td>Decision Tree</td>\n",
              "      <td>0.396306</td>\n",
              "      <td>0.158590</td>\n",
              "    </tr>\n",
              "    <tr>\n",
              "      <th>1</th>\n",
              "      <td>Bagging</td>\n",
              "      <td>0.192285</td>\n",
              "      <td>0.069565</td>\n",
              "    </tr>\n",
              "    <tr>\n",
              "      <th>2</th>\n",
              "      <td>AdaBoost</td>\n",
              "      <td>0.096198</td>\n",
              "      <td>0.018182</td>\n",
              "    </tr>\n",
              "    <tr>\n",
              "      <th>3</th>\n",
              "      <td>Easy Ensemble</td>\n",
              "      <td>0.615819</td>\n",
              "      <td>0.202381</td>\n",
              "    </tr>\n",
              "    <tr>\n",
              "      <th>4</th>\n",
              "      <td>RusBoost</td>\n",
              "      <td>0.618666</td>\n",
              "      <td>0.227378</td>\n",
              "    </tr>\n",
              "    <tr>\n",
              "      <th>5</th>\n",
              "      <td>Smote Boost</td>\n",
              "      <td>0.615819</td>\n",
              "      <td>0.202381</td>\n",
              "    </tr>\n",
              "    <tr>\n",
              "      <th>6</th>\n",
              "      <td>Under Bagging</td>\n",
              "      <td>0.556696</td>\n",
              "      <td>0.184332</td>\n",
              "    </tr>\n",
              "    <tr>\n",
              "      <th>7</th>\n",
              "      <td>Over Bagging</td>\n",
              "      <td>0.213254</td>\n",
              "      <td>0.069444</td>\n",
              "    </tr>\n",
              "  </tbody>\n",
              "</table>\n",
              "</div>"
            ],
            "text/plain": [
              "          Models    g-mean  F1-score\n",
              "0  Decision Tree  0.396306  0.158590\n",
              "1        Bagging  0.192285  0.069565\n",
              "2       AdaBoost  0.096198  0.018182\n",
              "3  Easy Ensemble  0.615819  0.202381\n",
              "4       RusBoost  0.618666  0.227378\n",
              "5    Smote Boost  0.615819  0.202381\n",
              "6  Under Bagging  0.556696  0.184332\n",
              "7   Over Bagging  0.213254  0.069444"
            ]
          },
          "execution_count": 65,
          "metadata": {},
          "output_type": "execute_result"
        }
      ],
      "source": [
        "result_df"
      ]
    }
  ],
  "metadata": {
    "colab": {
      "name": "ECIP.ipynb",
      "provenance": []
    },
    "interpreter": {
      "hash": "5ad06826974dc060fa37eead2112af9e641fe3b133a4323218f615d88ba76b28"
    },
    "kernelspec": {
      "display_name": "Python 3.7.10 64-bit ('mlenv': conda)",
      "language": "python",
      "name": "python3"
    },
    "language_info": {
      "codemirror_mode": {
        "name": "ipython",
        "version": 3
      },
      "file_extension": ".py",
      "mimetype": "text/x-python",
      "name": "python",
      "nbconvert_exporter": "python",
      "pygments_lexer": "ipython3",
      "version": "3.7.10"
    },
    "orig_nbformat": 4
  },
  "nbformat": 4,
  "nbformat_minor": 0
}
