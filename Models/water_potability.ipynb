{
  "cells": [
    {
      "cell_type": "markdown",
      "metadata": {
        "id": "RYjkKmJm4pfd"
      },
      "source": [
        "# ECIP Models for Software Defect Prediction Dataset"
      ]
    },
    {
      "cell_type": "markdown",
      "metadata": {
        "id": "8f9NBQgF4lPl"
      },
      "source": [
        "## Import"
      ]
    },
    {
      "cell_type": "code",
      "execution_count": 1,
      "metadata": {
        "id": "Bjl35YxY0kaq"
      },
      "outputs": [],
      "source": [
        "from imblearn.over_sampling import RandomOverSampler\n",
        "from imblearn.over_sampling import SMOTE\n",
        "from imblearn.under_sampling import RandomUnderSampler\n",
        "from sklearn.preprocessing import LabelEncoder\n",
        "from sklearn.model_selection import train_test_split\n",
        "from sklearn.metrics import accuracy_score,f1_score, confusion_matrix\n",
        "import pandas as pd\n",
        "import numpy as np\n",
        "from collections import Counter\n",
        "import random\n",
        "from sklearn import tree\n",
        "from sklearn.linear_model import LogisticRegression\n",
        "from sklearn.ensemble import RandomForestClassifier,BaggingClassifier,AdaBoostClassifier\n",
        "from imblearn.ensemble import EasyEnsembleClassifier\n",
        "\n",
        "import math\n"
      ]
    },
    {
      "cell_type": "code",
      "execution_count": 2,
      "metadata": {
        "colab": {
          "base_uri": "https://localhost:8080/"
        },
        "id": "0Qjjfwxv0kax",
        "outputId": "2d94201c-299c-488e-a0cc-a28be0c3b460"
      },
      "outputs": [
        {
          "data": {
            "text/html": [
              "<div>\n",
              "<style scoped>\n",
              "    .dataframe tbody tr th:only-of-type {\n",
              "        vertical-align: middle;\n",
              "    }\n",
              "\n",
              "    .dataframe tbody tr th {\n",
              "        vertical-align: top;\n",
              "    }\n",
              "\n",
              "    .dataframe thead th {\n",
              "        text-align: right;\n",
              "    }\n",
              "</style>\n",
              "<table border=\"1\" class=\"dataframe\">\n",
              "  <thead>\n",
              "    <tr style=\"text-align: right;\">\n",
              "      <th></th>\n",
              "      <th>ph</th>\n",
              "      <th>Hardness</th>\n",
              "      <th>Solids</th>\n",
              "      <th>Chloramines</th>\n",
              "      <th>Sulfate</th>\n",
              "      <th>Conductivity</th>\n",
              "      <th>Organic_carbon</th>\n",
              "      <th>Trihalomethanes</th>\n",
              "      <th>Turbidity</th>\n",
              "      <th>Potability</th>\n",
              "    </tr>\n",
              "  </thead>\n",
              "  <tbody>\n",
              "    <tr>\n",
              "      <th>0</th>\n",
              "      <td>NaN</td>\n",
              "      <td>204.890455</td>\n",
              "      <td>20791.318981</td>\n",
              "      <td>7.300212</td>\n",
              "      <td>368.516441</td>\n",
              "      <td>564.308654</td>\n",
              "      <td>10.379783</td>\n",
              "      <td>86.990970</td>\n",
              "      <td>2.963135</td>\n",
              "      <td>0</td>\n",
              "    </tr>\n",
              "    <tr>\n",
              "      <th>1</th>\n",
              "      <td>3.716080</td>\n",
              "      <td>129.422921</td>\n",
              "      <td>18630.057858</td>\n",
              "      <td>6.635246</td>\n",
              "      <td>NaN</td>\n",
              "      <td>592.885359</td>\n",
              "      <td>15.180013</td>\n",
              "      <td>56.329076</td>\n",
              "      <td>4.500656</td>\n",
              "      <td>0</td>\n",
              "    </tr>\n",
              "    <tr>\n",
              "      <th>2</th>\n",
              "      <td>8.099124</td>\n",
              "      <td>224.236259</td>\n",
              "      <td>19909.541732</td>\n",
              "      <td>9.275884</td>\n",
              "      <td>NaN</td>\n",
              "      <td>418.606213</td>\n",
              "      <td>16.868637</td>\n",
              "      <td>66.420093</td>\n",
              "      <td>3.055934</td>\n",
              "      <td>0</td>\n",
              "    </tr>\n",
              "    <tr>\n",
              "      <th>3</th>\n",
              "      <td>8.316766</td>\n",
              "      <td>214.373394</td>\n",
              "      <td>22018.417441</td>\n",
              "      <td>8.059332</td>\n",
              "      <td>356.886136</td>\n",
              "      <td>363.266516</td>\n",
              "      <td>18.436524</td>\n",
              "      <td>100.341674</td>\n",
              "      <td>4.628771</td>\n",
              "      <td>0</td>\n",
              "    </tr>\n",
              "    <tr>\n",
              "      <th>4</th>\n",
              "      <td>9.092223</td>\n",
              "      <td>181.101509</td>\n",
              "      <td>17978.986339</td>\n",
              "      <td>6.546600</td>\n",
              "      <td>310.135738</td>\n",
              "      <td>398.410813</td>\n",
              "      <td>11.558279</td>\n",
              "      <td>31.997993</td>\n",
              "      <td>4.075075</td>\n",
              "      <td>0</td>\n",
              "    </tr>\n",
              "  </tbody>\n",
              "</table>\n",
              "</div>"
            ],
            "text/plain": [
              "         ph    Hardness        Solids  Chloramines     Sulfate  Conductivity  \\\n",
              "0       NaN  204.890455  20791.318981     7.300212  368.516441    564.308654   \n",
              "1  3.716080  129.422921  18630.057858     6.635246         NaN    592.885359   \n",
              "2  8.099124  224.236259  19909.541732     9.275884         NaN    418.606213   \n",
              "3  8.316766  214.373394  22018.417441     8.059332  356.886136    363.266516   \n",
              "4  9.092223  181.101509  17978.986339     6.546600  310.135738    398.410813   \n",
              "\n",
              "   Organic_carbon  Trihalomethanes  Turbidity  Potability  \n",
              "0       10.379783        86.990970   2.963135           0  \n",
              "1       15.180013        56.329076   4.500656           0  \n",
              "2       16.868637        66.420093   3.055934           0  \n",
              "3       18.436524       100.341674   4.628771           0  \n",
              "4       11.558279        31.997993   4.075075           0  "
            ]
          },
          "execution_count": 2,
          "metadata": {},
          "output_type": "execute_result"
        }
      ],
      "source": [
        "df = pd.read_csv(\"./water_potability.csv\")\n",
        "df.head()"
      ]
    },
    {
      "cell_type": "markdown",
      "metadata": {
        "id": "n_r5dgcm5C-9"
      },
      "source": [
        "## Data Preprocessing"
      ]
    },
    {
      "cell_type": "code",
      "execution_count": 3,
      "metadata": {
        "colab": {
          "base_uri": "https://localhost:8080/",
          "height": 602
        },
        "id": "VAog2nDl0ka0",
        "outputId": "992eb868-c8e7-4e33-d3a1-c1964189c2d3"
      },
      "outputs": [
        {
          "data": {
            "text/html": [
              "<div>\n",
              "<style scoped>\n",
              "    .dataframe tbody tr th:only-of-type {\n",
              "        vertical-align: middle;\n",
              "    }\n",
              "\n",
              "    .dataframe tbody tr th {\n",
              "        vertical-align: top;\n",
              "    }\n",
              "\n",
              "    .dataframe thead th {\n",
              "        text-align: right;\n",
              "    }\n",
              "</style>\n",
              "<table border=\"1\" class=\"dataframe\">\n",
              "  <thead>\n",
              "    <tr style=\"text-align: right;\">\n",
              "      <th></th>\n",
              "      <th>ph</th>\n",
              "      <th>Hardness</th>\n",
              "      <th>Solids</th>\n",
              "      <th>Chloramines</th>\n",
              "      <th>Sulfate</th>\n",
              "      <th>Conductivity</th>\n",
              "      <th>Organic_carbon</th>\n",
              "      <th>Trihalomethanes</th>\n",
              "      <th>Turbidity</th>\n",
              "      <th>Potability</th>\n",
              "    </tr>\n",
              "  </thead>\n",
              "  <tbody>\n",
              "    <tr>\n",
              "      <th>ph</th>\n",
              "      <td>1.000000</td>\n",
              "      <td>0.082096</td>\n",
              "      <td>-0.089288</td>\n",
              "      <td>-0.034350</td>\n",
              "      <td>0.018203</td>\n",
              "      <td>0.018614</td>\n",
              "      <td>0.043503</td>\n",
              "      <td>0.003354</td>\n",
              "      <td>-0.039057</td>\n",
              "      <td>-0.003556</td>\n",
              "    </tr>\n",
              "    <tr>\n",
              "      <th>Hardness</th>\n",
              "      <td>0.082096</td>\n",
              "      <td>1.000000</td>\n",
              "      <td>-0.046899</td>\n",
              "      <td>-0.030054</td>\n",
              "      <td>-0.106923</td>\n",
              "      <td>-0.023915</td>\n",
              "      <td>0.003610</td>\n",
              "      <td>-0.013013</td>\n",
              "      <td>-0.014449</td>\n",
              "      <td>-0.013837</td>\n",
              "    </tr>\n",
              "    <tr>\n",
              "      <th>Solids</th>\n",
              "      <td>-0.089288</td>\n",
              "      <td>-0.046899</td>\n",
              "      <td>1.000000</td>\n",
              "      <td>-0.070148</td>\n",
              "      <td>-0.171804</td>\n",
              "      <td>0.013831</td>\n",
              "      <td>0.010242</td>\n",
              "      <td>-0.009143</td>\n",
              "      <td>0.019546</td>\n",
              "      <td>0.033743</td>\n",
              "    </tr>\n",
              "    <tr>\n",
              "      <th>Chloramines</th>\n",
              "      <td>-0.034350</td>\n",
              "      <td>-0.030054</td>\n",
              "      <td>-0.070148</td>\n",
              "      <td>1.000000</td>\n",
              "      <td>0.027244</td>\n",
              "      <td>-0.020486</td>\n",
              "      <td>-0.012653</td>\n",
              "      <td>0.017084</td>\n",
              "      <td>0.002363</td>\n",
              "      <td>0.023779</td>\n",
              "    </tr>\n",
              "    <tr>\n",
              "      <th>Sulfate</th>\n",
              "      <td>0.018203</td>\n",
              "      <td>-0.106923</td>\n",
              "      <td>-0.171804</td>\n",
              "      <td>0.027244</td>\n",
              "      <td>1.000000</td>\n",
              "      <td>-0.016121</td>\n",
              "      <td>0.030831</td>\n",
              "      <td>-0.030274</td>\n",
              "      <td>-0.011187</td>\n",
              "      <td>-0.023577</td>\n",
              "    </tr>\n",
              "    <tr>\n",
              "      <th>Conductivity</th>\n",
              "      <td>0.018614</td>\n",
              "      <td>-0.023915</td>\n",
              "      <td>0.013831</td>\n",
              "      <td>-0.020486</td>\n",
              "      <td>-0.016121</td>\n",
              "      <td>1.000000</td>\n",
              "      <td>0.020966</td>\n",
              "      <td>0.001285</td>\n",
              "      <td>0.005798</td>\n",
              "      <td>-0.008128</td>\n",
              "    </tr>\n",
              "    <tr>\n",
              "      <th>Organic_carbon</th>\n",
              "      <td>0.043503</td>\n",
              "      <td>0.003610</td>\n",
              "      <td>0.010242</td>\n",
              "      <td>-0.012653</td>\n",
              "      <td>0.030831</td>\n",
              "      <td>0.020966</td>\n",
              "      <td>1.000000</td>\n",
              "      <td>-0.013274</td>\n",
              "      <td>-0.027308</td>\n",
              "      <td>-0.030001</td>\n",
              "    </tr>\n",
              "    <tr>\n",
              "      <th>Trihalomethanes</th>\n",
              "      <td>0.003354</td>\n",
              "      <td>-0.013013</td>\n",
              "      <td>-0.009143</td>\n",
              "      <td>0.017084</td>\n",
              "      <td>-0.030274</td>\n",
              "      <td>0.001285</td>\n",
              "      <td>-0.013274</td>\n",
              "      <td>1.000000</td>\n",
              "      <td>-0.022145</td>\n",
              "      <td>0.007130</td>\n",
              "    </tr>\n",
              "    <tr>\n",
              "      <th>Turbidity</th>\n",
              "      <td>-0.039057</td>\n",
              "      <td>-0.014449</td>\n",
              "      <td>0.019546</td>\n",
              "      <td>0.002363</td>\n",
              "      <td>-0.011187</td>\n",
              "      <td>0.005798</td>\n",
              "      <td>-0.027308</td>\n",
              "      <td>-0.022145</td>\n",
              "      <td>1.000000</td>\n",
              "      <td>0.001581</td>\n",
              "    </tr>\n",
              "    <tr>\n",
              "      <th>Potability</th>\n",
              "      <td>-0.003556</td>\n",
              "      <td>-0.013837</td>\n",
              "      <td>0.033743</td>\n",
              "      <td>0.023779</td>\n",
              "      <td>-0.023577</td>\n",
              "      <td>-0.008128</td>\n",
              "      <td>-0.030001</td>\n",
              "      <td>0.007130</td>\n",
              "      <td>0.001581</td>\n",
              "      <td>1.000000</td>\n",
              "    </tr>\n",
              "  </tbody>\n",
              "</table>\n",
              "</div>"
            ],
            "text/plain": [
              "                       ph  Hardness    Solids  Chloramines   Sulfate  \\\n",
              "ph               1.000000  0.082096 -0.089288    -0.034350  0.018203   \n",
              "Hardness         0.082096  1.000000 -0.046899    -0.030054 -0.106923   \n",
              "Solids          -0.089288 -0.046899  1.000000    -0.070148 -0.171804   \n",
              "Chloramines     -0.034350 -0.030054 -0.070148     1.000000  0.027244   \n",
              "Sulfate          0.018203 -0.106923 -0.171804     0.027244  1.000000   \n",
              "Conductivity     0.018614 -0.023915  0.013831    -0.020486 -0.016121   \n",
              "Organic_carbon   0.043503  0.003610  0.010242    -0.012653  0.030831   \n",
              "Trihalomethanes  0.003354 -0.013013 -0.009143     0.017084 -0.030274   \n",
              "Turbidity       -0.039057 -0.014449  0.019546     0.002363 -0.011187   \n",
              "Potability      -0.003556 -0.013837  0.033743     0.023779 -0.023577   \n",
              "\n",
              "                 Conductivity  Organic_carbon  Trihalomethanes  Turbidity  \\\n",
              "ph                   0.018614        0.043503         0.003354  -0.039057   \n",
              "Hardness            -0.023915        0.003610        -0.013013  -0.014449   \n",
              "Solids               0.013831        0.010242        -0.009143   0.019546   \n",
              "Chloramines         -0.020486       -0.012653         0.017084   0.002363   \n",
              "Sulfate             -0.016121        0.030831        -0.030274  -0.011187   \n",
              "Conductivity         1.000000        0.020966         0.001285   0.005798   \n",
              "Organic_carbon       0.020966        1.000000        -0.013274  -0.027308   \n",
              "Trihalomethanes      0.001285       -0.013274         1.000000  -0.022145   \n",
              "Turbidity            0.005798       -0.027308        -0.022145   1.000000   \n",
              "Potability          -0.008128       -0.030001         0.007130   0.001581   \n",
              "\n",
              "                 Potability  \n",
              "ph                -0.003556  \n",
              "Hardness          -0.013837  \n",
              "Solids             0.033743  \n",
              "Chloramines        0.023779  \n",
              "Sulfate           -0.023577  \n",
              "Conductivity      -0.008128  \n",
              "Organic_carbon    -0.030001  \n",
              "Trihalomethanes    0.007130  \n",
              "Turbidity          0.001581  \n",
              "Potability         1.000000  "
            ]
          },
          "execution_count": 3,
          "metadata": {},
          "output_type": "execute_result"
        }
      ],
      "source": [
        "df.corr()"
      ]
    },
    {
      "cell_type": "code",
      "execution_count": 4,
      "metadata": {
        "id": "jj8vFPWR0ka1"
      },
      "outputs": [
        {
          "name": "stdout",
          "output_type": "stream",
          "text": [
            "ph                 491\n",
            "Hardness             0\n",
            "Solids               0\n",
            "Chloramines          0\n",
            "Sulfate            781\n",
            "Conductivity         0\n",
            "Organic_carbon       0\n",
            "Trihalomethanes    162\n",
            "Turbidity            0\n",
            "Potability           0\n",
            "dtype: int64\n"
          ]
        }
      ],
      "source": [
        "for x in df:\n",
        "    df.drop(df.loc[df[x]=='?'].index, inplace=True)\n",
        "            \n",
        "print(df.isna().sum())      "
      ]
    },
    {
      "cell_type": "code",
      "execution_count": 5,
      "metadata": {},
      "outputs": [],
      "source": [
        "df[\"Sulfate\"].fillna(df[\"Sulfate\"].mean(), inplace=True)\n",
        "df[\"ph\"].fillna(df[\"ph\"].mean(), inplace=True)\n",
        "df[\"Trihalomethanes\"].fillna(df[\"Trihalomethanes\"].mean(), inplace=True)"
      ]
    },
    {
      "cell_type": "code",
      "execution_count": 6,
      "metadata": {},
      "outputs": [
        {
          "name": "stdout",
          "output_type": "stream",
          "text": [
            "ph                 0\n",
            "Hardness           0\n",
            "Solids             0\n",
            "Chloramines        0\n",
            "Sulfate            0\n",
            "Conductivity       0\n",
            "Organic_carbon     0\n",
            "Trihalomethanes    0\n",
            "Turbidity          0\n",
            "Potability         0\n",
            "dtype: int64\n"
          ]
        }
      ],
      "source": [
        "print(df.isna().sum())      "
      ]
    },
    {
      "cell_type": "code",
      "execution_count": 66,
      "metadata": {
        "colab": {
          "base_uri": "https://localhost:8080/"
        },
        "id": "nHn6TGEs0ka2",
        "outputId": "447ec93a-422c-45fb-f6d7-16d06226297a"
      },
      "outputs": [
        {
          "name": "stdout",
          "output_type": "stream",
          "text": [
            "Counter({0: 1998, 1: 324})\n"
          ]
        }
      ],
      "source": [
        "for i, row in df.iterrows():\n",
        "    if df.at[i,'Potability'] == True:\n",
        "        a = random.choice([0,1])\n",
        "        if a==0:\n",
        "            df.drop(i, inplace=True)\n",
        "\n",
        "print(Counter(df[\"Potability\"]))\n",
        "df[\"Potability\"].replace({False: 0, True: 1}, inplace=True)"
      ]
    },
    {
      "cell_type": "code",
      "execution_count": 125,
      "metadata": {},
      "outputs": [
        {
          "data": {
            "text/plain": [
              "16.216216216216218"
            ]
          },
          "execution_count": 125,
          "metadata": {},
          "output_type": "execute_result"
        }
      ],
      "source": [
        "(Counter(df['Potability'])[1]/Counter(df['Potability'])[0])*100"
      ]
    },
    {
      "cell_type": "code",
      "execution_count": 67,
      "metadata": {
        "colab": {
          "base_uri": "https://localhost:8080/"
        },
        "id": "ChOmumuF0ka4",
        "outputId": "d2ba702c-2ffc-4b1f-d7d3-4f14b7ddc62c"
      },
      "outputs": [
        {
          "name": "stdout",
          "output_type": "stream",
          "text": [
            "<class 'numpy.int64'>\n",
            "0\n"
          ]
        }
      ],
      "source": [
        "X = df.drop(columns=[\"Potability\"])\n",
        "y = df.Potability\n",
        "print(type(y[0]))\n",
        "print(y[0])"
      ]
    },
    {
      "cell_type": "code",
      "execution_count": 68,
      "metadata": {
        "id": "CFR1dkIX0ka4"
      },
      "outputs": [],
      "source": [
        "X_train, X_test, y_train, y_test = train_test_split(X, y, test_size=0.2, random_state=42)"
      ]
    },
    {
      "cell_type": "code",
      "execution_count": 69,
      "metadata": {
        "colab": {
          "base_uri": "https://localhost:8080/"
        },
        "id": "eRw695zU0ka5",
        "outputId": "764fdb1e-e70c-43fc-9c34-27034a274ec3"
      },
      "outputs": [
        {
          "name": "stdout",
          "output_type": "stream",
          "text": [
            "0    398\n",
            "1     67\n",
            "Name: Potability, dtype: int64\n",
            "0    1600\n",
            "1     257\n",
            "Name: Potability, dtype: int64\n"
          ]
        }
      ],
      "source": [
        "print(y_test.value_counts())\n",
        "print(y_train.value_counts())"
      ]
    },
    {
      "cell_type": "markdown",
      "metadata": {
        "id": "P78XMq2M5eW3"
      },
      "source": [
        "## Data Resampling Techniques"
      ]
    },
    {
      "cell_type": "markdown",
      "metadata": {
        "id": "fdTYMvf16y-Z"
      },
      "source": [
        "Random Oversampling"
      ]
    },
    {
      "cell_type": "code",
      "execution_count": 70,
      "metadata": {
        "colab": {
          "base_uri": "https://localhost:8080/"
        },
        "id": "su7S5YrX0ka5",
        "outputId": "0c9bd533-8361-4df4-94da-9672ea09419d"
      },
      "outputs": [
        {
          "name": "stdout",
          "output_type": "stream",
          "text": [
            "Counter({0: 1600, 1: 800})\n"
          ]
        }
      ],
      "source": [
        "oversampler = RandomOverSampler(sampling_strategy=.5)\n",
        "X_over, y_over = oversampler.fit_resample(X_train, y_train)\n",
        "print(Counter(y_over))"
      ]
    },
    {
      "cell_type": "markdown",
      "metadata": {
        "id": "taG6JCAm61Sa"
      },
      "source": [
        "Random Undersampling"
      ]
    },
    {
      "cell_type": "code",
      "execution_count": 71,
      "metadata": {
        "colab": {
          "base_uri": "https://localhost:8080/"
        },
        "id": "lX-lLmHi0ka6",
        "outputId": "b57b69d1-c825-45f6-9683-3521889e3b7c"
      },
      "outputs": [
        {
          "name": "stdout",
          "output_type": "stream",
          "text": [
            "Counter({0: 514, 1: 257})\n"
          ]
        }
      ],
      "source": [
        "undersampler = RandomUnderSampler(sampling_strategy=.5)\n",
        "X_under, y_under = undersampler.fit_resample(X_train, y_train)\n",
        "print(Counter(y_under))"
      ]
    },
    {
      "cell_type": "markdown",
      "metadata": {
        "id": "bpRTavtx63ov"
      },
      "source": [
        "Synthetic Minority Over Sampling"
      ]
    },
    {
      "cell_type": "code",
      "execution_count": 72,
      "metadata": {
        "id": "PRi1SWgC0ka6"
      },
      "outputs": [],
      "source": [
        "X_train_smote = np.asarray(X_train)\n",
        "y_train_smote = np.asarray(y_train)\n"
      ]
    },
    {
      "cell_type": "code",
      "execution_count": 73,
      "metadata": {
        "colab": {
          "base_uri": "https://localhost:8080/"
        },
        "id": "gD4yiSTs0ka7",
        "outputId": "402046e6-5cbc-4a90-e90d-c3023f0e7a1a"
      },
      "outputs": [
        {
          "name": "stdout",
          "output_type": "stream",
          "text": [
            "Counter({0: 1600, 1: 1600})\n"
          ]
        }
      ],
      "source": [
        "smotesampler = SMOTE()\n",
        "X_smote, y_smote = smotesampler.fit_resample(X_train_smote, y_train_smote)\n",
        "print(Counter(y_smote))"
      ]
    },
    {
      "cell_type": "markdown",
      "metadata": {
        "id": "Z-oJ8HH_0ka7"
      },
      "source": [
        "## Decision Tree"
      ]
    },
    {
      "cell_type": "code",
      "execution_count": 74,
      "metadata": {
        "id": "VYT7kzlY0ka9"
      },
      "outputs": [],
      "source": [
        "clf = tree.DecisionTreeClassifier()\n",
        "clf = clf.fit(X_train, y_train)"
      ]
    },
    {
      "cell_type": "code",
      "execution_count": 75,
      "metadata": {
        "id": "6vspvdmr0ka-"
      },
      "outputs": [],
      "source": [
        "pred = clf.predict(X_test)"
      ]
    },
    {
      "cell_type": "code",
      "execution_count": 76,
      "metadata": {
        "colab": {
          "base_uri": "https://localhost:8080/"
        },
        "id": "_9Szyz9ZSlt4",
        "outputId": "287cc3e8-ae00-4e87-9650-dcb539553a32"
      },
      "outputs": [
        {
          "name": "stdout",
          "output_type": "stream",
          "text": [
            "[[344  54]\n",
            " [ 52  15]]\n"
          ]
        }
      ],
      "source": [
        "conf = confusion_matrix(y_test, pred)\n",
        "print(conf)"
      ]
    },
    {
      "cell_type": "code",
      "execution_count": 77,
      "metadata": {
        "id": "rWY5zNX-Slt9"
      },
      "outputs": [],
      "source": [
        "true_negative_rate = conf[0][0]/(conf[0][0]+conf[0][1])\n",
        "true_positive_rate = conf[1][1]/(conf[1][1]+conf[1][0])\n",
        "g_mean_dec = math.sqrt(true_positive_rate*true_negative_rate)"
      ]
    },
    {
      "cell_type": "code",
      "execution_count": 78,
      "metadata": {
        "id": "5j7kQaZlSlt9"
      },
      "outputs": [],
      "source": [
        "f1_dec = f1_score(y_test, pred)"
      ]
    },
    {
      "cell_type": "code",
      "execution_count": 79,
      "metadata": {
        "colab": {
          "base_uri": "https://localhost:8080/"
        },
        "id": "SsNufMDhSlt9",
        "outputId": "63e04ed6-c231-490f-c7bb-426ae4477f61"
      },
      "outputs": [
        {
          "name": "stdout",
          "output_type": "stream",
          "text": [
            "g-mean =  0.43989184764091793\n",
            "F1-score =  0.22058823529411764\n"
          ]
        }
      ],
      "source": [
        "print(\"g-mean = \",g_mean_dec)\n",
        "print(\"F1-score = \",f1_dec)"
      ]
    },
    {
      "cell_type": "markdown",
      "metadata": {
        "id": "ijl-_xYg0ka_"
      },
      "source": [
        "## Bagging "
      ]
    },
    {
      "cell_type": "code",
      "execution_count": 80,
      "metadata": {
        "colab": {
          "base_uri": "https://localhost:8080/"
        },
        "id": "gvOG5NkP0kbA",
        "outputId": "39f655b4-2087-4206-aba4-1cecb590bb37"
      },
      "outputs": [
        {
          "data": {
            "text/plain": [
              "BaggingClassifier()"
            ]
          },
          "execution_count": 80,
          "metadata": {},
          "output_type": "execute_result"
        }
      ],
      "source": [
        "bag = BaggingClassifier()\n",
        "bag.fit(X_train, y_train)"
      ]
    },
    {
      "cell_type": "code",
      "execution_count": 81,
      "metadata": {
        "id": "0fOlADBD0kbA"
      },
      "outputs": [],
      "source": [
        "pred = bag.predict(X_test)"
      ]
    },
    {
      "cell_type": "code",
      "execution_count": 82,
      "metadata": {
        "colab": {
          "base_uri": "https://localhost:8080/"
        },
        "id": "4mvVep3r0kbB",
        "outputId": "3a30eaad-a6b5-4497-8289-4123f3f1674d"
      },
      "outputs": [
        {
          "name": "stdout",
          "output_type": "stream",
          "text": [
            "[[389   9]\n",
            " [ 62   5]]\n"
          ]
        }
      ],
      "source": [
        "conf = confusion_matrix(y_test, pred)\n",
        "print(conf)"
      ]
    },
    {
      "cell_type": "code",
      "execution_count": 83,
      "metadata": {
        "id": "QjNFMvry7RbE"
      },
      "outputs": [],
      "source": [
        "true_negative_rate = conf[0][0]/(conf[0][0]+conf[0][1])\n",
        "true_positive_rate = conf[1][1]/(conf[1][1]+conf[1][0])\n",
        "g_mean_bag = math.sqrt(true_positive_rate*true_negative_rate)"
      ]
    },
    {
      "cell_type": "code",
      "execution_count": 84,
      "metadata": {
        "id": "3hKXe72NGKVj"
      },
      "outputs": [],
      "source": [
        "f1_bag = f1_score(y_test, pred)"
      ]
    },
    {
      "cell_type": "code",
      "execution_count": 85,
      "metadata": {
        "colab": {
          "base_uri": "https://localhost:8080/"
        },
        "id": "z2n5iwg-F50R",
        "outputId": "79315e44-311a-453e-cd85-ea42ffefae07"
      },
      "outputs": [
        {
          "name": "stdout",
          "output_type": "stream",
          "text": [
            "g-mean =  0.2700728114473707\n",
            "F1-score =  0.12345679012345678\n"
          ]
        }
      ],
      "source": [
        "print(\"g-mean = \",g_mean_bag)\n",
        "print(\"F1-score = \",f1_bag)"
      ]
    },
    {
      "cell_type": "markdown",
      "metadata": {
        "id": "eSvTV4Vj0kbB"
      },
      "source": [
        "## AdaBoost"
      ]
    },
    {
      "cell_type": "code",
      "execution_count": 86,
      "metadata": {
        "colab": {
          "base_uri": "https://localhost:8080/"
        },
        "id": "MHe9q6W20kbC",
        "outputId": "51c27ee8-d7d2-4b2e-ebb6-b1ac3ce7a107"
      },
      "outputs": [
        {
          "data": {
            "text/plain": [
              "AdaBoostClassifier()"
            ]
          },
          "execution_count": 86,
          "metadata": {},
          "output_type": "execute_result"
        }
      ],
      "source": [
        "ada = AdaBoostClassifier()\n",
        "ada.fit(X_train, y_train)"
      ]
    },
    {
      "cell_type": "code",
      "execution_count": 87,
      "metadata": {
        "id": "7VLi0d_U0kbC"
      },
      "outputs": [],
      "source": [
        "pred = ada.predict(X_test)"
      ]
    },
    {
      "cell_type": "code",
      "execution_count": 88,
      "metadata": {
        "colab": {
          "base_uri": "https://localhost:8080/"
        },
        "id": "GwGNUcldSnvm",
        "outputId": "fc4171e1-e76d-4829-c452-b45bcd9683df"
      },
      "outputs": [
        {
          "name": "stdout",
          "output_type": "stream",
          "text": [
            "[[392   6]\n",
            " [ 66   1]]\n"
          ]
        }
      ],
      "source": [
        "conf = confusion_matrix(y_test, pred)\n",
        "print(conf)"
      ]
    },
    {
      "cell_type": "code",
      "execution_count": 89,
      "metadata": {
        "id": "OY9EMJJ0Snvm"
      },
      "outputs": [],
      "source": [
        "true_negative_rate = conf[0][0]/(conf[0][0]+conf[0][1])\n",
        "true_positive_rate = conf[1][1]/(conf[1][1]+conf[1][0])\n",
        "g_mean_ada = math.sqrt(true_positive_rate*true_negative_rate)"
      ]
    },
    {
      "cell_type": "code",
      "execution_count": 90,
      "metadata": {
        "id": "-SHpz1EtSnvm"
      },
      "outputs": [],
      "source": [
        "f1_ada = f1_score(y_test, pred)"
      ]
    },
    {
      "cell_type": "code",
      "execution_count": 91,
      "metadata": {
        "colab": {
          "base_uri": "https://localhost:8080/"
        },
        "id": "HDA0Bo0FSnvm",
        "outputId": "8e1c909f-683b-4736-a3e1-74bf80ff2635"
      },
      "outputs": [
        {
          "name": "stdout",
          "output_type": "stream",
          "text": [
            "g-mean =  0.12124507210269508\n",
            "F1-score =  0.02702702702702703\n"
          ]
        }
      ],
      "source": [
        "print(\"g-mean = \",g_mean_ada)\n",
        "print(\"F1-score = \",f1_ada)"
      ]
    },
    {
      "cell_type": "markdown",
      "metadata": {
        "id": "cCSZXA940kbD"
      },
      "source": [
        "## Easy Ensemble"
      ]
    },
    {
      "cell_type": "code",
      "execution_count": 92,
      "metadata": {
        "colab": {
          "base_uri": "https://localhost:8080/",
          "height": 328
        },
        "id": "UDwArmgn0kbD",
        "outputId": "1020c4d7-1877-4998-f04a-869e5311db87"
      },
      "outputs": [
        {
          "data": {
            "text/plain": [
              "EasyEnsembleClassifier(random_state=42)"
            ]
          },
          "execution_count": 92,
          "metadata": {},
          "output_type": "execute_result"
        }
      ],
      "source": [
        "easy_ensemble = EasyEnsembleClassifier(random_state=42)\n",
        "easy_ensemble.fit(X_smote, y_smote)"
      ]
    },
    {
      "cell_type": "code",
      "execution_count": 93,
      "metadata": {
        "id": "5RZucfES0kbD"
      },
      "outputs": [],
      "source": [
        "pred = easy_ensemble.predict(X_test)"
      ]
    },
    {
      "cell_type": "code",
      "execution_count": 94,
      "metadata": {
        "id": "TUqQneq6Spl1"
      },
      "outputs": [
        {
          "name": "stdout",
          "output_type": "stream",
          "text": [
            "[[246 152]\n",
            " [ 39  28]]\n"
          ]
        }
      ],
      "source": [
        "conf = confusion_matrix(y_test, pred)\n",
        "print(conf)"
      ]
    },
    {
      "cell_type": "code",
      "execution_count": 95,
      "metadata": {
        "id": "3l03g8YXSpl1"
      },
      "outputs": [],
      "source": [
        "true_negative_rate = conf[0][0]/(conf[0][0]+conf[0][1])\n",
        "true_positive_rate = conf[1][1]/(conf[1][1]+conf[1][0])\n",
        "g_mean_ez = math.sqrt(true_positive_rate*true_negative_rate)"
      ]
    },
    {
      "cell_type": "code",
      "execution_count": 96,
      "metadata": {
        "id": "7E75GTvASpl2"
      },
      "outputs": [],
      "source": [
        "f1_ez = f1_score(y_test, pred)"
      ]
    },
    {
      "cell_type": "code",
      "execution_count": 97,
      "metadata": {
        "id": "WEQp6TPuSpl2"
      },
      "outputs": [
        {
          "name": "stdout",
          "output_type": "stream",
          "text": [
            "g-mean =  0.5082385834049217\n",
            "F1-score =  0.22672064777327933\n"
          ]
        }
      ],
      "source": [
        "print(\"g-mean = \",g_mean_ez)\n",
        "print(\"F1-score = \",f1_ez)"
      ]
    },
    {
      "cell_type": "markdown",
      "metadata": {
        "id": "6nCzrk100kbE"
      },
      "source": [
        "## RusBoost"
      ]
    },
    {
      "cell_type": "code",
      "execution_count": 98,
      "metadata": {
        "colab": {
          "base_uri": "https://localhost:8080/"
        },
        "id": "V3e4RhLA0kbE",
        "outputId": "81436630-678d-41f3-d5a8-d8be655c7b91"
      },
      "outputs": [
        {
          "data": {
            "text/plain": [
              "AdaBoostClassifier()"
            ]
          },
          "execution_count": 98,
          "metadata": {},
          "output_type": "execute_result"
        }
      ],
      "source": [
        "rus = AdaBoostClassifier()\n",
        "rus.fit(X_under, y_under)"
      ]
    },
    {
      "cell_type": "code",
      "execution_count": 99,
      "metadata": {
        "id": "qJPlON-H0kbE"
      },
      "outputs": [],
      "source": [
        "pred = rus.predict(X_test)"
      ]
    },
    {
      "cell_type": "code",
      "execution_count": 100,
      "metadata": {
        "colab": {
          "base_uri": "https://localhost:8080/"
        },
        "id": "H1EGACQeSr02",
        "outputId": "1d00719e-d8e8-4639-b635-4c690017ef38"
      },
      "outputs": [
        {
          "name": "stdout",
          "output_type": "stream",
          "text": [
            "[[324  74]\n",
            " [ 51  16]]\n"
          ]
        }
      ],
      "source": [
        "conf = confusion_matrix(y_test, pred)\n",
        "print(conf)"
      ]
    },
    {
      "cell_type": "code",
      "execution_count": 101,
      "metadata": {
        "id": "opvBK4GJSr02"
      },
      "outputs": [],
      "source": [
        "true_negative_rate = conf[0][0]/(conf[0][0]+conf[0][1])\n",
        "true_positive_rate = conf[1][1]/(conf[1][1]+conf[1][0])\n",
        "g_mean_rus = math.sqrt(true_positive_rate*true_negative_rate)"
      ]
    },
    {
      "cell_type": "code",
      "execution_count": 102,
      "metadata": {
        "id": "bwVNE5VgSr02"
      },
      "outputs": [],
      "source": [
        "f1_rus = f1_score(y_test, pred)"
      ]
    },
    {
      "cell_type": "code",
      "execution_count": 103,
      "metadata": {
        "colab": {
          "base_uri": "https://localhost:8080/"
        },
        "id": "741bPbPXSr02",
        "outputId": "4ab065d1-cc48-4ee0-e781-7c88991920d0"
      },
      "outputs": [
        {
          "name": "stdout",
          "output_type": "stream",
          "text": [
            "g-mean =  0.4409136651562333\n",
            "F1-score =  0.20382165605095542\n"
          ]
        }
      ],
      "source": [
        "print(\"g-mean = \",g_mean_rus)\n",
        "print(\"F1-score = \",f1_rus)"
      ]
    },
    {
      "cell_type": "markdown",
      "metadata": {
        "id": "CdVEsya90kbE"
      },
      "source": [
        "## Smote Boost"
      ]
    },
    {
      "cell_type": "code",
      "execution_count": 104,
      "metadata": {
        "colab": {
          "base_uri": "https://localhost:8080/"
        },
        "id": "FixYD3KP0kbF",
        "outputId": "91aeb735-9fa5-47fc-9879-3c1610cdac83"
      },
      "outputs": [
        {
          "data": {
            "text/plain": [
              "AdaBoostClassifier()"
            ]
          },
          "execution_count": 104,
          "metadata": {},
          "output_type": "execute_result"
        }
      ],
      "source": [
        "smote_boost = AdaBoostClassifier()\n",
        "smote_boost.fit(X_smote,y_smote)"
      ]
    },
    {
      "cell_type": "code",
      "execution_count": 105,
      "metadata": {
        "colab": {
          "base_uri": "https://localhost:8080/"
        },
        "id": "UvVdWIK00kbF",
        "outputId": "09473906-953b-4e45-b9dd-6328dba54e57"
      },
      "outputs": [],
      "source": [
        "pred = smote_boost.predict(X_test)"
      ]
    },
    {
      "cell_type": "code",
      "execution_count": 106,
      "metadata": {
        "colab": {
          "base_uri": "https://localhost:8080/"
        },
        "id": "1mI23hgiStfg",
        "outputId": "ae910797-0f47-4f33-dd8f-bc286d8f03d4"
      },
      "outputs": [
        {
          "name": "stdout",
          "output_type": "stream",
          "text": [
            "[[246 152]\n",
            " [ 39  28]]\n"
          ]
        }
      ],
      "source": [
        "conf = confusion_matrix(y_test, pred)\n",
        "print(conf)"
      ]
    },
    {
      "cell_type": "code",
      "execution_count": 107,
      "metadata": {
        "id": "DLK7fNDKStfg"
      },
      "outputs": [],
      "source": [
        "true_negative_rate = conf[0][0]/(conf[0][0]+conf[0][1])\n",
        "true_positive_rate = conf[1][1]/(conf[1][1]+conf[1][0])\n",
        "g_mean_smb = math.sqrt(true_positive_rate*true_negative_rate)"
      ]
    },
    {
      "cell_type": "code",
      "execution_count": 108,
      "metadata": {
        "id": "NgAoiLkgStfg"
      },
      "outputs": [],
      "source": [
        "f1_smb = f1_score(y_test, pred)"
      ]
    },
    {
      "cell_type": "code",
      "execution_count": 109,
      "metadata": {
        "colab": {
          "base_uri": "https://localhost:8080/"
        },
        "id": "7gsMh2XjStfh",
        "outputId": "42f3e4fe-e647-4d6f-8fd8-16b8ec32800b"
      },
      "outputs": [
        {
          "name": "stdout",
          "output_type": "stream",
          "text": [
            "g-mean =  0.5082385834049217\n",
            "F1-score =  0.22672064777327933\n"
          ]
        }
      ],
      "source": [
        "print(\"g-mean = \",g_mean_smb)\n",
        "print(\"F1-score = \",f1_smb)"
      ]
    },
    {
      "cell_type": "markdown",
      "metadata": {
        "id": "ggu7x4Zx0kbF"
      },
      "source": [
        "## Under Bagging"
      ]
    },
    {
      "cell_type": "code",
      "execution_count": 110,
      "metadata": {
        "colab": {
          "base_uri": "https://localhost:8080/"
        },
        "id": "xZL64Bkk0kbG",
        "outputId": "e62cebdb-f1e9-4ae3-82e3-ee595a7dcbe5"
      },
      "outputs": [
        {
          "data": {
            "text/plain": [
              "BaggingClassifier()"
            ]
          },
          "execution_count": 110,
          "metadata": {},
          "output_type": "execute_result"
        }
      ],
      "source": [
        "under_bagging = BaggingClassifier()\n",
        "under_bagging.fit(X_under, y_under)"
      ]
    },
    {
      "cell_type": "code",
      "execution_count": 111,
      "metadata": {
        "id": "OIOt0kxV0kbG"
      },
      "outputs": [],
      "source": [
        "pred = under_bagging.predict(X_test)"
      ]
    },
    {
      "cell_type": "code",
      "execution_count": 112,
      "metadata": {
        "colab": {
          "base_uri": "https://localhost:8080/"
        },
        "id": "BT8oEC9US23q",
        "outputId": "26a0751b-531d-4b21-acbf-cc25be4d0ed9"
      },
      "outputs": [
        {
          "name": "stdout",
          "output_type": "stream",
          "text": [
            "[[351  47]\n",
            " [ 57  10]]\n"
          ]
        }
      ],
      "source": [
        "conf = confusion_matrix(y_test, pred)\n",
        "print(conf)"
      ]
    },
    {
      "cell_type": "code",
      "execution_count": 113,
      "metadata": {
        "id": "CqKpMf2yS23q"
      },
      "outputs": [],
      "source": [
        "true_negative_rate = conf[0][0]/(conf[0][0]+conf[0][1])\n",
        "true_positive_rate = conf[1][1]/(conf[1][1]+conf[1][0])\n",
        "g_mean_ubag = math.sqrt(true_positive_rate*true_negative_rate)"
      ]
    },
    {
      "cell_type": "code",
      "execution_count": 114,
      "metadata": {
        "id": "lJc7qmNSS23q"
      },
      "outputs": [],
      "source": [
        "f1_ubag = f1_score(y_test, pred)"
      ]
    },
    {
      "cell_type": "code",
      "execution_count": 115,
      "metadata": {
        "colab": {
          "base_uri": "https://localhost:8080/"
        },
        "id": "0udmE8NrS23q",
        "outputId": "2e1f12a6-87e7-4a84-a416-83491513c3a4"
      },
      "outputs": [
        {
          "name": "stdout",
          "output_type": "stream",
          "text": [
            "g-mean =  0.36280613377845156\n",
            "F1-score =  0.16129032258064516\n"
          ]
        }
      ],
      "source": [
        "print(\"g-mean = \",g_mean_ubag)\n",
        "print(\"F1-score = \",f1_ubag)"
      ]
    },
    {
      "cell_type": "markdown",
      "metadata": {
        "id": "OpUcQzcuV4XK"
      },
      "source": [
        "## Over Bagging"
      ]
    },
    {
      "cell_type": "code",
      "execution_count": 116,
      "metadata": {
        "colab": {
          "base_uri": "https://localhost:8080/"
        },
        "id": "PThRYWGUWGB6",
        "outputId": "c0501e0c-7018-46bc-8b1a-6bb4c5160adf"
      },
      "outputs": [
        {
          "data": {
            "text/plain": [
              "BaggingClassifier()"
            ]
          },
          "execution_count": 116,
          "metadata": {},
          "output_type": "execute_result"
        }
      ],
      "source": [
        "over_bagging = BaggingClassifier()\n",
        "over_bagging.fit(X_over, y_over)"
      ]
    },
    {
      "cell_type": "code",
      "execution_count": 117,
      "metadata": {
        "id": "t9Yd0jWcWGB6"
      },
      "outputs": [],
      "source": [
        "pred = over_bagging.predict(X_test)"
      ]
    },
    {
      "cell_type": "code",
      "execution_count": 118,
      "metadata": {
        "colab": {
          "base_uri": "https://localhost:8080/"
        },
        "id": "Eji2n2pGWGB6",
        "outputId": "0edd81a4-d2cf-4306-d742-6ba0c7c72904"
      },
      "outputs": [
        {
          "name": "stdout",
          "output_type": "stream",
          "text": [
            "[[385  13]\n",
            " [ 61   6]]\n"
          ]
        }
      ],
      "source": [
        "conf = confusion_matrix(y_test, pred)\n",
        "print(conf)"
      ]
    },
    {
      "cell_type": "code",
      "execution_count": 119,
      "metadata": {
        "id": "hCusvbU8WGB6"
      },
      "outputs": [],
      "source": [
        "true_negative_rate = conf[0][0]/(conf[0][0]+conf[0][1])\n",
        "true_positive_rate = conf[1][1]/(conf[1][1]+conf[1][0])\n",
        "g_mean_obag = math.sqrt(true_positive_rate*true_negative_rate)"
      ]
    },
    {
      "cell_type": "code",
      "execution_count": 120,
      "metadata": {
        "id": "tUzb-M45WGB7"
      },
      "outputs": [],
      "source": [
        "f1_obag = f1_score(y_test, pred)"
      ]
    },
    {
      "cell_type": "code",
      "execution_count": 121,
      "metadata": {
        "colab": {
          "base_uri": "https://localhost:8080/"
        },
        "id": "Cx3-NiNXWGB7",
        "outputId": "9ebe3ed2-301a-44fc-82bf-eee75ae870a1"
      },
      "outputs": [
        {
          "name": "stdout",
          "output_type": "stream",
          "text": [
            "g-mean =  0.29432493213987493\n",
            "F1-score =  0.13953488372093023\n"
          ]
        }
      ],
      "source": [
        "print(\"g-mean = \",g_mean_obag)\n",
        "print(\"F1-score = \",f1_obag)"
      ]
    },
    {
      "cell_type": "markdown",
      "metadata": {
        "id": "pkRaXA7DU8oe"
      },
      "source": [
        "## Results"
      ]
    },
    {
      "cell_type": "code",
      "execution_count": 122,
      "metadata": {
        "id": "kKedNOEnVBAJ"
      },
      "outputs": [],
      "source": [
        "models = [\"Decision Tree\",\"Bagging\", \"AdaBoost\", \"Easy Ensemble\",\"RusBoost\",\"Smote Boost\",\"Under Bagging\", \"Over Bagging\"]\n",
        "g_mean_score = [g_mean_dec,g_mean_bag,g_mean_ada,g_mean_ez,g_mean_rus,g_mean_smb,g_mean_ubag,g_mean_obag]\n",
        "F1_score = [f1_dec,f1_bag,f1_ada,f1_ez,f1_rus,f1_smb,f1_ubag,f1_obag]"
      ]
    },
    {
      "cell_type": "code",
      "execution_count": 123,
      "metadata": {
        "id": "X0_Ad7WbWbJQ"
      },
      "outputs": [],
      "source": [
        "result_data = {\n",
        "    'Models': models,\n",
        "    'g-mean': g_mean_score,\n",
        "    'F1-score': F1_score\n",
        "}\n",
        "result_df = pd.DataFrame(result_data)"
      ]
    },
    {
      "cell_type": "code",
      "execution_count": 124,
      "metadata": {
        "colab": {
          "base_uri": "https://localhost:8080/",
          "height": 269
        },
        "id": "JYYgNAKzYCQc",
        "outputId": "12a3fbb6-1480-424d-85aa-3ef2d1ff596e"
      },
      "outputs": [
        {
          "data": {
            "text/html": [
              "<div>\n",
              "<style scoped>\n",
              "    .dataframe tbody tr th:only-of-type {\n",
              "        vertical-align: middle;\n",
              "    }\n",
              "\n",
              "    .dataframe tbody tr th {\n",
              "        vertical-align: top;\n",
              "    }\n",
              "\n",
              "    .dataframe thead th {\n",
              "        text-align: right;\n",
              "    }\n",
              "</style>\n",
              "<table border=\"1\" class=\"dataframe\">\n",
              "  <thead>\n",
              "    <tr style=\"text-align: right;\">\n",
              "      <th></th>\n",
              "      <th>Models</th>\n",
              "      <th>g-mean</th>\n",
              "      <th>F1-score</th>\n",
              "    </tr>\n",
              "  </thead>\n",
              "  <tbody>\n",
              "    <tr>\n",
              "      <th>0</th>\n",
              "      <td>Decision Tree</td>\n",
              "      <td>0.439892</td>\n",
              "      <td>0.220588</td>\n",
              "    </tr>\n",
              "    <tr>\n",
              "      <th>1</th>\n",
              "      <td>Bagging</td>\n",
              "      <td>0.270073</td>\n",
              "      <td>0.123457</td>\n",
              "    </tr>\n",
              "    <tr>\n",
              "      <th>2</th>\n",
              "      <td>AdaBoost</td>\n",
              "      <td>0.121245</td>\n",
              "      <td>0.027027</td>\n",
              "    </tr>\n",
              "    <tr>\n",
              "      <th>3</th>\n",
              "      <td>Easy Ensemble</td>\n",
              "      <td>0.508239</td>\n",
              "      <td>0.226721</td>\n",
              "    </tr>\n",
              "    <tr>\n",
              "      <th>4</th>\n",
              "      <td>RusBoost</td>\n",
              "      <td>0.440914</td>\n",
              "      <td>0.203822</td>\n",
              "    </tr>\n",
              "    <tr>\n",
              "      <th>5</th>\n",
              "      <td>Smote Boost</td>\n",
              "      <td>0.508239</td>\n",
              "      <td>0.226721</td>\n",
              "    </tr>\n",
              "    <tr>\n",
              "      <th>6</th>\n",
              "      <td>Under Bagging</td>\n",
              "      <td>0.362806</td>\n",
              "      <td>0.161290</td>\n",
              "    </tr>\n",
              "    <tr>\n",
              "      <th>7</th>\n",
              "      <td>Over Bagging</td>\n",
              "      <td>0.294325</td>\n",
              "      <td>0.139535</td>\n",
              "    </tr>\n",
              "  </tbody>\n",
              "</table>\n",
              "</div>"
            ],
            "text/plain": [
              "          Models    g-mean  F1-score\n",
              "0  Decision Tree  0.439892  0.220588\n",
              "1        Bagging  0.270073  0.123457\n",
              "2       AdaBoost  0.121245  0.027027\n",
              "3  Easy Ensemble  0.508239  0.226721\n",
              "4       RusBoost  0.440914  0.203822\n",
              "5    Smote Boost  0.508239  0.226721\n",
              "6  Under Bagging  0.362806  0.161290\n",
              "7   Over Bagging  0.294325  0.139535"
            ]
          },
          "execution_count": 124,
          "metadata": {},
          "output_type": "execute_result"
        }
      ],
      "source": [
        "result_df"
      ]
    }
  ],
  "metadata": {
    "colab": {
      "name": "ECIP.ipynb",
      "provenance": []
    },
    "interpreter": {
      "hash": "5ad06826974dc060fa37eead2112af9e641fe3b133a4323218f615d88ba76b28"
    },
    "kernelspec": {
      "display_name": "Python 3.7.10 64-bit ('mlenv': conda)",
      "language": "python",
      "name": "python3"
    },
    "language_info": {
      "codemirror_mode": {
        "name": "ipython",
        "version": 3
      },
      "file_extension": ".py",
      "mimetype": "text/x-python",
      "name": "python",
      "nbconvert_exporter": "python",
      "pygments_lexer": "ipython3",
      "version": "3.7.10"
    },
    "orig_nbformat": 4
  },
  "nbformat": 4,
  "nbformat_minor": 0
}
